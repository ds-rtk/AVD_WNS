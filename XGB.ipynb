{
 "cells": [
  {
   "cell_type": "code",
   "execution_count": 58,
   "metadata": {
    "collapsed": false
   },
   "outputs": [],
   "source": [
    "import numpy as np\n",
    "import pandas as pd\n",
    "from datetime import datetime\n",
    "from sklearn.model_selection import RandomizedSearchCV, GridSearchCV\n",
    "from sklearn.metrics import roc_auc_score\n",
    "from sklearn.model_selection import StratifiedKFold\n",
    "from xgboost import XGBClassifier"
   ]
  },
  {
   "cell_type": "code",
   "execution_count": 59,
   "metadata": {
    "collapsed": true
   },
   "outputs": [],
   "source": [
    "train_raw = pd.read_csv(\"/Users/reetkanjilal/Hack/AVD_WNS/train_mod.csv\")\n",
    "test_raw = pd.read_csv(\"/Users/reetkanjilal/Hack/AVD_WNS/test_mod.csv\")"
   ]
  },
  {
   "cell_type": "markdown",
   "metadata": {},
   "source": [
    "recruitment_channel"
   ]
  },
  {
   "cell_type": "code",
   "execution_count": 65,
   "metadata": {
    "collapsed": false
   },
   "outputs": [
    {
     "data": {
      "text/plain": [
       "other       24400\n",
       "sourcing    18545\n",
       "referred      907\n",
       "Name: recruitment_channel, dtype: int64"
      ]
     },
     "execution_count": 65,
     "metadata": {},
     "output_type": "execute_result"
    }
   ],
   "source": [
    "train_raw['recruitment_channel'].value_counts()"
   ]
  },
  {
   "cell_type": "code",
   "execution_count": 66,
   "metadata": {
    "collapsed": false
   },
   "outputs": [
    {
     "data": {
      "text/plain": [
       "0    25307\n",
       "1    18545\n",
       "Name: recruitment_channel_sourcing, dtype: int64"
      ]
     },
     "execution_count": 66,
     "metadata": {},
     "output_type": "execute_result"
    }
   ],
   "source": [
    "train_raw['recruitment_channel_sourcing'] = np.where(train_raw['recruitment_channel'] == 'sourcing',1,0)\n",
    "\n",
    "test_raw['recruitment_channel_sourcing'] = np.where(test_raw['recruitment_channel'] == 'sourcing',1,0)\n",
    "\n",
    "train_raw['recruitment_channel_sourcing'].value_counts()"
   ]
  },
  {
   "cell_type": "code",
   "execution_count": 67,
   "metadata": {
    "collapsed": false
   },
   "outputs": [
    {
     "data": {
      "text/plain": [
       "0    42945\n",
       "1      907\n",
       "Name: recruitment_channel_referred, dtype: int64"
      ]
     },
     "execution_count": 67,
     "metadata": {},
     "output_type": "execute_result"
    }
   ],
   "source": [
    "train_raw['recruitment_channel_referred'] = np.where(train_raw['recruitment_channel'] == 'referred',1,0)\n",
    "\n",
    "test_raw['recruitment_channel_referred'] = np.where(test_raw['recruitment_channel'] == 'referred',1,0)\n",
    "\n",
    "train_raw['recruitment_channel_referred'].value_counts()"
   ]
  },
  {
   "cell_type": "markdown",
   "metadata": {},
   "source": [
    "education"
   ]
  },
  {
   "cell_type": "code",
   "execution_count": 70,
   "metadata": {
    "collapsed": false
   },
   "outputs": [
    {
     "data": {
      "text/plain": [
       "Bachelor's          29336\n",
       "Master's & above    11918\n",
       "Below Secondary       640\n",
       "Name: education, dtype: int64"
      ]
     },
     "execution_count": 70,
     "metadata": {},
     "output_type": "execute_result"
    }
   ],
   "source": [
    "train_raw['education'].value_counts()"
   ]
  },
  {
   "cell_type": "code",
   "execution_count": 71,
   "metadata": {
    "collapsed": false
   },
   "outputs": [
    {
     "name": "stdout",
     "output_type": "stream",
     "text": [
      "MS count: 0    31934\n",
      "1    11918\n",
      "Name: education_MS, dtype: int64\n",
      "Sec count: 0    43212\n",
      "1      640\n",
      "Name: education_Sec, dtype: int64\n"
     ]
    }
   ],
   "source": [
    "train_raw['education_MS'] = np.where(train_raw['education'] == \"Master's & above\",1,0)\n",
    "\n",
    "test_raw['education_MS'] = np.where(test_raw['education'] == \"Master's & above\",1,0)\n",
    "\n",
    "print ('MS count:',train_raw['education_MS'].value_counts())\n",
    "\n",
    "train_raw['education_Sec'] = np.where(train_raw['education'] == 'Below Secondary',1,0)\n",
    "\n",
    "test_raw['education_Sec'] = np.where(test_raw['education'] == 'Below Secondary',1,0)\n",
    "\n",
    "print ('Sec count:', train_raw['education_Sec'].value_counts())"
   ]
  },
  {
   "cell_type": "markdown",
   "metadata": {},
   "source": [
    "gender"
   ]
  },
  {
   "cell_type": "code",
   "execution_count": 74,
   "metadata": {
    "collapsed": false
   },
   "outputs": [
    {
     "name": "stdout",
     "output_type": "stream",
     "text": [
      "Gender cnt: m    30788\n",
      "f    13064\n",
      "Name: gender, dtype: int64\n",
      "gender_m cnt 1    30788\n",
      "0    13064\n",
      "Name: gender_m, dtype: int64\n"
     ]
    }
   ],
   "source": [
    "print ('Gender cnt:', train_raw['gender'].value_counts())\n",
    "\n",
    "train_raw['gender_m'] = np.where(train_raw['gender'] == \"m\",1,0)\n",
    "\n",
    "test_raw['gender_m'] = np.where(test_raw['gender'] == \"m\",1,0)\n",
    "\n",
    "print ('gender_m cnt',train_raw['gender_m'].value_counts())\n"
   ]
  },
  {
   "cell_type": "code",
   "execution_count": 76,
   "metadata": {
    "collapsed": false
   },
   "outputs": [
    {
     "name": "stdout",
     "output_type": "stream",
     "text": [
      "<class 'pandas.core.frame.DataFrame'>\n",
      "RangeIndex: 43852 entries, 0 to 43851\n",
      "Data columns (total 31 columns):\n",
      "Unnamed: 0                      43852 non-null int64\n",
      "employee_id                     43852 non-null int64\n",
      "department                      43852 non-null object\n",
      "region                          43852 non-null object\n",
      "education                       41894 non-null object\n",
      "gender                          43852 non-null object\n",
      "recruitment_channel             43852 non-null object\n",
      "no_of_trainings                 43852 non-null int64\n",
      "age                             43852 non-null int64\n",
      "previous_year_rating            43852 non-null int64\n",
      "length_of_service               43852 non-null int64\n",
      "KPIs_met >80%                   43852 non-null int64\n",
      "awards_won?                     43852 non-null int64\n",
      "avg_training_score              43852 non-null int64\n",
      "is_promoted                     43852 non-null int64\n",
      "age_group_1                     43852 non-null int64\n",
      "age_group_2                     43852 non-null int64\n",
      "age_group_3                     43852 non-null int64\n",
      "avg_traiing_score_1             43852 non-null int64\n",
      "avg_traiing_score_2             43852 non-null int64\n",
      "avg_traiing_score_3             43852 non-null int64\n",
      "avg_traiing_score_4             43852 non-null int64\n",
      "avg_traiing_score_5             43852 non-null int64\n",
      "avg_traiing_score_6             43852 non-null int64\n",
      "avg_traiing_score_7             43852 non-null int64\n",
      "avg_traiing_score_8             43852 non-null int64\n",
      "recruitment_channel_sourcing    43852 non-null int64\n",
      "recruitment_channel_referred    43852 non-null int64\n",
      "education_MS                    43852 non-null int64\n",
      "education_Sec                   43852 non-null int64\n",
      "gender_m                        43852 non-null int64\n",
      "dtypes: int64(26), object(5)\n",
      "memory usage: 10.4+ MB\n"
     ]
    }
   ],
   "source": [
    "train_raw.info()"
   ]
  },
  {
   "cell_type": "code",
   "execution_count": 77,
   "metadata": {
    "collapsed": true
   },
   "outputs": [],
   "source": [
    "train_mod = train_raw.drop(['employee_id','Unnamed: 0','department','region','education','recruitment_channel','gender',], axis=1)\n",
    "\n",
    "test_mod= test_raw.drop(['employee_id','Unnamed: 0','department','region','education','recruitment_channel','gender',], axis=1)"
   ]
  },
  {
   "cell_type": "code",
   "execution_count": 78,
   "metadata": {
    "collapsed": false
   },
   "outputs": [
    {
     "name": "stdout",
     "output_type": "stream",
     "text": [
      "<class 'pandas.core.frame.DataFrame'>\n",
      "RangeIndex: 43852 entries, 0 to 43851\n",
      "Data columns (total 24 columns):\n",
      "no_of_trainings                 43852 non-null int64\n",
      "age                             43852 non-null int64\n",
      "previous_year_rating            43852 non-null int64\n",
      "length_of_service               43852 non-null int64\n",
      "KPIs_met >80%                   43852 non-null int64\n",
      "awards_won?                     43852 non-null int64\n",
      "avg_training_score              43852 non-null int64\n",
      "is_promoted                     43852 non-null int64\n",
      "age_group_1                     43852 non-null int64\n",
      "age_group_2                     43852 non-null int64\n",
      "age_group_3                     43852 non-null int64\n",
      "avg_traiing_score_1             43852 non-null int64\n",
      "avg_traiing_score_2             43852 non-null int64\n",
      "avg_traiing_score_3             43852 non-null int64\n",
      "avg_traiing_score_4             43852 non-null int64\n",
      "avg_traiing_score_5             43852 non-null int64\n",
      "avg_traiing_score_6             43852 non-null int64\n",
      "avg_traiing_score_7             43852 non-null int64\n",
      "avg_traiing_score_8             43852 non-null int64\n",
      "recruitment_channel_sourcing    43852 non-null int64\n",
      "recruitment_channel_referred    43852 non-null int64\n",
      "education_MS                    43852 non-null int64\n",
      "education_Sec                   43852 non-null int64\n",
      "gender_m                        43852 non-null int64\n",
      "dtypes: int64(24)\n",
      "memory usage: 8.0 MB\n"
     ]
    }
   ],
   "source": [
    "train_mod.info()"
   ]
  },
  {
   "cell_type": "code",
   "execution_count": null,
   "metadata": {
    "collapsed": true
   },
   "outputs": [],
   "source": []
  },
  {
   "cell_type": "code",
   "execution_count": null,
   "metadata": {
    "collapsed": true
   },
   "outputs": [],
   "source": []
  },
  {
   "cell_type": "code",
   "execution_count": 79,
   "metadata": {
    "collapsed": true
   },
   "outputs": [],
   "source": [
    "def timer(start_time=None):\n",
    "    if not start_time:\n",
    "        start_time = datetime.now()\n",
    "        return start_time\n",
    "    elif start_time:\n",
    "        thour, temp_sec = divmod((datetime.now() - start_time).total_seconds(), 3600)\n",
    "        tmin, tsec = divmod(temp_sec, 60)\n",
    "        print('\\n Time taken: %i hours %i minutes and %s seconds.' % (thour, tmin, round(tsec, 2)))\n"
   ]
  },
  {
   "cell_type": "code",
   "execution_count": 80,
   "metadata": {
    "collapsed": true
   },
   "outputs": [],
   "source": [
    "Y = train_mod['is_promoted'].values\n",
    "X = train_mod.drop(['is_promoted'], axis=1)"
   ]
  },
  {
   "cell_type": "code",
   "execution_count": 81,
   "metadata": {
    "collapsed": true
   },
   "outputs": [],
   "source": [
    "# A parameter grid for XGBoost\n",
    "params = {\n",
    "        'min_child_weight': [1, 5, 10],\n",
    "        'gamma': [0.5, 1, 1.5, 2, 5],\n",
    "        'subsample': [0.6, 0.8, 1.0],\n",
    "        'colsample_bytree': [0.6, 0.8, 1.0],\n",
    "        'max_depth': [3, 4, 5]\n",
    "        }"
   ]
  },
  {
   "cell_type": "code",
   "execution_count": 90,
   "metadata": {
    "collapsed": true
   },
   "outputs": [],
   "source": [
    "xgb = XGBClassifier(learning_rate=0.02, n_estimators=500, objective='binary:logistic',\n",
    "                    silent=True, nthread=1)"
   ]
  },
  {
   "cell_type": "code",
   "execution_count": 101,
   "metadata": {
    "collapsed": true
   },
   "outputs": [],
   "source": [
    "folds = 3\n",
    "param_comb = 100\n",
    "\n",
    "skf = StratifiedKFold(n_splits=folds, shuffle = True, random_state = 1001)\n",
    "\n",
    "random_search = RandomizedSearchCV(xgb, param_distributions=params, n_iter=param_comb, scoring='roc_auc', n_jobs=4, cv=skf.split(X,Y), verbose=3, random_state=1001 )"
   ]
  },
  {
   "cell_type": "code",
   "execution_count": 102,
   "metadata": {
    "collapsed": false
   },
   "outputs": [
    {
     "name": "stdout",
     "output_type": "stream",
     "text": [
      "Fitting 3 folds for each of 100 candidates, totalling 300 fits\n",
      "[CV] subsample=1.0, min_child_weight=5, gamma=5, colsample_bytree=1.0, max_depth=3 \n",
      "[CV] subsample=1.0, min_child_weight=5, gamma=5, colsample_bytree=1.0, max_depth=3 \n",
      "[CV] subsample=1.0, min_child_weight=5, gamma=5, colsample_bytree=1.0, max_depth=3 \n",
      "[CV] subsample=0.6, min_child_weight=1, gamma=1.5, colsample_bytree=0.8, max_depth=5 \n",
      "[CV]  subsample=1.0, min_child_weight=5, gamma=5, colsample_bytree=1.0, max_depth=3, score=0.8386547226567144, total=  11.3s\n",
      "[CV] subsample=0.6, min_child_weight=1, gamma=1.5, colsample_bytree=0.8, max_depth=5 \n",
      "[CV]  subsample=1.0, min_child_weight=5, gamma=5, colsample_bytree=1.0, max_depth=3, score=0.8404491428301374, total=  11.4s\n",
      "[CV] subsample=0.6, min_child_weight=1, gamma=1.5, colsample_bytree=0.8, max_depth=5 \n",
      "[CV]  subsample=1.0, min_child_weight=5, gamma=5, colsample_bytree=1.0, max_depth=3, score=0.8324852367868386, total=  11.7s\n",
      "[CV] subsample=0.8, min_child_weight=5, gamma=1, colsample_bytree=0.8, max_depth=5 \n",
      "[CV]  subsample=0.6, min_child_weight=1, gamma=1.5, colsample_bytree=0.8, max_depth=5, score=0.8444005718404045, total=  21.0s\n",
      "[CV] subsample=0.8, min_child_weight=5, gamma=1, colsample_bytree=0.8, max_depth=5 \n",
      "[CV]  subsample=0.8, min_child_weight=5, gamma=1, colsample_bytree=0.8, max_depth=5, score=0.8441153014567753, total=  23.9s\n",
      "[CV] subsample=0.8, min_child_weight=5, gamma=1, colsample_bytree=0.8, max_depth=5 \n",
      "[CV]  subsample=0.6, min_child_weight=1, gamma=1.5, colsample_bytree=0.8, max_depth=5, score=0.8354698410755375, total=  25.7s\n",
      "[CV] subsample=1.0, min_child_weight=5, gamma=5, colsample_bytree=0.6, max_depth=5 \n",
      "[CV]  subsample=0.6, min_child_weight=1, gamma=1.5, colsample_bytree=0.8, max_depth=5, score=0.8429898103167264, total=  25.6s\n",
      "[CV] subsample=1.0, min_child_weight=5, gamma=5, colsample_bytree=0.6, max_depth=5 \n",
      "[CV]  subsample=0.8, min_child_weight=5, gamma=1, colsample_bytree=0.8, max_depth=5, score=0.834926345219446, total=  22.3s\n",
      "[CV] subsample=1.0, min_child_weight=5, gamma=5, colsample_bytree=0.6, max_depth=5 \n",
      "[CV]  subsample=1.0, min_child_weight=5, gamma=5, colsample_bytree=0.6, max_depth=5, score=0.8346635920459076, total=  12.1s\n",
      "[CV] subsample=0.8, min_child_weight=1, gamma=1, colsample_bytree=1.0, max_depth=4 \n",
      "[CV]  subsample=1.0, min_child_weight=5, gamma=5, colsample_bytree=0.6, max_depth=5, score=0.8428995498529048, total=  12.2s\n",
      "[CV] subsample=0.8, min_child_weight=1, gamma=1, colsample_bytree=1.0, max_depth=4 \n",
      "[CV]  subsample=0.8, min_child_weight=5, gamma=1, colsample_bytree=0.8, max_depth=5, score=0.8430088632449931, total=  17.9s\n",
      "[CV] subsample=0.8, min_child_weight=1, gamma=1, colsample_bytree=1.0, max_depth=4 \n",
      "[CV]  subsample=1.0, min_child_weight=5, gamma=5, colsample_bytree=0.6, max_depth=5, score=0.8428533086399506, total=  12.2s\n",
      "[CV] subsample=1.0, min_child_weight=10, gamma=1.5, colsample_bytree=0.6, max_depth=4 \n",
      "[CV]  subsample=0.8, min_child_weight=1, gamma=1, colsample_bytree=1.0, max_depth=4, score=0.8441977988870379, total=  16.7s\n",
      "[CV] subsample=1.0, min_child_weight=10, gamma=1.5, colsample_bytree=0.6, max_depth=4 \n",
      "[CV]  subsample=0.8, min_child_weight=1, gamma=1, colsample_bytree=1.0, max_depth=4, score=0.8353383611007856, total=  16.6s\n",
      "[CV] subsample=1.0, min_child_weight=10, gamma=1.5, colsample_bytree=0.6, max_depth=4 \n",
      "[CV]  subsample=1.0, min_child_weight=10, gamma=1.5, colsample_bytree=0.6, max_depth=4, score=0.8434974716147403, total=   9.6s\n",
      "[CV] subsample=1.0, min_child_weight=1, gamma=5, colsample_bytree=0.6, max_depth=5 \n",
      "[CV]  subsample=0.8, min_child_weight=1, gamma=1, colsample_bytree=1.0, max_depth=4, score=0.84280049215043, total=  16.6s\n",
      "[CV] subsample=1.0, min_child_weight=1, gamma=5, colsample_bytree=0.6, max_depth=5 \n",
      "[CV]  subsample=1.0, min_child_weight=10, gamma=1.5, colsample_bytree=0.6, max_depth=4, score=0.8350839675841454, total=   9.7s\n",
      "[CV] subsample=1.0, min_child_weight=1, gamma=5, colsample_bytree=0.6, max_depth=5 \n",
      "[CV]  subsample=1.0, min_child_weight=10, gamma=1.5, colsample_bytree=0.6, max_depth=4, score=0.8427022735667294, total=   9.8s\n",
      "[CV] subsample=0.8, min_child_weight=1, gamma=2, colsample_bytree=0.8, max_depth=3 \n",
      "[CV]  subsample=1.0, min_child_weight=1, gamma=5, colsample_bytree=0.6, max_depth=5, score=0.8432222438828435, total=  12.0s\n",
      "[CV] subsample=0.8, min_child_weight=1, gamma=2, colsample_bytree=0.8, max_depth=3 \n",
      "[CV]  subsample=1.0, min_child_weight=1, gamma=5, colsample_bytree=0.6, max_depth=5, score=0.8345050834984982, total=  11.9s\n",
      "[CV] subsample=0.8, min_child_weight=1, gamma=2, colsample_bytree=0.8, max_depth=3 \n",
      "[CV]  subsample=0.8, min_child_weight=1, gamma=2, colsample_bytree=0.8, max_depth=3, score=0.8412920166826168, total=  10.5s\n",
      "[CV] subsample=0.8, min_child_weight=1, gamma=0.5, colsample_bytree=0.6, max_depth=5 \n",
      "[CV]  subsample=1.0, min_child_weight=1, gamma=5, colsample_bytree=0.6, max_depth=5, score=0.8430174296778573, total=  11.9s\n",
      "[CV] subsample=0.8, min_child_weight=1, gamma=0.5, colsample_bytree=0.6, max_depth=5 \n",
      "[CV]  subsample=0.8, min_child_weight=1, gamma=2, colsample_bytree=0.8, max_depth=3, score=0.8344192419333151, total=  10.6s\n",
      "[CV] subsample=0.8, min_child_weight=1, gamma=0.5, colsample_bytree=0.6, max_depth=5 \n",
      "[CV]  subsample=0.8, min_child_weight=1, gamma=2, colsample_bytree=0.8, max_depth=3, score=0.8413487771742019, total=  10.6s\n"
     ]
    },
    {
     "name": "stderr",
     "output_type": "stream",
     "text": [
      "[Parallel(n_jobs=4)]: Done  24 tasks      | elapsed:  1.6min\n"
     ]
    },
    {
     "name": "stdout",
     "output_type": "stream",
     "text": [
      "[CV] subsample=0.8, min_child_weight=1, gamma=1.5, colsample_bytree=0.6, max_depth=4 \n",
      "[CV]  subsample=0.8, min_child_weight=1, gamma=0.5, colsample_bytree=0.6, max_depth=5, score=0.8444040572313001, total=  13.8s\n",
      "[CV] subsample=0.8, min_child_weight=1, gamma=1.5, colsample_bytree=0.6, max_depth=4 \n",
      "[CV]  subsample=0.8, min_child_weight=1, gamma=0.5, colsample_bytree=0.6, max_depth=5, score=0.8342604675310926, total=  13.8s\n",
      "[CV] subsample=0.8, min_child_weight=1, gamma=1.5, colsample_bytree=0.6, max_depth=4 \n",
      "[CV]  subsample=0.8, min_child_weight=1, gamma=0.5, colsample_bytree=0.6, max_depth=5, score=0.843393702856557, total=  14.0s\n",
      "[CV] subsample=1.0, min_child_weight=1, gamma=0.5, colsample_bytree=0.8, max_depth=4 \n",
      "[CV]  subsample=0.8, min_child_weight=1, gamma=1.5, colsample_bytree=0.6, max_depth=4, score=0.8429977020049859, total=  11.4s\n",
      "[CV] subsample=1.0, min_child_weight=1, gamma=0.5, colsample_bytree=0.8, max_depth=4 \n",
      "[CV]  subsample=0.8, min_child_weight=1, gamma=1.5, colsample_bytree=0.6, max_depth=4, score=0.835041401274638, total=  11.5s\n",
      "[CV] subsample=1.0, min_child_weight=1, gamma=0.5, colsample_bytree=0.8, max_depth=4 \n",
      "[CV]  subsample=0.8, min_child_weight=1, gamma=1.5, colsample_bytree=0.6, max_depth=4, score=0.843157151151813, total=  11.5s\n",
      "[CV] subsample=1.0, min_child_weight=10, gamma=1.5, colsample_bytree=1.0, max_depth=3 \n",
      "[CV]  subsample=1.0, min_child_weight=1, gamma=0.5, colsample_bytree=0.8, max_depth=4, score=0.8435316757050532, total=  12.3s\n",
      "[CV] subsample=1.0, min_child_weight=10, gamma=1.5, colsample_bytree=1.0, max_depth=3 \n",
      "[CV]  subsample=1.0, min_child_weight=1, gamma=0.5, colsample_bytree=0.8, max_depth=4, score=0.8357157272381608, total=  12.4s\n",
      "[CV] subsample=1.0, min_child_weight=10, gamma=1.5, colsample_bytree=1.0, max_depth=3 \n",
      "[CV]  subsample=1.0, min_child_weight=10, gamma=1.5, colsample_bytree=1.0, max_depth=3, score=0.8416887014260566, total=  10.9s\n",
      "[CV] subsample=0.6, min_child_weight=10, gamma=1, colsample_bytree=0.6, max_depth=5 \n",
      "[CV]  subsample=1.0, min_child_weight=1, gamma=0.5, colsample_bytree=0.8, max_depth=4, score=0.842910969594953, total=  12.1s\n",
      "[CV] subsample=0.6, min_child_weight=10, gamma=1, colsample_bytree=0.6, max_depth=5 \n",
      "[CV]  subsample=1.0, min_child_weight=10, gamma=1.5, colsample_bytree=1.0, max_depth=3, score=0.8345428053425238, total=  10.9s\n",
      "[CV] subsample=0.6, min_child_weight=10, gamma=1, colsample_bytree=0.6, max_depth=5 \n",
      "[CV]  subsample=1.0, min_child_weight=10, gamma=1.5, colsample_bytree=1.0, max_depth=3, score=0.840284028648042, total=  10.9s\n",
      "[CV] subsample=1.0, min_child_weight=5, gamma=0.5, colsample_bytree=1.0, max_depth=5 \n",
      "[CV]  subsample=0.6, min_child_weight=10, gamma=1, colsample_bytree=0.6, max_depth=5, score=0.8429678694218977, total=  14.5s\n",
      "[CV] subsample=1.0, min_child_weight=5, gamma=0.5, colsample_bytree=1.0, max_depth=5 \n",
      "[CV]  subsample=0.6, min_child_weight=10, gamma=1, colsample_bytree=0.6, max_depth=5, score=0.8343773845699757, total=  14.5s\n",
      "[CV] subsample=1.0, min_child_weight=5, gamma=0.5, colsample_bytree=1.0, max_depth=5 \n",
      "[CV]  subsample=0.6, min_child_weight=10, gamma=1, colsample_bytree=0.6, max_depth=5, score=0.84214840937293, total=  14.8s\n",
      "[CV] subsample=1.0, min_child_weight=1, gamma=0.5, colsample_bytree=1.0, max_depth=5 \n",
      "[CV]  subsample=1.0, min_child_weight=5, gamma=0.5, colsample_bytree=1.0, max_depth=5, score=0.8435642847859733, total=  17.8s\n",
      "[CV] subsample=1.0, min_child_weight=1, gamma=0.5, colsample_bytree=1.0, max_depth=5 \n",
      "[CV]  subsample=1.0, min_child_weight=5, gamma=0.5, colsample_bytree=1.0, max_depth=5, score=0.8345907773665628, total=  18.2s\n",
      "[CV] subsample=1.0, min_child_weight=1, gamma=0.5, colsample_bytree=1.0, max_depth=5 \n",
      "[CV]  subsample=1.0, min_child_weight=5, gamma=0.5, colsample_bytree=1.0, max_depth=5, score=0.8415515653176917, total=  18.2s\n",
      "[CV] subsample=0.8, min_child_weight=10, gamma=1.5, colsample_bytree=0.8, max_depth=4 \n",
      "[CV]  subsample=1.0, min_child_weight=1, gamma=0.5, colsample_bytree=1.0, max_depth=5, score=0.8435552463994139, total=  18.1s\n",
      "[CV] subsample=0.8, min_child_weight=10, gamma=1.5, colsample_bytree=0.8, max_depth=4 \n",
      "[CV]  subsample=1.0, min_child_weight=1, gamma=0.5, colsample_bytree=1.0, max_depth=5, score=0.8342664344946739, total=  18.1s\n",
      "[CV] subsample=0.8, min_child_weight=10, gamma=1.5, colsample_bytree=0.8, max_depth=4 \n",
      "[CV]  subsample=0.8, min_child_weight=10, gamma=1.5, colsample_bytree=0.8, max_depth=4, score=0.8435348952610499, total=  13.8s\n",
      "[CV] subsample=1.0, min_child_weight=10, gamma=1, colsample_bytree=1.0, max_depth=4 \n",
      "[CV]  subsample=0.8, min_child_weight=10, gamma=1.5, colsample_bytree=0.8, max_depth=4, score=0.8352246638590823, total=  13.7s\n",
      "[CV] subsample=1.0, min_child_weight=10, gamma=1, colsample_bytree=1.0, max_depth=4 \n",
      "[CV]  subsample=1.0, min_child_weight=1, gamma=0.5, colsample_bytree=1.0, max_depth=5, score=0.8419594456797174, total=  18.2s\n",
      "[CV] subsample=1.0, min_child_weight=10, gamma=1, colsample_bytree=1.0, max_depth=4 \n",
      "[CV]  subsample=0.8, min_child_weight=10, gamma=1.5, colsample_bytree=0.8, max_depth=4, score=0.8423321741275768, total=  13.7s\n",
      "[CV] subsample=0.8, min_child_weight=10, gamma=1.5, colsample_bytree=1.0, max_depth=4 \n",
      "[CV]  subsample=1.0, min_child_weight=10, gamma=1, colsample_bytree=1.0, max_depth=4, score=0.8439303985160505, total=  15.9s\n",
      "[CV] subsample=0.8, min_child_weight=10, gamma=1.5, colsample_bytree=1.0, max_depth=4 \n",
      "[CV]  subsample=1.0, min_child_weight=10, gamma=1, colsample_bytree=1.0, max_depth=4, score=0.835252814929839, total=  18.1s\n",
      "[CV] subsample=0.8, min_child_weight=10, gamma=1.5, colsample_bytree=1.0, max_depth=4 \n",
      "[CV]  subsample=1.0, min_child_weight=10, gamma=1, colsample_bytree=1.0, max_depth=4, score=0.8414917775241852, total=  18.4s\n",
      "[CV] subsample=0.6, min_child_weight=1, gamma=0.5, colsample_bytree=0.8, max_depth=4 \n",
      "[CV]  subsample=0.8, min_child_weight=10, gamma=1.5, colsample_bytree=1.0, max_depth=4, score=0.8439297782346201, total=  20.5s\n",
      "[CV] subsample=0.6, min_child_weight=1, gamma=0.5, colsample_bytree=0.8, max_depth=4 \n",
      "[CV]  subsample=0.8, min_child_weight=10, gamma=1.5, colsample_bytree=1.0, max_depth=4, score=0.8346287650654014, total=  18.2s\n",
      "[CV] subsample=0.6, min_child_weight=1, gamma=0.5, colsample_bytree=0.8, max_depth=4 \n",
      "[CV]  subsample=0.8, min_child_weight=10, gamma=1.5, colsample_bytree=1.0, max_depth=4, score=0.8417619450930645, total=  16.5s\n",
      "[CV] subsample=0.6, min_child_weight=1, gamma=2, colsample_bytree=0.8, max_depth=5 \n",
      "[CV]  subsample=0.6, min_child_weight=1, gamma=0.5, colsample_bytree=0.8, max_depth=4, score=0.8442625739907135, total=  15.1s\n",
      "[CV] subsample=0.6, min_child_weight=1, gamma=2, colsample_bytree=0.8, max_depth=5 \n",
      "[CV]  subsample=0.6, min_child_weight=1, gamma=0.5, colsample_bytree=0.8, max_depth=4, score=0.8348800864819799, total=  15.1s\n",
      "[CV] subsample=0.6, min_child_weight=1, gamma=2, colsample_bytree=0.8, max_depth=5 \n",
      "[CV]  subsample=0.6, min_child_weight=1, gamma=0.5, colsample_bytree=0.8, max_depth=4, score=0.8427358303520178, total=  16.0s\n",
      "[CV] subsample=1.0, min_child_weight=5, gamma=1, colsample_bytree=1.0, max_depth=4 \n",
      "[CV]  subsample=0.6, min_child_weight=1, gamma=2, colsample_bytree=0.8, max_depth=5, score=0.844759360342159, total=  20.9s\n",
      "[CV] subsample=1.0, min_child_weight=5, gamma=1, colsample_bytree=1.0, max_depth=4 \n",
      "[CV]  subsample=0.6, min_child_weight=1, gamma=2, colsample_bytree=0.8, max_depth=5, score=0.8351798230139522, total=  21.1s\n",
      "[CV] subsample=1.0, min_child_weight=5, gamma=1, colsample_bytree=1.0, max_depth=4 \n",
      "[CV]  subsample=0.6, min_child_weight=1, gamma=2, colsample_bytree=0.8, max_depth=5, score=0.8427302474009444, total=  21.3s\n",
      "[CV] subsample=0.8, min_child_weight=1, gamma=1.5, colsample_bytree=0.6, max_depth=3 \n",
      "[CV]  subsample=1.0, min_child_weight=5, gamma=1, colsample_bytree=1.0, max_depth=4, score=0.843758846394688, total=  16.3s\n",
      "[CV] subsample=0.8, min_child_weight=1, gamma=1.5, colsample_bytree=0.6, max_depth=3 \n",
      "[CV]  subsample=0.8, min_child_weight=1, gamma=1.5, colsample_bytree=0.6, max_depth=3, score=0.8396630394971585, total=  11.0s\n",
      "[CV] subsample=0.8, min_child_weight=1, gamma=1.5, colsample_bytree=0.6, max_depth=3 \n",
      "[CV]  subsample=1.0, min_child_weight=5, gamma=1, colsample_bytree=1.0, max_depth=4, score=0.8354282791064349, total=  17.3s\n",
      "[CV] subsample=1.0, min_child_weight=1, gamma=0.5, colsample_bytree=0.8, max_depth=5 \n",
      "[CV]  subsample=1.0, min_child_weight=5, gamma=1, colsample_bytree=1.0, max_depth=4, score=0.8412159679253848, total=  17.3s\n",
      "[CV] subsample=1.0, min_child_weight=1, gamma=0.5, colsample_bytree=0.8, max_depth=5 \n",
      "[CV]  subsample=0.8, min_child_weight=1, gamma=1.5, colsample_bytree=0.6, max_depth=3, score=0.833453214161058, total=  11.4s\n",
      "[CV] subsample=1.0, min_child_weight=1, gamma=0.5, colsample_bytree=0.8, max_depth=5 \n",
      "[CV]  subsample=0.8, min_child_weight=1, gamma=1.5, colsample_bytree=0.6, max_depth=3, score=0.8413742992362523, total=  10.6s\n",
      "[CV] subsample=1.0, min_child_weight=5, gamma=1.5, colsample_bytree=0.6, max_depth=3 \n",
      "[CV]  subsample=1.0, min_child_weight=1, gamma=0.5, colsample_bytree=0.8, max_depth=5, score=0.8447685464147733, total=  16.8s\n",
      "[CV] subsample=1.0, min_child_weight=5, gamma=1.5, colsample_bytree=0.6, max_depth=3 \n",
      "[CV]  subsample=1.0, min_child_weight=5, gamma=1.5, colsample_bytree=0.6, max_depth=3, score=0.8396413296470895, total=   7.7s\n",
      "[CV] subsample=1.0, min_child_weight=5, gamma=1.5, colsample_bytree=0.6, max_depth=3 \n",
      "[CV]  subsample=1.0, min_child_weight=1, gamma=0.5, colsample_bytree=0.8, max_depth=5, score=0.835803341168764, total=  16.7s\n",
      "[CV] subsample=0.6, min_child_weight=5, gamma=0.5, colsample_bytree=0.6, max_depth=3 \n",
      "[CV]  subsample=1.0, min_child_weight=1, gamma=0.5, colsample_bytree=0.8, max_depth=5, score=0.8425235600535302, total=  16.5s\n",
      "[CV] subsample=0.6, min_child_weight=5, gamma=0.5, colsample_bytree=0.6, max_depth=3 \n",
      "[CV]  subsample=1.0, min_child_weight=5, gamma=1.5, colsample_bytree=0.6, max_depth=3, score=0.8337072236651902, total=   9.5s\n",
      "[CV] subsample=0.6, min_child_weight=5, gamma=0.5, colsample_bytree=0.6, max_depth=3 \n",
      "[CV]  subsample=1.0, min_child_weight=5, gamma=1.5, colsample_bytree=0.6, max_depth=3, score=0.8415450371050609, total=   9.5s\n",
      "[CV] subsample=0.6, min_child_weight=10, gamma=1.5, colsample_bytree=0.8, max_depth=5 \n",
      "[CV]  subsample=0.6, min_child_weight=5, gamma=0.5, colsample_bytree=0.6, max_depth=3, score=0.8399222580607049, total=  11.6s\n",
      "[CV] subsample=0.6, min_child_weight=10, gamma=1.5, colsample_bytree=0.8, max_depth=5 \n",
      "[CV]  subsample=0.6, min_child_weight=5, gamma=0.5, colsample_bytree=0.6, max_depth=3, score=0.833100011272244, total=  11.1s\n",
      "[CV] subsample=0.6, min_child_weight=10, gamma=1.5, colsample_bytree=0.8, max_depth=5 \n",
      "[CV]  subsample=0.6, min_child_weight=5, gamma=0.5, colsample_bytree=0.6, max_depth=3, score=0.8408614062230821, total=  10.2s\n",
      "[CV] subsample=1.0, min_child_weight=10, gamma=0.5, colsample_bytree=0.8, max_depth=5 \n",
      "[CV]  subsample=0.6, min_child_weight=10, gamma=1.5, colsample_bytree=0.8, max_depth=5, score=0.8443148253169344, total=  19.9s\n",
      "[CV] subsample=1.0, min_child_weight=10, gamma=0.5, colsample_bytree=0.8, max_depth=5 \n",
      "[CV]  subsample=0.6, min_child_weight=10, gamma=1.5, colsample_bytree=0.8, max_depth=5, score=0.8348122935046588, total=  19.7s\n",
      "[CV] subsample=1.0, min_child_weight=10, gamma=0.5, colsample_bytree=0.8, max_depth=5 \n",
      "[CV]  subsample=0.6, min_child_weight=10, gamma=1.5, colsample_bytree=0.8, max_depth=5, score=0.8421204650781389, total=  20.3s\n",
      "[CV] subsample=0.6, min_child_weight=5, gamma=2, colsample_bytree=0.6, max_depth=5 \n",
      "[CV]  subsample=1.0, min_child_weight=10, gamma=0.5, colsample_bytree=0.8, max_depth=5, score=0.8439286853578138, total=  17.0s\n",
      "[CV] subsample=0.6, min_child_weight=5, gamma=2, colsample_bytree=0.6, max_depth=5 \n",
      "[CV]  subsample=1.0, min_child_weight=10, gamma=0.5, colsample_bytree=0.8, max_depth=5, score=0.8353120119348725, total=  19.4s\n",
      "[CV] subsample=0.6, min_child_weight=5, gamma=2, colsample_bytree=0.6, max_depth=5 \n",
      "[CV]  subsample=1.0, min_child_weight=10, gamma=0.5, colsample_bytree=0.8, max_depth=5, score=0.8424075882762045, total=  19.4s\n",
      "[CV] subsample=1.0, min_child_weight=5, gamma=0.5, colsample_bytree=1.0, max_depth=4 \n",
      "[CV]  subsample=0.6, min_child_weight=5, gamma=2, colsample_bytree=0.6, max_depth=5, score=0.8436476092581434, total=  17.7s\n",
      "[CV] subsample=1.0, min_child_weight=5, gamma=0.5, colsample_bytree=1.0, max_depth=4 \n",
      "[CV]  subsample=0.6, min_child_weight=5, gamma=2, colsample_bytree=0.6, max_depth=5, score=0.8348712246548791, total=  17.5s\n",
      "[CV] subsample=1.0, min_child_weight=5, gamma=0.5, colsample_bytree=1.0, max_depth=4 \n",
      "[CV]  subsample=0.6, min_child_weight=5, gamma=2, colsample_bytree=0.6, max_depth=5, score=0.8427544992677768, total=  17.0s\n",
      "[CV] subsample=0.8, min_child_weight=10, gamma=1, colsample_bytree=0.6, max_depth=3 \n",
      "[CV]  subsample=1.0, min_child_weight=5, gamma=0.5, colsample_bytree=1.0, max_depth=4, score=0.843890316520753, total=  16.9s\n",
      "[CV] subsample=0.8, min_child_weight=10, gamma=1, colsample_bytree=0.6, max_depth=3 \n",
      "[CV]  subsample=1.0, min_child_weight=5, gamma=0.5, colsample_bytree=1.0, max_depth=4, score=0.8354151045234783, total=  18.2s\n",
      "[CV] subsample=0.8, min_child_weight=10, gamma=1, colsample_bytree=0.6, max_depth=3 \n",
      "[CV]  subsample=1.0, min_child_weight=5, gamma=0.5, colsample_bytree=1.0, max_depth=4, score=0.8414512789743345, total=  18.5s\n",
      "[CV] subsample=1.0, min_child_weight=5, gamma=1, colsample_bytree=0.8, max_depth=4 \n",
      "[CV]  subsample=0.8, min_child_weight=10, gamma=1, colsample_bytree=0.6, max_depth=3, score=0.8395632037240516, total=  10.5s\n",
      "[CV] subsample=1.0, min_child_weight=5, gamma=1, colsample_bytree=0.8, max_depth=4 \n",
      "[CV]  subsample=0.8, min_child_weight=10, gamma=1, colsample_bytree=0.6, max_depth=3, score=0.8336474949505309, total=  11.6s\n",
      "[CV] subsample=1.0, min_child_weight=5, gamma=1, colsample_bytree=0.8, max_depth=4 \n",
      "[CV]  subsample=0.8, min_child_weight=10, gamma=1, colsample_bytree=0.6, max_depth=3, score=0.8412200739052749, total=  11.1s\n",
      "[CV] subsample=1.0, min_child_weight=5, gamma=1.5, colsample_bytree=0.8, max_depth=5 \n",
      "[CV]  subsample=1.0, min_child_weight=5, gamma=1, colsample_bytree=0.8, max_depth=4, score=0.8432925719821831, total=  17.2s\n",
      "[CV] subsample=1.0, min_child_weight=5, gamma=1.5, colsample_bytree=0.8, max_depth=5 \n",
      "[CV]  subsample=1.0, min_child_weight=5, gamma=1, colsample_bytree=0.8, max_depth=4, score=0.8357250321566165, total=  17.1s\n",
      "[CV] subsample=1.0, min_child_weight=5, gamma=1.5, colsample_bytree=0.8, max_depth=5 \n",
      "[CV]  subsample=1.0, min_child_weight=5, gamma=1, colsample_bytree=0.8, max_depth=4, score=0.8424088289319986, total=  16.7s\n",
      "[CV] subsample=1.0, min_child_weight=10, gamma=1.5, colsample_bytree=0.8, max_depth=5 \n",
      "[CV]  subsample=1.0, min_child_weight=5, gamma=1.5, colsample_bytree=0.8, max_depth=5, score=0.8452212337102281, total=  17.9s\n",
      "[CV] subsample=1.0, min_child_weight=10, gamma=1.5, colsample_bytree=0.8, max_depth=5 \n",
      "[CV]  subsample=1.0, min_child_weight=5, gamma=1.5, colsample_bytree=0.8, max_depth=5, score=0.8354739470554275, total=  17.1s\n",
      "[CV] subsample=1.0, min_child_weight=10, gamma=1.5, colsample_bytree=0.8, max_depth=5 \n",
      "[CV]  subsample=1.0, min_child_weight=5, gamma=1.5, colsample_bytree=0.8, max_depth=5, score=0.8418071699507021, total=  17.2s\n",
      "[CV] subsample=1.0, min_child_weight=5, gamma=5, colsample_bytree=1.0, max_depth=5 \n",
      "[CV]  subsample=1.0, min_child_weight=10, gamma=1.5, colsample_bytree=0.8, max_depth=5, score=0.8441650716572738, total=  17.4s\n",
      "[CV] subsample=1.0, min_child_weight=5, gamma=5, colsample_bytree=1.0, max_depth=5 \n",
      "[CV]  subsample=1.0, min_child_weight=10, gamma=1.5, colsample_bytree=0.8, max_depth=5, score=0.8353801298458539, total=  17.5s\n",
      "[CV] subsample=1.0, min_child_weight=5, gamma=5, colsample_bytree=1.0, max_depth=5 \n",
      "[CV]  subsample=1.0, min_child_weight=10, gamma=1.5, colsample_bytree=0.8, max_depth=5, score=0.8426761607162059, total=  17.8s\n",
      "[CV] subsample=0.8, min_child_weight=10, gamma=2, colsample_bytree=1.0, max_depth=5 \n",
      "[CV]  subsample=1.0, min_child_weight=5, gamma=5, colsample_bytree=1.0, max_depth=5, score=0.8436552593957868, total=  20.3s\n",
      "[CV] subsample=0.8, min_child_weight=10, gamma=2, colsample_bytree=1.0, max_depth=5 \n",
      "[CV]  subsample=1.0, min_child_weight=5, gamma=5, colsample_bytree=1.0, max_depth=5, score=0.8337749280242404, total=  19.9s\n",
      "[CV] subsample=0.8, min_child_weight=10, gamma=2, colsample_bytree=1.0, max_depth=5 \n",
      "[CV]  subsample=1.0, min_child_weight=5, gamma=5, colsample_bytree=1.0, max_depth=5, score=0.8405134318122578, total=  19.6s\n",
      "[CV] subsample=1.0, min_child_weight=5, gamma=1, colsample_bytree=1.0, max_depth=5 \n",
      "[CV]  subsample=0.8, min_child_weight=10, gamma=2, colsample_bytree=1.0, max_depth=5, score=0.8443014154231502, total=  22.3s\n",
      "[CV] subsample=1.0, min_child_weight=5, gamma=1, colsample_bytree=1.0, max_depth=5 \n",
      "[CV]  subsample=0.8, min_child_weight=10, gamma=2, colsample_bytree=1.0, max_depth=5, score=0.8336996320333072, total=  22.3s\n",
      "[CV] subsample=1.0, min_child_weight=5, gamma=1, colsample_bytree=1.0, max_depth=5 \n",
      "[CV]  subsample=0.8, min_child_weight=10, gamma=2, colsample_bytree=1.0, max_depth=5, score=0.8414999894839652, total=  22.8s\n",
      "[CV] subsample=1.0, min_child_weight=1, gamma=1.5, colsample_bytree=0.6, max_depth=3 \n",
      "[CV]  subsample=1.0, min_child_weight=5, gamma=1, colsample_bytree=1.0, max_depth=5, score=0.8440126596486253, total=  21.1s\n",
      "[CV] subsample=1.0, min_child_weight=1, gamma=1.5, colsample_bytree=0.6, max_depth=3 \n",
      "[CV]  subsample=1.0, min_child_weight=1, gamma=1.5, colsample_bytree=0.6, max_depth=3, score=0.8394074244733515, total=   9.3s\n",
      "[CV] subsample=1.0, min_child_weight=1, gamma=1.5, colsample_bytree=0.6, max_depth=3 \n",
      "[CV]  subsample=1.0, min_child_weight=1, gamma=1.5, colsample_bytree=0.6, max_depth=3, score=0.833126005965073, total=   8.9s\n",
      "[CV] subsample=0.8, min_child_weight=1, gamma=1.5, colsample_bytree=0.8, max_depth=4 \n",
      "[CV]  subsample=1.0, min_child_weight=5, gamma=1, colsample_bytree=1.0, max_depth=5, score=0.8332215955400669, total=  22.4s\n",
      "[CV] subsample=0.8, min_child_weight=1, gamma=1.5, colsample_bytree=0.8, max_depth=4 \n",
      "[CV]  subsample=1.0, min_child_weight=1, gamma=1.5, colsample_bytree=0.6, max_depth=3, score=0.8417001486187483, total=  10.7s\n",
      "[CV] subsample=0.8, min_child_weight=1, gamma=1.5, colsample_bytree=0.8, max_depth=4 \n",
      "[CV]  subsample=1.0, min_child_weight=5, gamma=1, colsample_bytree=1.0, max_depth=5, score=0.8413549509137489, total=  25.0s\n",
      "[CV] subsample=1.0, min_child_weight=1, gamma=1.5, colsample_bytree=0.8, max_depth=4 \n",
      "[CV]  subsample=0.8, min_child_weight=1, gamma=1.5, colsample_bytree=0.8, max_depth=4, score=0.8440010515247107, total=  24.1s\n",
      "[CV] subsample=1.0, min_child_weight=1, gamma=1.5, colsample_bytree=0.8, max_depth=4 \n",
      "[CV]  subsample=0.8, min_child_weight=1, gamma=1.5, colsample_bytree=0.8, max_depth=4, score=0.8353674869725234, total=  23.9s\n",
      "[CV] subsample=1.0, min_child_weight=1, gamma=1.5, colsample_bytree=0.8, max_depth=4 \n",
      "[CV]  subsample=1.0, min_child_weight=1, gamma=1.5, colsample_bytree=0.8, max_depth=4, score=0.8434695884875767, total=  18.6s\n",
      "[CV] subsample=1.0, min_child_weight=10, gamma=2, colsample_bytree=1.0, max_depth=5 \n",
      "[CV]  subsample=0.8, min_child_weight=1, gamma=1.5, colsample_bytree=0.8, max_depth=4, score=0.8429717617288645, total=  21.9s\n",
      "[CV] subsample=1.0, min_child_weight=10, gamma=2, colsample_bytree=1.0, max_depth=5 \n",
      "[CV]  subsample=1.0, min_child_weight=1, gamma=1.5, colsample_bytree=0.8, max_depth=4, score=0.8423085425886413, total=  12.3s\n",
      "[CV]  subsample=1.0, min_child_weight=1, gamma=1.5, colsample_bytree=0.8, max_depth=4, score=0.8354754831054583, total=  12.3s\n",
      "[CV] subsample=1.0, min_child_weight=10, gamma=2, colsample_bytree=1.0, max_depth=5 \n",
      "[CV] subsample=1.0, min_child_weight=10, gamma=1.5, colsample_bytree=1.0, max_depth=5 \n",
      "[CV]  subsample=1.0, min_child_weight=10, gamma=2, colsample_bytree=1.0, max_depth=5, score=0.8432086863030045, total=  18.7s\n",
      "[CV] subsample=1.0, min_child_weight=10, gamma=1.5, colsample_bytree=1.0, max_depth=5 \n",
      "[CV]  subsample=1.0, min_child_weight=10, gamma=2, colsample_bytree=1.0, max_depth=5, score=0.8344510854320305, total=  19.3s\n",
      "[CV] subsample=1.0, min_child_weight=10, gamma=1.5, colsample_bytree=1.0, max_depth=5 \n",
      "[CV]  subsample=1.0, min_child_weight=10, gamma=2, colsample_bytree=1.0, max_depth=5, score=0.8404811452221872, total=  21.6s\n"
     ]
    },
    {
     "name": "stderr",
     "output_type": "stream",
     "text": [
      "[Parallel(n_jobs=4)]: Done 120 tasks      | elapsed:  8.6min\n"
     ]
    },
    {
     "name": "stdout",
     "output_type": "stream",
     "text": [
      "[CV] subsample=0.8, min_child_weight=1, gamma=5, colsample_bytree=1.0, max_depth=5 \n",
      "[CV]  subsample=1.0, min_child_weight=10, gamma=1.5, colsample_bytree=1.0, max_depth=5, score=0.8440883044459411, total=  21.7s\n",
      "[CV] subsample=0.8, min_child_weight=1, gamma=5, colsample_bytree=1.0, max_depth=5 \n",
      "[CV]  subsample=1.0, min_child_weight=10, gamma=1.5, colsample_bytree=1.0, max_depth=5, score=0.8345433961309973, total=  21.7s\n",
      "[CV] subsample=0.8, min_child_weight=1, gamma=5, colsample_bytree=1.0, max_depth=5 \n",
      "[CV]  subsample=1.0, min_child_weight=10, gamma=1.5, colsample_bytree=1.0, max_depth=5, score=0.840805960724855, total=  21.4s\n",
      "[CV] subsample=0.6, min_child_weight=5, gamma=1.5, colsample_bytree=0.6, max_depth=3 \n",
      "[CV]  subsample=0.6, min_child_weight=5, gamma=1.5, colsample_bytree=0.6, max_depth=3, score=0.8398480310495162, total=  10.0s\n",
      "[CV] subsample=0.6, min_child_weight=5, gamma=1.5, colsample_bytree=0.6, max_depth=3 \n",
      "[CV]  subsample=0.8, min_child_weight=1, gamma=5, colsample_bytree=1.0, max_depth=5, score=0.8349369203331196, total=  22.9s\n",
      "[CV] subsample=0.6, min_child_weight=5, gamma=1.5, colsample_bytree=0.6, max_depth=3 \n",
      "[CV]  subsample=0.8, min_child_weight=1, gamma=5, colsample_bytree=1.0, max_depth=5, score=0.8445278476825104, total=  23.0s\n",
      "[CV] subsample=0.6, min_child_weight=5, gamma=5, colsample_bytree=1.0, max_depth=3 \n",
      "[CV]  subsample=0.6, min_child_weight=5, gamma=1.5, colsample_bytree=0.6, max_depth=3, score=0.8329336156987149, total=  11.1s\n",
      "[CV] subsample=0.6, min_child_weight=5, gamma=5, colsample_bytree=1.0, max_depth=3 \n",
      "[CV]  subsample=0.6, min_child_weight=5, gamma=1.5, colsample_bytree=0.6, max_depth=3, score=0.8408757328435619, total=  11.0s\n",
      "[CV] subsample=0.6, min_child_weight=5, gamma=5, colsample_bytree=1.0, max_depth=3 \n",
      "[CV]  subsample=0.8, min_child_weight=1, gamma=5, colsample_bytree=1.0, max_depth=5, score=0.8420304584542185, total=  23.5s\n",
      "[CV] subsample=0.6, min_child_weight=10, gamma=0.5, colsample_bytree=0.6, max_depth=4 \n",
      "[CV]  subsample=0.6, min_child_weight=5, gamma=5, colsample_bytree=1.0, max_depth=3, score=0.8419192098205319, total=  15.8s\n",
      "[CV] subsample=0.6, min_child_weight=10, gamma=0.5, colsample_bytree=0.6, max_depth=4 \n",
      "[CV]  subsample=0.6, min_child_weight=10, gamma=0.5, colsample_bytree=0.6, max_depth=4, score=0.8425526943843854, total=  17.5s\n",
      "[CV] subsample=0.6, min_child_weight=10, gamma=0.5, colsample_bytree=0.6, max_depth=4 \n",
      "[CV]  subsample=0.6, min_child_weight=5, gamma=5, colsample_bytree=1.0, max_depth=3, score=0.8345635715573633, total=  19.2s\n",
      "[CV] subsample=0.8, min_child_weight=10, gamma=1, colsample_bytree=0.6, max_depth=4 \n",
      "[CV]  subsample=0.6, min_child_weight=5, gamma=5, colsample_bytree=1.0, max_depth=3, score=0.8412790641343425, total=  19.2s\n",
      "[CV] subsample=0.8, min_child_weight=10, gamma=1, colsample_bytree=0.6, max_depth=4 \n",
      "[CV]  subsample=0.6, min_child_weight=10, gamma=0.5, colsample_bytree=0.6, max_depth=4, score=0.8352499496057433, total=  17.1s\n",
      "[CV] subsample=0.8, min_child_weight=10, gamma=1, colsample_bytree=0.6, max_depth=4 \n",
      "[CV]  subsample=0.8, min_child_weight=10, gamma=1, colsample_bytree=0.6, max_depth=4, score=0.84266936636775, total=  11.7s\n",
      "[CV] subsample=1.0, min_child_weight=5, gamma=1.5, colsample_bytree=1.0, max_depth=5 \n",
      "[CV]  subsample=0.6, min_child_weight=10, gamma=0.5, colsample_bytree=0.6, max_depth=4, score=0.8421771807715839, total=  12.7s\n",
      "[CV] subsample=1.0, min_child_weight=5, gamma=1.5, colsample_bytree=1.0, max_depth=5 \n",
      "[CV]  subsample=0.8, min_child_weight=10, gamma=1, colsample_bytree=0.6, max_depth=4, score=0.8352041339596321, total=  11.8s\n",
      "[CV] subsample=1.0, min_child_weight=5, gamma=1.5, colsample_bytree=1.0, max_depth=5 \n",
      "[CV]  subsample=0.8, min_child_weight=10, gamma=1, colsample_bytree=0.6, max_depth=4, score=0.8426968087733505, total=  11.8s\n",
      "[CV] subsample=1.0, min_child_weight=5, gamma=5, colsample_bytree=1.0, max_depth=4 \n",
      "[CV]  subsample=1.0, min_child_weight=5, gamma=5, colsample_bytree=1.0, max_depth=4, score=0.8421590519736765, total=  14.6s\n",
      "[CV] subsample=1.0, min_child_weight=5, gamma=5, colsample_bytree=1.0, max_depth=4 \n",
      "[CV]  subsample=1.0, min_child_weight=5, gamma=1.5, colsample_bytree=1.0, max_depth=5, score=0.8440690757215941, total=  18.9s\n",
      "[CV] subsample=1.0, min_child_weight=5, gamma=5, colsample_bytree=1.0, max_depth=4 \n",
      "[CV]  subsample=1.0, min_child_weight=5, gamma=1.5, colsample_bytree=1.0, max_depth=5, score=0.8340723309417428, total=  19.5s\n",
      "[CV] subsample=0.6, min_child_weight=10, gamma=0.5, colsample_bytree=1.0, max_depth=3 \n",
      "[CV]  subsample=1.0, min_child_weight=5, gamma=1.5, colsample_bytree=1.0, max_depth=5, score=0.8412293788237306, total=  19.9s\n",
      "[CV] subsample=0.6, min_child_weight=10, gamma=0.5, colsample_bytree=1.0, max_depth=3 \n",
      "[CV]  subsample=1.0, min_child_weight=5, gamma=5, colsample_bytree=1.0, max_depth=4, score=0.8340314188399608, total=  18.4s\n",
      "[CV] subsample=0.6, min_child_weight=10, gamma=0.5, colsample_bytree=1.0, max_depth=3 \n",
      "[CV]  subsample=1.0, min_child_weight=5, gamma=5, colsample_bytree=1.0, max_depth=4, score=0.8402154676457055, total=  17.2s\n",
      "[CV] subsample=0.8, min_child_weight=5, gamma=1, colsample_bytree=1.0, max_depth=5 \n",
      "[CV]  subsample=0.6, min_child_weight=10, gamma=0.5, colsample_bytree=1.0, max_depth=3, score=0.8426134819645791, total=  16.5s\n",
      "[CV] subsample=0.8, min_child_weight=5, gamma=1, colsample_bytree=1.0, max_depth=5 \n",
      "[CV]  subsample=0.6, min_child_weight=10, gamma=0.5, colsample_bytree=1.0, max_depth=3, score=0.8353503245673715, total=  16.4s\n",
      "[CV] subsample=0.8, min_child_weight=5, gamma=1, colsample_bytree=1.0, max_depth=5 \n",
      "[CV]  subsample=0.6, min_child_weight=10, gamma=0.5, colsample_bytree=1.0, max_depth=3, score=0.8413093715830271, total=  13.8s\n",
      "[CV] subsample=0.6, min_child_weight=10, gamma=2, colsample_bytree=0.6, max_depth=5 \n",
      "[CV]  subsample=0.8, min_child_weight=5, gamma=1, colsample_bytree=1.0, max_depth=5, score=0.8446124422547525, total=  20.4s\n",
      "[CV] subsample=0.6, min_child_weight=10, gamma=2, colsample_bytree=0.6, max_depth=5 \n",
      "[CV]  subsample=0.8, min_child_weight=5, gamma=1, colsample_bytree=1.0, max_depth=5, score=0.8339529916701188, total=  20.4s\n",
      "[CV] subsample=0.6, min_child_weight=10, gamma=2, colsample_bytree=0.6, max_depth=5 \n",
      "[CV]  subsample=0.8, min_child_weight=5, gamma=1, colsample_bytree=1.0, max_depth=5, score=0.8421812867514739, total=  20.4s\n",
      "[CV] subsample=0.6, min_child_weight=5, gamma=1, colsample_bytree=0.6, max_depth=4 \n",
      "[CV]  subsample=0.6, min_child_weight=10, gamma=2, colsample_bytree=0.6, max_depth=5, score=0.84311797752809, total=  14.7s\n",
      "[CV] subsample=0.6, min_child_weight=5, gamma=1, colsample_bytree=0.6, max_depth=4 \n",
      "[CV]  subsample=0.6, min_child_weight=5, gamma=1, colsample_bytree=0.6, max_depth=4, score=0.8429899632557095, total=  12.0s\n",
      "[CV] subsample=0.6, min_child_weight=5, gamma=1, colsample_bytree=0.6, max_depth=4 \n",
      "[CV]  subsample=0.6, min_child_weight=10, gamma=2, colsample_bytree=0.6, max_depth=5, score=0.8347352842271529, total=  14.9s\n",
      "[CV] subsample=0.8, min_child_weight=10, gamma=1.5, colsample_bytree=1.0, max_depth=3 \n",
      "[CV]  subsample=0.6, min_child_weight=10, gamma=2, colsample_bytree=0.6, max_depth=5, score=0.8422116828184296, total=  14.7s\n",
      "[CV] subsample=0.8, min_child_weight=10, gamma=1.5, colsample_bytree=1.0, max_depth=3 \n",
      "[CV]  subsample=0.6, min_child_weight=5, gamma=1, colsample_bytree=0.6, max_depth=4, score=0.8345872030962987, total=  12.2s\n",
      "[CV] subsample=0.8, min_child_weight=10, gamma=1.5, colsample_bytree=1.0, max_depth=3 \n",
      "[CV]  subsample=0.6, min_child_weight=5, gamma=1, colsample_bytree=0.6, max_depth=4, score=0.8423145686310698, total=  12.1s\n",
      "[CV] subsample=0.6, min_child_weight=10, gamma=1, colsample_bytree=0.8, max_depth=4 \n",
      "[CV]  subsample=0.8, min_child_weight=10, gamma=1.5, colsample_bytree=1.0, max_depth=3, score=0.8421836860076324, total=  12.6s\n",
      "[CV] subsample=0.6, min_child_weight=10, gamma=1, colsample_bytree=0.8, max_depth=4 \n",
      "[CV]  subsample=0.8, min_child_weight=10, gamma=1.5, colsample_bytree=1.0, max_depth=3, score=0.8348704566298637, total=  12.5s\n",
      "[CV] subsample=0.6, min_child_weight=10, gamma=1, colsample_bytree=0.8, max_depth=4 \n",
      "[CV]  subsample=0.8, min_child_weight=10, gamma=1.5, colsample_bytree=1.0, max_depth=3, score=0.8410451118988816, total=  12.6s\n",
      "[CV] subsample=1.0, min_child_weight=10, gamma=5, colsample_bytree=0.6, max_depth=5 \n",
      "[CV]  subsample=0.6, min_child_weight=10, gamma=1, colsample_bytree=0.8, max_depth=4, score=0.8440231158213117, total=  15.0s\n",
      "[CV] subsample=1.0, min_child_weight=10, gamma=5, colsample_bytree=0.6, max_depth=5 \n",
      "[CV]  subsample=0.6, min_child_weight=10, gamma=1, colsample_bytree=0.8, max_depth=4, score=0.8422452100642943, total=  14.9s\n",
      "[CV] subsample=1.0, min_child_weight=10, gamma=5, colsample_bytree=0.6, max_depth=5 \n",
      "[CV]  subsample=0.6, min_child_weight=10, gamma=1, colsample_bytree=0.8, max_depth=4, score=0.8353886962787179, total=  15.0s\n",
      "[CV] subsample=0.8, min_child_weight=5, gamma=2, colsample_bytree=1.0, max_depth=5 \n",
      "[CV]  subsample=1.0, min_child_weight=10, gamma=5, colsample_bytree=0.6, max_depth=5, score=0.8424606268977659, total=  11.7s\n",
      "[CV] subsample=0.8, min_child_weight=5, gamma=2, colsample_bytree=1.0, max_depth=5 \n",
      "[CV]  subsample=1.0, min_child_weight=10, gamma=5, colsample_bytree=0.6, max_depth=5, score=0.8343980030876968, total=  11.7s\n",
      "[CV] subsample=0.8, min_child_weight=5, gamma=2, colsample_bytree=1.0, max_depth=5 \n",
      "[CV]  subsample=1.0, min_child_weight=10, gamma=5, colsample_bytree=0.6, max_depth=5, score=0.8424287385035517, total=  11.8s\n",
      "[CV] subsample=0.6, min_child_weight=1, gamma=5, colsample_bytree=0.6, max_depth=5 \n",
      "[CV]  subsample=0.8, min_child_weight=5, gamma=2, colsample_bytree=1.0, max_depth=5, score=0.8445780904783846, total=  20.4s\n",
      "[CV] subsample=0.6, min_child_weight=1, gamma=5, colsample_bytree=0.6, max_depth=5 \n",
      "[CV]  subsample=0.8, min_child_weight=5, gamma=2, colsample_bytree=1.0, max_depth=5, score=0.834404413142633, total=  20.5s\n",
      "[CV] subsample=0.6, min_child_weight=1, gamma=5, colsample_bytree=0.6, max_depth=5 \n",
      "[CV]  subsample=0.6, min_child_weight=1, gamma=5, colsample_bytree=0.6, max_depth=5, score=0.8437604709412918, total=  14.9s\n",
      "[CV] subsample=0.6, min_child_weight=10, gamma=2, colsample_bytree=0.8, max_depth=3 \n",
      "[CV]  subsample=0.8, min_child_weight=5, gamma=2, colsample_bytree=1.0, max_depth=5, score=0.8421469028623229, total=  20.9s\n",
      "[CV] subsample=0.6, min_child_weight=10, gamma=2, colsample_bytree=0.8, max_depth=3 \n",
      "[CV]  subsample=0.6, min_child_weight=1, gamma=5, colsample_bytree=0.6, max_depth=5, score=0.836148657031458, total=  15.0s\n",
      "[CV] subsample=0.6, min_child_weight=10, gamma=2, colsample_bytree=0.8, max_depth=3 \n",
      "[CV]  subsample=0.6, min_child_weight=1, gamma=5, colsample_bytree=0.6, max_depth=5, score=0.8424534925405864, total=  14.9s\n",
      "[CV] subsample=0.6, min_child_weight=10, gamma=1, colsample_bytree=0.8, max_depth=3 \n",
      "[CV]  subsample=0.6, min_child_weight=10, gamma=2, colsample_bytree=0.8, max_depth=3, score=0.8412774548376044, total=  11.6s\n",
      "[CV] subsample=0.6, min_child_weight=10, gamma=1, colsample_bytree=0.8, max_depth=3 \n",
      "[CV]  subsample=0.6, min_child_weight=10, gamma=2, colsample_bytree=0.8, max_depth=3, score=0.8347271608856439, total=  11.6s\n",
      "[CV] subsample=0.6, min_child_weight=10, gamma=1, colsample_bytree=0.8, max_depth=3 \n",
      "[CV]  subsample=0.6, min_child_weight=10, gamma=2, colsample_bytree=0.8, max_depth=3, score=0.8415458642089236, total=  11.5s\n",
      "[CV] subsample=0.8, min_child_weight=5, gamma=5, colsample_bytree=0.6, max_depth=5 \n",
      "[CV]  subsample=0.6, min_child_weight=10, gamma=1, colsample_bytree=0.8, max_depth=3, score=0.8414973593733385, total=  11.6s\n",
      "[CV] subsample=0.8, min_child_weight=5, gamma=5, colsample_bytree=0.6, max_depth=5 \n",
      "[CV]  subsample=0.6, min_child_weight=10, gamma=1, colsample_bytree=0.8, max_depth=3, score=0.8347689296307124, total=  11.6s\n",
      "[CV] subsample=0.8, min_child_weight=5, gamma=5, colsample_bytree=0.6, max_depth=5 \n",
      "[CV]  subsample=0.6, min_child_weight=10, gamma=1, colsample_bytree=0.8, max_depth=3, score=0.8417159817498352, total=  11.6s\n",
      "[CV] subsample=0.6, min_child_weight=10, gamma=0.5, colsample_bytree=0.8, max_depth=5 \n",
      "[CV]  subsample=0.8, min_child_weight=5, gamma=5, colsample_bytree=0.6, max_depth=5, score=0.843374951263602, total=  14.6s\n",
      "[CV] subsample=0.6, min_child_weight=10, gamma=0.5, colsample_bytree=0.8, max_depth=5 \n",
      "[CV]  subsample=0.8, min_child_weight=5, gamma=5, colsample_bytree=0.6, max_depth=5, score=0.8358019232764278, total=  14.8s\n",
      "[CV] subsample=0.6, min_child_weight=10, gamma=0.5, colsample_bytree=0.8, max_depth=5 \n",
      "[CV]  subsample=0.8, min_child_weight=5, gamma=5, colsample_bytree=0.6, max_depth=5, score=0.8429284569337654, total=  15.7s\n",
      "[CV] subsample=0.6, min_child_weight=5, gamma=1.5, colsample_bytree=0.6, max_depth=5 \n",
      "[CV]  subsample=0.6, min_child_weight=10, gamma=0.5, colsample_bytree=0.8, max_depth=5, score=0.843828613287019, total=  25.0s\n",
      "[CV] subsample=0.6, min_child_weight=5, gamma=1.5, colsample_bytree=0.6, max_depth=5 \n",
      "[CV]  subsample=0.6, min_child_weight=5, gamma=1.5, colsample_bytree=0.6, max_depth=5, score=0.8434188140219049, total=  20.7s\n",
      "[CV] subsample=0.6, min_child_weight=5, gamma=1.5, colsample_bytree=0.6, max_depth=5 \n",
      "[CV]  subsample=0.6, min_child_weight=10, gamma=0.5, colsample_bytree=0.8, max_depth=5, score=0.834971097446305, total=  25.6s\n",
      "[CV] subsample=0.6, min_child_weight=5, gamma=2, colsample_bytree=0.8, max_depth=5 \n",
      "[CV]  subsample=0.6, min_child_weight=10, gamma=0.5, colsample_bytree=0.8, max_depth=5, score=0.8421694119031589, total=  26.1s\n",
      "[CV] subsample=0.6, min_child_weight=5, gamma=2, colsample_bytree=0.8, max_depth=5 \n",
      "[CV]  subsample=0.6, min_child_weight=5, gamma=1.5, colsample_bytree=0.6, max_depth=5, score=0.8348976328996395, total=  18.3s\n",
      "[CV] subsample=0.6, min_child_weight=5, gamma=2, colsample_bytree=0.8, max_depth=5 \n",
      "[CV]  subsample=0.6, min_child_weight=5, gamma=1.5, colsample_bytree=0.6, max_depth=5, score=0.8426148073332447, total=  16.5s\n",
      "[CV] subsample=1.0, min_child_weight=5, gamma=5, colsample_bytree=0.6, max_depth=4 \n",
      "[CV]  subsample=0.6, min_child_weight=5, gamma=2, colsample_bytree=0.8, max_depth=5, score=0.8447063410484528, total=  20.5s\n",
      "[CV] subsample=1.0, min_child_weight=5, gamma=5, colsample_bytree=0.6, max_depth=4 \n",
      "[CV]  subsample=0.6, min_child_weight=5, gamma=2, colsample_bytree=0.8, max_depth=5, score=0.8350478113295742, total=  20.5s\n",
      "[CV] subsample=1.0, min_child_weight=5, gamma=5, colsample_bytree=0.6, max_depth=4 \n",
      "[CV]  subsample=1.0, min_child_weight=5, gamma=5, colsample_bytree=0.6, max_depth=4, score=0.8412228700717164, total=  12.7s\n",
      "[CV] subsample=0.6, min_child_weight=1, gamma=1, colsample_bytree=1.0, max_depth=4 \n",
      "[CV]  subsample=0.6, min_child_weight=5, gamma=2, colsample_bytree=0.8, max_depth=5, score=0.8427531699937115, total=  22.1s\n",
      "[CV] subsample=0.6, min_child_weight=1, gamma=1, colsample_bytree=1.0, max_depth=4 \n",
      "[CV]  subsample=1.0, min_child_weight=5, gamma=5, colsample_bytree=0.6, max_depth=4, score=0.8338410372544123, total=  12.7s\n",
      "[CV] subsample=0.6, min_child_weight=1, gamma=1, colsample_bytree=1.0, max_depth=4 \n",
      "[CV]  subsample=1.0, min_child_weight=5, gamma=5, colsample_bytree=0.6, max_depth=4, score=0.8422754879735554, total=  12.8s\n",
      "[CV] subsample=1.0, min_child_weight=5, gamma=1, colsample_bytree=0.6, max_depth=4 \n",
      "[CV]  subsample=1.0, min_child_weight=5, gamma=1, colsample_bytree=0.6, max_depth=4, score=0.84378064485639, total=   9.5s\n",
      "[CV] subsample=1.0, min_child_weight=5, gamma=1, colsample_bytree=0.6, max_depth=4 \n",
      "[CV]  subsample=0.6, min_child_weight=1, gamma=1, colsample_bytree=1.0, max_depth=4, score=0.844397086449509, total=  20.0s\n",
      "[CV] subsample=1.0, min_child_weight=5, gamma=1, colsample_bytree=0.6, max_depth=4 \n",
      "[CV]  subsample=0.6, min_child_weight=1, gamma=1, colsample_bytree=1.0, max_depth=4, score=0.8356541375398102, total=  19.6s\n",
      "[CV] subsample=0.6, min_child_weight=10, gamma=5, colsample_bytree=0.8, max_depth=4 \n",
      "[CV]  subsample=0.6, min_child_weight=1, gamma=1, colsample_bytree=1.0, max_depth=4, score=0.8419721476318952, total=  19.3s\n",
      "[CV] subsample=0.6, min_child_weight=10, gamma=5, colsample_bytree=0.8, max_depth=4 \n",
      "[CV]  subsample=1.0, min_child_weight=5, gamma=1, colsample_bytree=0.6, max_depth=4, score=0.8354379384979747, total=  10.2s\n",
      "[CV] subsample=0.6, min_child_weight=10, gamma=5, colsample_bytree=0.8, max_depth=4 \n",
      "[CV]  subsample=1.0, min_child_weight=5, gamma=1, colsample_bytree=0.6, max_depth=4, score=0.8429054161833034, total=  11.0s\n",
      "[CV] subsample=0.8, min_child_weight=1, gamma=0.5, colsample_bytree=0.8, max_depth=4 \n",
      "[CV]  subsample=0.6, min_child_weight=10, gamma=5, colsample_bytree=0.8, max_depth=4, score=0.8433142818322522, total=  16.6s\n",
      "[CV] subsample=0.8, min_child_weight=1, gamma=0.5, colsample_bytree=0.8, max_depth=4 \n",
      "[CV]  subsample=0.6, min_child_weight=10, gamma=5, colsample_bytree=0.8, max_depth=4, score=0.8355254047314594, total=  16.4s\n",
      "[CV] subsample=0.8, min_child_weight=1, gamma=0.5, colsample_bytree=0.8, max_depth=4 \n",
      "[CV]  subsample=0.6, min_child_weight=10, gamma=5, colsample_bytree=0.8, max_depth=4, score=0.8422069860500663, total=  17.1s\n",
      "[CV] subsample=1.0, min_child_weight=5, gamma=1, colsample_bytree=0.8, max_depth=5 \n",
      "[CV]  subsample=0.8, min_child_weight=1, gamma=0.5, colsample_bytree=0.8, max_depth=4, score=0.84407046397051, total=  16.2s\n",
      "[CV] subsample=1.0, min_child_weight=5, gamma=1, colsample_bytree=0.8, max_depth=5 \n",
      "[CV]  subsample=0.8, min_child_weight=1, gamma=0.5, colsample_bytree=0.8, max_depth=4, score=0.8351074514259624, total=  18.2s\n",
      "[CV] subsample=1.0, min_child_weight=5, gamma=1, colsample_bytree=0.8, max_depth=5 \n",
      "[CV]  subsample=0.8, min_child_weight=1, gamma=0.5, colsample_bytree=0.8, max_depth=4, score=0.8428841477982614, total=  18.6s\n",
      "[CV] subsample=0.8, min_child_weight=10, gamma=5, colsample_bytree=0.8, max_depth=5 \n",
      "[CV]  subsample=1.0, min_child_weight=5, gamma=1, colsample_bytree=0.8, max_depth=5, score=0.8451205708952138, total=  19.3s\n",
      "[CV] subsample=0.8, min_child_weight=10, gamma=5, colsample_bytree=0.8, max_depth=5 \n",
      "[CV]  subsample=1.0, min_child_weight=5, gamma=1, colsample_bytree=0.8, max_depth=5, score=0.8353105940425363, total=  19.4s\n",
      "[CV] subsample=0.8, min_child_weight=10, gamma=5, colsample_bytree=0.8, max_depth=5 \n",
      "[CV]  subsample=1.0, min_child_weight=5, gamma=1, colsample_bytree=0.8, max_depth=5, score=0.8416686595931169, total=  16.3s\n",
      "[CV] subsample=1.0, min_child_weight=1, gamma=1, colsample_bytree=1.0, max_depth=3 \n",
      "[CV]  subsample=0.8, min_child_weight=10, gamma=5, colsample_bytree=0.8, max_depth=5, score=0.8437284526045913, total=  18.8s\n",
      "[CV] subsample=1.0, min_child_weight=1, gamma=1, colsample_bytree=1.0, max_depth=3 \n",
      "[CV]  subsample=0.8, min_child_weight=10, gamma=5, colsample_bytree=0.8, max_depth=5, score=0.8363868629439273, total=  18.3s\n",
      "[CV] subsample=1.0, min_child_weight=1, gamma=1, colsample_bytree=1.0, max_depth=3 \n",
      "[CV]  subsample=0.8, min_child_weight=10, gamma=5, colsample_bytree=0.8, max_depth=5, score=0.8425510612569662, total=  18.3s\n",
      "[CV] subsample=0.8, min_child_weight=1, gamma=5, colsample_bytree=1.0, max_depth=4 \n",
      "[CV]  subsample=1.0, min_child_weight=1, gamma=1, colsample_bytree=1.0, max_depth=3, score=0.8414567752454543, total=  12.3s\n",
      "[CV] subsample=0.8, min_child_weight=1, gamma=5, colsample_bytree=1.0, max_depth=4 \n",
      "[CV]  subsample=1.0, min_child_weight=1, gamma=1, colsample_bytree=1.0, max_depth=3, score=0.8341160197493498, total=  12.6s\n",
      "[CV] subsample=0.8, min_child_weight=1, gamma=5, colsample_bytree=1.0, max_depth=4 \n",
      "[CV]  subsample=1.0, min_child_weight=1, gamma=1, colsample_bytree=1.0, max_depth=3, score=0.840213370346625, total=  13.2s\n",
      "[CV] subsample=0.6, min_child_weight=5, gamma=1.5, colsample_bytree=1.0, max_depth=4 \n",
      "[CV]  subsample=0.8, min_child_weight=1, gamma=5, colsample_bytree=1.0, max_depth=4, score=0.8436092404210824, total=  20.4s\n",
      "[CV] subsample=0.6, min_child_weight=5, gamma=1.5, colsample_bytree=1.0, max_depth=4 \n",
      "[CV]  subsample=0.8, min_child_weight=1, gamma=5, colsample_bytree=1.0, max_depth=4, score=0.835131880529337, total=  20.1s\n",
      "[CV] subsample=0.6, min_child_weight=5, gamma=1.5, colsample_bytree=1.0, max_depth=4 \n",
      "[CV]  subsample=0.8, min_child_weight=1, gamma=5, colsample_bytree=1.0, max_depth=4, score=0.8419035570901352, total=  19.2s\n",
      "[CV] subsample=0.8, min_child_weight=1, gamma=5, colsample_bytree=0.8, max_depth=5 \n",
      "[CV]  subsample=0.6, min_child_weight=5, gamma=1.5, colsample_bytree=1.0, max_depth=4, score=0.8439306938881603, total=  20.9s\n",
      "[CV] subsample=0.8, min_child_weight=1, gamma=5, colsample_bytree=0.8, max_depth=5 \n",
      "[CV]  subsample=0.6, min_child_weight=5, gamma=1.5, colsample_bytree=1.0, max_depth=4, score=0.8360143117326101, total=  20.2s\n",
      "[CV] subsample=0.8, min_child_weight=1, gamma=5, colsample_bytree=0.8, max_depth=5 \n",
      "[CV]  subsample=0.6, min_child_weight=5, gamma=1.5, colsample_bytree=1.0, max_depth=4, score=0.8420280066820539, total=  20.3s\n",
      "[CV] subsample=0.6, min_child_weight=10, gamma=1, colsample_bytree=1.0, max_depth=3 \n",
      "[CV]  subsample=0.8, min_child_weight=1, gamma=5, colsample_bytree=0.8, max_depth=5, score=0.8442568733089947, total=  19.5s\n",
      "[CV] subsample=0.6, min_child_weight=10, gamma=1, colsample_bytree=1.0, max_depth=3 \n",
      "[CV]  subsample=0.8, min_child_weight=1, gamma=5, colsample_bytree=0.8, max_depth=5, score=0.8361188517529756, total=  19.1s\n",
      "[CV] subsample=0.6, min_child_weight=10, gamma=1, colsample_bytree=1.0, max_depth=3 \n",
      "[CV]  subsample=0.6, min_child_weight=10, gamma=1, colsample_bytree=1.0, max_depth=3, score=0.8424492255343282, total=  16.3s\n",
      "[CV] subsample=1.0, min_child_weight=10, gamma=0.5, colsample_bytree=1.0, max_depth=5 \n",
      "[CV]  subsample=0.6, min_child_weight=10, gamma=1, colsample_bytree=1.0, max_depth=3, score=0.8353664826321187, total=  16.3s\n",
      "[CV] subsample=1.0, min_child_weight=10, gamma=0.5, colsample_bytree=1.0, max_depth=5 \n",
      "[CV]  subsample=0.8, min_child_weight=1, gamma=5, colsample_bytree=0.8, max_depth=5, score=0.8428488481869765, total=  20.1s\n",
      "[CV] subsample=1.0, min_child_weight=10, gamma=0.5, colsample_bytree=1.0, max_depth=5 \n",
      "[CV]  subsample=0.6, min_child_weight=10, gamma=1, colsample_bytree=1.0, max_depth=3, score=0.8413918161144883, total=  18.8s\n",
      "[CV] subsample=0.6, min_child_weight=5, gamma=5, colsample_bytree=0.8, max_depth=4 \n",
      "[CV]  subsample=1.0, min_child_weight=10, gamma=0.5, colsample_bytree=1.0, max_depth=5, score=0.843672715887475, total=  23.6s\n",
      "[CV] subsample=0.6, min_child_weight=5, gamma=5, colsample_bytree=0.8, max_depth=4 \n",
      "[CV]  subsample=1.0, min_child_weight=10, gamma=0.5, colsample_bytree=1.0, max_depth=5, score=0.8349098031421913, total=  23.7s\n",
      "[CV] subsample=0.6, min_child_weight=5, gamma=5, colsample_bytree=0.8, max_depth=4 \n",
      "[CV]  subsample=1.0, min_child_weight=10, gamma=0.5, colsample_bytree=1.0, max_depth=5, score=0.8402352885989877, total=  23.6s\n",
      "[CV] subsample=0.6, min_child_weight=5, gamma=5, colsample_bytree=0.8, max_depth=3 \n",
      "[CV]  subsample=0.6, min_child_weight=5, gamma=5, colsample_bytree=0.8, max_depth=4, score=0.8431777017686881, total=  18.0s\n",
      "[CV] subsample=0.6, min_child_weight=5, gamma=5, colsample_bytree=0.8, max_depth=3 \n",
      "[CV]  subsample=0.6, min_child_weight=5, gamma=5, colsample_bytree=0.8, max_depth=3, score=0.8407547938893417, total=  13.5s\n",
      "[CV] subsample=0.6, min_child_weight=5, gamma=5, colsample_bytree=0.8, max_depth=3 \n",
      "[CV]  subsample=0.6, min_child_weight=5, gamma=5, colsample_bytree=0.8, max_depth=4, score=0.8360104420681094, total=  17.4s\n",
      "[CV] subsample=0.6, min_child_weight=1, gamma=0.5, colsample_bytree=1.0, max_depth=4 \n",
      "[CV]  subsample=0.6, min_child_weight=5, gamma=5, colsample_bytree=0.8, max_depth=3, score=0.8339765050513597, total=  14.4s\n",
      "[CV] subsample=0.6, min_child_weight=1, gamma=0.5, colsample_bytree=1.0, max_depth=4 \n",
      "[CV]  subsample=0.6, min_child_weight=5, gamma=5, colsample_bytree=0.8, max_depth=4, score=0.8423168136272686, total=  18.3s\n",
      "[CV] subsample=0.6, min_child_weight=1, gamma=0.5, colsample_bytree=1.0, max_depth=4 \n",
      "[CV]  subsample=0.6, min_child_weight=5, gamma=5, colsample_bytree=0.8, max_depth=3, score=0.8413211873524948, total=  13.1s\n",
      "[CV] subsample=0.6, min_child_weight=10, gamma=0.5, colsample_bytree=0.8, max_depth=4 \n",
      "[CV]  subsample=0.6, min_child_weight=1, gamma=0.5, colsample_bytree=1.0, max_depth=4, score=0.8442621604697598, total=  20.1s\n",
      "[CV] subsample=0.6, min_child_weight=10, gamma=0.5, colsample_bytree=0.8, max_depth=4 \n",
      "[CV]  subsample=0.6, min_child_weight=1, gamma=0.5, colsample_bytree=1.0, max_depth=4, score=0.8358951792369518, total=  19.0s\n",
      "[CV] subsample=0.6, min_child_weight=10, gamma=0.5, colsample_bytree=0.8, max_depth=4 \n",
      "[CV]  subsample=0.6, min_child_weight=1, gamma=0.5, colsample_bytree=1.0, max_depth=4, score=0.842096685842085, total=  19.0s\n",
      "[CV] subsample=1.0, min_child_weight=1, gamma=5, colsample_bytree=0.8, max_depth=5 \n",
      "[CV]  subsample=0.6, min_child_weight=10, gamma=0.5, colsample_bytree=0.8, max_depth=4, score=0.8439128534127294, total=  16.1s\n",
      "[CV] subsample=1.0, min_child_weight=1, gamma=5, colsample_bytree=0.8, max_depth=5 \n",
      "[CV]  subsample=0.6, min_child_weight=10, gamma=0.5, colsample_bytree=0.8, max_depth=4, score=0.8357888373117424, total=  16.9s\n",
      "[CV] subsample=1.0, min_child_weight=1, gamma=5, colsample_bytree=0.8, max_depth=5 \n",
      "[CV]  subsample=1.0, min_child_weight=1, gamma=5, colsample_bytree=0.8, max_depth=5, score=0.8433778163730667, total=  16.2s\n",
      "[CV] subsample=0.6, min_child_weight=10, gamma=1, colsample_bytree=1.0, max_depth=4 \n",
      "[CV]  subsample=0.6, min_child_weight=10, gamma=0.5, colsample_bytree=0.8, max_depth=4, score=0.8422619293780912, total=  16.8s\n",
      "[CV] subsample=0.6, min_child_weight=10, gamma=1, colsample_bytree=1.0, max_depth=4 \n",
      "[CV]  subsample=1.0, min_child_weight=1, gamma=5, colsample_bytree=0.8, max_depth=5, score=0.8353427329354884, total=  16.0s\n",
      "[CV] subsample=0.6, min_child_weight=10, gamma=1, colsample_bytree=1.0, max_depth=4 \n",
      "[CV]  subsample=1.0, min_child_weight=1, gamma=5, colsample_bytree=0.8, max_depth=5, score=0.8416758081336448, total=  16.0s\n",
      "[CV] subsample=0.8, min_child_weight=10, gamma=5, colsample_bytree=1.0, max_depth=4 \n",
      "[CV]  subsample=0.6, min_child_weight=10, gamma=1, colsample_bytree=1.0, max_depth=4, score=0.8437667919044411, total=  20.1s\n",
      "[CV] subsample=0.8, min_child_weight=10, gamma=5, colsample_bytree=1.0, max_depth=4 \n",
      "[CV]  subsample=0.6, min_child_weight=10, gamma=1, colsample_bytree=1.0, max_depth=4, score=0.8356656283756176, total=  20.0s\n",
      "[CV] subsample=0.8, min_child_weight=10, gamma=5, colsample_bytree=1.0, max_depth=4 \n",
      "[CV]  subsample=0.6, min_child_weight=10, gamma=1, colsample_bytree=1.0, max_depth=4, score=0.8416628698660777, total=  21.1s\n",
      "[CV] subsample=0.6, min_child_weight=5, gamma=5, colsample_bytree=0.6, max_depth=5 \n",
      "[CV]  subsample=0.8, min_child_weight=10, gamma=5, colsample_bytree=1.0, max_depth=4, score=0.8438156464513995, total=  21.2s\n",
      "[CV] subsample=0.6, min_child_weight=5, gamma=5, colsample_bytree=0.6, max_depth=5 \n",
      "[CV]  subsample=0.8, min_child_weight=10, gamma=5, colsample_bytree=1.0, max_depth=4, score=0.8350364091120378, total=  21.3s\n",
      "[CV] subsample=0.6, min_child_weight=5, gamma=5, colsample_bytree=0.6, max_depth=5 \n",
      "[CV]  subsample=0.8, min_child_weight=10, gamma=5, colsample_bytree=1.0, max_depth=4, score=0.8413625425456319, total=  21.6s\n",
      "[CV] subsample=0.8, min_child_weight=1, gamma=1, colsample_bytree=0.6, max_depth=3 \n",
      "[CV]  subsample=0.6, min_child_weight=5, gamma=5, colsample_bytree=0.6, max_depth=5, score=0.8434565035031132, total=  20.2s\n",
      "[CV] subsample=0.8, min_child_weight=1, gamma=1, colsample_bytree=0.6, max_depth=3 \n",
      "[CV]  subsample=0.8, min_child_weight=1, gamma=1, colsample_bytree=0.6, max_depth=3, score=0.8396481822800365, total=  10.5s\n",
      "[CV] subsample=0.8, min_child_weight=1, gamma=1, colsample_bytree=0.6, max_depth=3 \n",
      "[CV]  subsample=0.6, min_child_weight=5, gamma=5, colsample_bytree=0.6, max_depth=5, score=0.835362169876263, total=  18.2s\n",
      "[CV] subsample=0.8, min_child_weight=10, gamma=0.5, colsample_bytree=0.6, max_depth=4 \n",
      "[CV]  subsample=0.8, min_child_weight=1, gamma=1, colsample_bytree=0.6, max_depth=3, score=0.83345661119478, total=   8.9s\n",
      "[CV] subsample=0.8, min_child_weight=10, gamma=0.5, colsample_bytree=0.6, max_depth=4 \n",
      "[CV]  subsample=0.6, min_child_weight=5, gamma=5, colsample_bytree=0.6, max_depth=5, score=0.8422471301268328, total=  16.6s\n",
      "[CV] subsample=0.8, min_child_weight=10, gamma=0.5, colsample_bytree=0.6, max_depth=4 \n",
      "[CV]  subsample=0.8, min_child_weight=1, gamma=1, colsample_bytree=0.6, max_depth=3, score=0.8414864013490773, total=   8.7s\n",
      "[CV] subsample=0.6, min_child_weight=1, gamma=5, colsample_bytree=0.8, max_depth=4 \n",
      "[CV]  subsample=0.8, min_child_weight=10, gamma=0.5, colsample_bytree=0.6, max_depth=4, score=0.8427239215964273, total=  11.2s\n",
      "[CV] subsample=0.6, min_child_weight=1, gamma=5, colsample_bytree=0.8, max_depth=4 \n",
      "[CV]  subsample=0.8, min_child_weight=10, gamma=0.5, colsample_bytree=0.6, max_depth=4, score=0.8351354252601775, total=  11.2s\n",
      "[CV] subsample=0.6, min_child_weight=1, gamma=5, colsample_bytree=0.8, max_depth=4 \n",
      "[CV]  subsample=0.8, min_child_weight=10, gamma=0.5, colsample_bytree=0.6, max_depth=4, score=0.8425742497045466, total=  11.3s\n",
      "[CV] subsample=0.8, min_child_weight=5, gamma=5, colsample_bytree=1.0, max_depth=3 \n",
      "[CV]  subsample=0.6, min_child_weight=1, gamma=5, colsample_bytree=0.8, max_depth=4, score=0.8434743439785441, total=  15.0s\n",
      "[CV] subsample=0.8, min_child_weight=5, gamma=5, colsample_bytree=1.0, max_depth=3 \n",
      "[CV]  subsample=0.6, min_child_weight=1, gamma=5, colsample_bytree=0.8, max_depth=4, score=0.8357821318625693, total=  14.9s\n",
      "[CV] subsample=0.8, min_child_weight=5, gamma=5, colsample_bytree=1.0, max_depth=3 \n",
      "[CV]  subsample=0.8, min_child_weight=5, gamma=5, colsample_bytree=1.0, max_depth=3, score=0.8417458263920887, total=  12.5s\n",
      "[CV] subsample=0.8, min_child_weight=5, gamma=1, colsample_bytree=0.6, max_depth=5 \n",
      "[CV]  subsample=0.6, min_child_weight=1, gamma=5, colsample_bytree=0.8, max_depth=4, score=0.8423121168589054, total=  14.9s\n",
      "[CV] subsample=0.8, min_child_weight=5, gamma=1, colsample_bytree=0.6, max_depth=5 \n",
      "[CV]  subsample=0.8, min_child_weight=5, gamma=5, colsample_bytree=1.0, max_depth=3, score=0.8339078258913285, total=  12.7s\n",
      "[CV] subsample=0.8, min_child_weight=5, gamma=1, colsample_bytree=0.6, max_depth=5 \n",
      "[CV]  subsample=0.8, min_child_weight=5, gamma=5, colsample_bytree=1.0, max_depth=3, score=0.8405581544996932, total=  12.8s\n",
      "[CV] subsample=0.6, min_child_weight=10, gamma=1.5, colsample_bytree=1.0, max_depth=4 \n",
      "[CV]  subsample=0.8, min_child_weight=5, gamma=1, colsample_bytree=0.6, max_depth=5, score=0.8440308841077989, total=  13.9s\n",
      "[CV] subsample=0.6, min_child_weight=10, gamma=1.5, colsample_bytree=1.0, max_depth=4 \n",
      "[CV]  subsample=0.8, min_child_weight=5, gamma=1, colsample_bytree=0.6, max_depth=5, score=0.8345072103370024, total=  13.8s\n",
      "[CV] subsample=0.6, min_child_weight=10, gamma=1.5, colsample_bytree=1.0, max_depth=4 \n",
      "[CV]  subsample=0.8, min_child_weight=5, gamma=1, colsample_bytree=0.6, max_depth=5, score=0.8429847886147026, total=  14.1s\n",
      "[CV] subsample=1.0, min_child_weight=1, gamma=0.5, colsample_bytree=1.0, max_depth=4 \n",
      "[CV]  subsample=0.6, min_child_weight=10, gamma=1.5, colsample_bytree=1.0, max_depth=4, score=0.8437282163069034, total=  18.2s\n",
      "[CV] subsample=1.0, min_child_weight=1, gamma=0.5, colsample_bytree=1.0, max_depth=4 \n",
      "[CV]  subsample=0.6, min_child_weight=10, gamma=1.5, colsample_bytree=1.0, max_depth=4, score=0.8355993419089037, total=  19.0s\n",
      "[CV] subsample=1.0, min_child_weight=1, gamma=0.5, colsample_bytree=1.0, max_depth=4 \n",
      "[CV]  subsample=0.6, min_child_weight=10, gamma=1.5, colsample_bytree=1.0, max_depth=4, score=0.8415555826793109, total=  19.2s\n",
      "[CV] subsample=1.0, min_child_weight=1, gamma=2, colsample_bytree=0.6, max_depth=4 \n",
      "[CV]  subsample=1.0, min_child_weight=1, gamma=0.5, colsample_bytree=1.0, max_depth=4, score=0.8439667588227648, total=  15.5s\n",
      "[CV] subsample=1.0, min_child_weight=1, gamma=2, colsample_bytree=0.6, max_depth=4 \n",
      "[CV]  subsample=1.0, min_child_weight=1, gamma=0.5, colsample_bytree=1.0, max_depth=4, score=0.8356986239118562, total=  15.9s\n",
      "[CV] subsample=1.0, min_child_weight=1, gamma=2, colsample_bytree=0.6, max_depth=4 \n",
      "[CV]  subsample=1.0, min_child_weight=1, gamma=2, colsample_bytree=0.6, max_depth=4, score=0.8430517846382873, total=  10.7s\n",
      "[CV] subsample=0.8, min_child_weight=1, gamma=1, colsample_bytree=0.8, max_depth=4 \n",
      "[CV]  subsample=1.0, min_child_weight=1, gamma=2, colsample_bytree=0.6, max_depth=4, score=0.8350780006205641, total=  10.5s\n",
      "[CV] subsample=0.8, min_child_weight=1, gamma=1, colsample_bytree=0.8, max_depth=4 \n",
      "[CV]  subsample=1.0, min_child_weight=1, gamma=0.5, colsample_bytree=1.0, max_depth=4, score=0.8419283702060174, total=  15.6s\n",
      "[CV] subsample=0.8, min_child_weight=1, gamma=1, colsample_bytree=0.8, max_depth=4 \n",
      "[CV]  subsample=1.0, min_child_weight=1, gamma=2, colsample_bytree=0.6, max_depth=4, score=0.8427355644972048, total=  10.2s\n",
      "[CV] subsample=0.6, min_child_weight=1, gamma=1.5, colsample_bytree=1.0, max_depth=4 \n",
      "[CV]  subsample=0.8, min_child_weight=1, gamma=1, colsample_bytree=0.8, max_depth=4, score=0.8439620919434303, total=  14.3s\n",
      "[CV] subsample=0.6, min_child_weight=1, gamma=1.5, colsample_bytree=1.0, max_depth=4 \n",
      "[CV]  subsample=0.8, min_child_weight=1, gamma=1, colsample_bytree=0.8, max_depth=4, score=0.8351717882907141, total=  14.3s\n",
      "[CV] subsample=0.6, min_child_weight=1, gamma=1.5, colsample_bytree=1.0, max_depth=4 \n",
      "[CV]  subsample=0.8, min_child_weight=1, gamma=1, colsample_bytree=0.8, max_depth=4, score=0.8430344148464671, total=  14.2s\n",
      "[CV] subsample=0.8, min_child_weight=10, gamma=1, colsample_bytree=1.0, max_depth=4 \n",
      "[CV]  subsample=0.6, min_child_weight=1, gamma=1.5, colsample_bytree=1.0, max_depth=4, score=0.8444772209028935, total=  18.1s\n"
     ]
    },
    {
     "name": "stderr",
     "output_type": "stream",
     "text": [
      "[Parallel(n_jobs=4)]: Done 280 tasks      | elapsed: 20.2min\n"
     ]
    },
    {
     "name": "stdout",
     "output_type": "stream",
     "text": [
      "[CV] subsample=0.8, min_child_weight=10, gamma=1, colsample_bytree=1.0, max_depth=4 \n",
      "[CV]  subsample=0.6, min_child_weight=1, gamma=1.5, colsample_bytree=1.0, max_depth=4, score=0.8358527310851391, total=  18.1s\n",
      "[CV] subsample=0.8, min_child_weight=10, gamma=1, colsample_bytree=1.0, max_depth=4 \n",
      "[CV]  subsample=0.8, min_child_weight=10, gamma=1, colsample_bytree=1.0, max_depth=4, score=0.8440413993549074, total=  16.6s\n",
      "[CV] subsample=0.8, min_child_weight=10, gamma=5, colsample_bytree=0.6, max_depth=5 \n",
      "[CV]  subsample=0.6, min_child_weight=1, gamma=1.5, colsample_bytree=1.0, max_depth=4, score=0.8421139664049315, total=  18.2s\n",
      "[CV] subsample=0.8, min_child_weight=10, gamma=5, colsample_bytree=0.6, max_depth=5 \n",
      "[CV]  subsample=0.8, min_child_weight=10, gamma=1, colsample_bytree=1.0, max_depth=4, score=0.8347223754990094, total=  16.6s\n",
      "[CV] subsample=0.8, min_child_weight=10, gamma=5, colsample_bytree=0.6, max_depth=5 \n",
      "[CV]  subsample=0.8, min_child_weight=10, gamma=5, colsample_bytree=0.6, max_depth=5, score=0.8428511974385331, total=  13.3s\n",
      "[CV] subsample=0.6, min_child_weight=1, gamma=2, colsample_bytree=0.6, max_depth=3 \n",
      "[CV]  subsample=0.8, min_child_weight=10, gamma=5, colsample_bytree=0.6, max_depth=5, score=0.8352018594240096, total=  13.2s\n",
      "[CV] subsample=0.6, min_child_weight=1, gamma=2, colsample_bytree=0.6, max_depth=3 \n",
      "[CV]  subsample=0.8, min_child_weight=10, gamma=1, colsample_bytree=1.0, max_depth=4, score=0.8417986330572619, total=  16.4s\n",
      "[CV] subsample=0.6, min_child_weight=1, gamma=2, colsample_bytree=0.6, max_depth=3 \n",
      "[CV]  subsample=0.8, min_child_weight=10, gamma=5, colsample_bytree=0.6, max_depth=5, score=0.8428665423017544, total=  13.2s\n",
      "[CV] subsample=0.8, min_child_weight=1, gamma=5, colsample_bytree=1.0, max_depth=3 \n",
      "[CV]  subsample=0.6, min_child_weight=1, gamma=2, colsample_bytree=0.6, max_depth=3, score=0.8400672857666089, total=   9.3s\n",
      "[CV] subsample=0.8, min_child_weight=1, gamma=5, colsample_bytree=1.0, max_depth=3 \n",
      "[CV]  subsample=0.6, min_child_weight=1, gamma=2, colsample_bytree=0.6, max_depth=3, score=0.8330587151579544, total=   9.2s\n",
      "[CV] subsample=0.8, min_child_weight=1, gamma=5, colsample_bytree=1.0, max_depth=3 \n",
      "[CV]  subsample=0.6, min_child_weight=1, gamma=2, colsample_bytree=0.6, max_depth=3, score=0.8408175106395097, total=   9.3s\n",
      "[CV] subsample=1.0, min_child_weight=10, gamma=5, colsample_bytree=0.8, max_depth=5 \n",
      "[CV]  subsample=0.8, min_child_weight=1, gamma=5, colsample_bytree=1.0, max_depth=3, score=0.8417422228523493, total=  12.4s\n",
      "[CV]  subsample=0.8, min_child_weight=1, gamma=5, colsample_bytree=1.0, max_depth=3, score=0.8338559842027888, total=  12.3s\n",
      "[CV] subsample=1.0, min_child_weight=10, gamma=5, colsample_bytree=0.8, max_depth=5 \n",
      "[CV] subsample=1.0, min_child_weight=10, gamma=5, colsample_bytree=0.8, max_depth=5 \n",
      "[CV]  subsample=0.8, min_child_weight=1, gamma=5, colsample_bytree=1.0, max_depth=3, score=0.8404381949001721, total=  12.3s\n",
      "[CV] subsample=1.0, min_child_weight=10, gamma=1.5, colsample_bytree=0.6, max_depth=5 \n",
      "[CV]  subsample=1.0, min_child_weight=10, gamma=5, colsample_bytree=0.8, max_depth=5, score=0.8426909876061863, total=  14.6s\n",
      "[CV] subsample=1.0, min_child_weight=10, gamma=1.5, colsample_bytree=0.6, max_depth=5 \n",
      "[CV]  subsample=1.0, min_child_weight=10, gamma=1.5, colsample_bytree=0.6, max_depth=5, score=0.8442677725398458, total=  11.7s\n",
      "[CV] subsample=1.0, min_child_weight=10, gamma=1.5, colsample_bytree=0.6, max_depth=5 \n",
      "[CV]  subsample=1.0, min_child_weight=10, gamma=5, colsample_bytree=0.8, max_depth=5, score=0.8358196764700531, total=  14.5s\n",
      "[CV]  subsample=1.0, min_child_weight=10, gamma=5, colsample_bytree=0.8, max_depth=5, score=0.8422099104530096, total=  14.6s\n",
      "[CV]  subsample=1.0, min_child_weight=10, gamma=1.5, colsample_bytree=0.6, max_depth=5, score=0.8344357544711463, total=  11.7s\n",
      "[CV]  subsample=1.0, min_child_weight=10, gamma=1.5, colsample_bytree=0.6, max_depth=5, score=0.843245769422821, total=   7.9s\n"
     ]
    },
    {
     "name": "stderr",
     "output_type": "stream",
     "text": [
      "[Parallel(n_jobs=4)]: Done 300 out of 300 | elapsed: 21.3min finished\n"
     ]
    },
    {
     "name": "stdout",
     "output_type": "stream",
     "text": [
      "\n",
      " Time taken: 0 hours 21 minutes and 34.49 seconds.\n"
     ]
    }
   ],
   "source": [
    "# Here we go\n",
    "start_time = timer(None) # timing starts from this point for \"start_time\" variable\n",
    "random_search.fit(X, Y)\n",
    "timer(start_time) # timing ends here for \"start_time\" variable"
   ]
  },
  {
   "cell_type": "code",
   "execution_count": 105,
   "metadata": {
    "collapsed": false
   },
   "outputs": [
    {
     "data": {
      "text/plain": [
       "{'colsample_bytree': 0.8,\n",
       " 'gamma': 5,\n",
       " 'max_depth': 5,\n",
       " 'min_child_weight': 1,\n",
       " 'subsample': 0.8}"
      ]
     },
     "execution_count": 105,
     "metadata": {},
     "output_type": "execute_result"
    }
   ],
   "source": [
    "random_search.best_params_"
   ]
  },
  {
   "cell_type": "code",
   "execution_count": 107,
   "metadata": {
    "collapsed": true
   },
   "outputs": [],
   "source": [
    "# A parameter grid for XGBoost\n",
    "params = {'colsample_bytree': 0.8,\n",
    "            'gamma': 5,\n",
    "             'max_depth': 5,\n",
    "             'min_child_weight': 1,\n",
    "             'subsample': 0.8}"
   ]
  },
  {
   "cell_type": "code",
   "execution_count": 115,
   "metadata": {
    "collapsed": false
   },
   "outputs": [],
   "source": [
    "xgb = XGBClassifier(\n",
    "    learning_rate = 0.02,\n",
    " n_estimators= 2000,\n",
    " max_depth= 5,\n",
    " min_child_weight= 1,\n",
    " gamma=1,\n",
    "#  gamma=5,                        \n",
    " subsample=0.8,\n",
    " colsample_bytree=0.8,\n",
    " objective= 'binary:logistic',\n",
    " nthread= -1,verbose=3, random_state=1001 ).fit(X, Y)"
   ]
  },
  {
   "cell_type": "code",
   "execution_count": 113,
   "metadata": {
    "collapsed": false
   },
   "outputs": [
    {
     "name": "stderr",
     "output_type": "stream",
     "text": [
      "/Users/reetkanjilal/ml/IIMB_kaggle/lib/python3.5/site-packages/sklearn/preprocessing/label.py:151: DeprecationWarning: The truth value of an empty array is ambiguous. Returning False, but in future this will result in an error. Use `array.size > 0` to check that an array is not empty.\n",
      "  if diff:\n"
     ]
    }
   ],
   "source": [
    "pred_test = pd.DataFrame(xgb.predict(test_mod))"
   ]
  },
  {
   "cell_type": "code",
   "execution_count": null,
   "metadata": {
    "collapsed": true
   },
   "outputs": [],
   "source": []
  },
  {
   "cell_type": "code",
   "execution_count": 114,
   "metadata": {
    "collapsed": false
   },
   "outputs": [],
   "source": [
    "pred_test['employee_id'] = test_raw['employee_id']\n",
    "pred_test.to_csv('xgb1.csv')\n"
   ]
  },
  {
   "cell_type": "markdown",
   "metadata": {},
   "source": [
    "# New Model stacking with h2o"
   ]
  },
  {
   "cell_type": "code",
   "execution_count": 116,
   "metadata": {
    "collapsed": true
   },
   "outputs": [],
   "source": [
    "import pandas as pd \n",
    "import json\n",
    "import h2o\n",
    "# h2o.init(ip=\"10.0.21.30\", port=54321)\n",
    "from h2o.automl import H2OAutoML\n",
    "from h2o.estimators.glm import H2OGeneralizedLinearEstimator\n",
    "from h2o.estimators.random_forest import H2ORandomForestEstimator\n",
    "from h2o.estimators.gbm import H2OGradientBoostingEstimator\n",
    "from h2o.estimators import H2OXGBoostEstimator\n",
    "from h2o.estimators.deeplearning import H2ODeepLearningEstimator\n",
    "from h2o.estimators.stackedensemble import H2OStackedEnsembleEstimator\n",
    "from h2o.grid.grid_search import H2OGridSearch\n",
    "import numpy as np"
   ]
  },
  {
   "cell_type": "code",
   "execution_count": 118,
   "metadata": {
    "collapsed": false
   },
   "outputs": [
    {
     "name": "stdout",
     "output_type": "stream",
     "text": [
      "Checking whether there is an H2O instance running at http://localhost:54321..... not found.\n",
      "Attempting to start a local H2O server...\n",
      "  Java Version: java version \"1.8.0_112\"; Java(TM) SE Runtime Environment (build 1.8.0_112-b16); Java HotSpot(TM) 64-Bit Server VM (build 25.112-b16, mixed mode)\n",
      "  Starting server from /Users/reetkanjilal/ml/IIMB_kaggle/lib/python3.5/site-packages/h2o/backend/bin/h2o.jar\n",
      "  Ice root: /var/folders/pg/3ws7rkfj09d1lc0slmsvt_tw0000gn/T/tmpeewy7r8l\n",
      "  JVM stdout: /var/folders/pg/3ws7rkfj09d1lc0slmsvt_tw0000gn/T/tmpeewy7r8l/h2o_reetkanjilal_started_from_python.out\n",
      "  JVM stderr: /var/folders/pg/3ws7rkfj09d1lc0slmsvt_tw0000gn/T/tmpeewy7r8l/h2o_reetkanjilal_started_from_python.err\n",
      "  Server is running at http://127.0.0.1:54321\n",
      "Connecting to H2O server at http://127.0.0.1:54321... successful.\n"
     ]
    },
    {
     "data": {
      "text/html": [
       "<div style=\"overflow:auto\"><table style=\"width:50%\"><tr><td>H2O cluster uptime:</td>\n",
       "<td>02 secs</td></tr>\n",
       "<tr><td>H2O cluster timezone:</td>\n",
       "<td>Asia/Kolkata</td></tr>\n",
       "<tr><td>H2O data parsing timezone:</td>\n",
       "<td>UTC</td></tr>\n",
       "<tr><td>H2O cluster version:</td>\n",
       "<td>3.20.0.7</td></tr>\n",
       "<tr><td>H2O cluster version age:</td>\n",
       "<td>15 days </td></tr>\n",
       "<tr><td>H2O cluster name:</td>\n",
       "<td>H2O_from_python_reetkanjilal_781sz8</td></tr>\n",
       "<tr><td>H2O cluster total nodes:</td>\n",
       "<td>1</td></tr>\n",
       "<tr><td>H2O cluster free memory:</td>\n",
       "<td>10.67 Gb</td></tr>\n",
       "<tr><td>H2O cluster total cores:</td>\n",
       "<td>4</td></tr>\n",
       "<tr><td>H2O cluster allowed cores:</td>\n",
       "<td>4</td></tr>\n",
       "<tr><td>H2O cluster status:</td>\n",
       "<td>accepting new members, healthy</td></tr>\n",
       "<tr><td>H2O connection url:</td>\n",
       "<td>http://127.0.0.1:54321</td></tr>\n",
       "<tr><td>H2O connection proxy:</td>\n",
       "<td>None</td></tr>\n",
       "<tr><td>H2O internal security:</td>\n",
       "<td>False</td></tr>\n",
       "<tr><td>H2O API Extensions:</td>\n",
       "<td>XGBoost, Algos, AutoML, Core V3, Core V4</td></tr>\n",
       "<tr><td>Python version:</td>\n",
       "<td>3.5.2 final</td></tr></table></div>"
      ],
      "text/plain": [
       "--------------------------  ----------------------------------------\n",
       "H2O cluster uptime:         02 secs\n",
       "H2O cluster timezone:       Asia/Kolkata\n",
       "H2O data parsing timezone:  UTC\n",
       "H2O cluster version:        3.20.0.7\n",
       "H2O cluster version age:    15 days\n",
       "H2O cluster name:           H2O_from_python_reetkanjilal_781sz8\n",
       "H2O cluster total nodes:    1\n",
       "H2O cluster free memory:    10.67 Gb\n",
       "H2O cluster total cores:    4\n",
       "H2O cluster allowed cores:  4\n",
       "H2O cluster status:         accepting new members, healthy\n",
       "H2O connection url:         http://127.0.0.1:54321\n",
       "H2O connection proxy:\n",
       "H2O internal security:      False\n",
       "H2O API Extensions:         XGBoost, Algos, AutoML, Core V3, Core V4\n",
       "Python version:             3.5.2 final\n",
       "--------------------------  ----------------------------------------"
      ]
     },
     "metadata": {},
     "output_type": "display_data"
    }
   ],
   "source": [
    "h2o.init(max_mem_size=\"12G\")"
   ]
  },
  {
   "cell_type": "code",
   "execution_count": 152,
   "metadata": {
    "collapsed": false
   },
   "outputs": [
    {
     "name": "stdout",
     "output_type": "stream",
     "text": [
      "gbm Grid Build progress: |█████████████████████████████████████████████████| 100%\n"
     ]
    }
   ],
   "source": [
    "# GBM hyperparameters\n",
    "\n",
    "gbm_params1 = {'learn_rate': [0.01, 0.1],\n",
    "                'max_depth': [3, 5, 9],\n",
    "                'sample_rate': [0.8, 1.0],\n",
    "                'col_sample_rate': [0.2, 0.5, 1.0]}\n",
    "\n",
    "# Train and validate a cartesian grid of GBMs\n",
    "gbm_grid1 = H2OGridSearch(model=H2OGradientBoostingEstimator,\n",
    "                          grid_id='gbm_grid1',\n",
    "                          hyper_params=gbm_params1)\n",
    "gbm_grid1.train(x=x, y=\"is_promoted\",\n",
    "                training_frame=train,\n",
    "                validation_frame=valid,\n",
    "                ntrees=500,\n",
    "                seed=1)\n",
    "\n",
    "\n"
   ]
  },
  {
   "cell_type": "code",
   "execution_count": 157,
   "metadata": {
    "collapsed": false
   },
   "outputs": [
    {
     "name": "stdout",
     "output_type": "stream",
     "text": [
      "gbm prediction progress: |████████████████████████████████████████████████| 100%\n"
     ]
    }
   ],
   "source": [
    "# gbm_grid1.get_grid()\n",
    "# gbm_grid1.models[0]\n",
    "best_gbm1 = gbm_grid1.models[0]\n",
    "preds = best_gbm1.predict(testh2o).as_data_frame()\n",
    "preds['employee_id'] = test_raw['employee_id']\n",
    "preds.to_csv(\"gbm_tune.csv\")"
   ]
  },
  {
   "cell_type": "code",
   "execution_count": 150,
   "metadata": {
    "collapsed": false
   },
   "outputs": [
    {
     "ename": "NameError",
     "evalue": "name 'gbm_grid1' is not defined",
     "output_type": "error",
     "traceback": [
      "\u001b[0;31m---------------------------------------------------------------------------\u001b[0m",
      "\u001b[0;31mNameError\u001b[0m                                 Traceback (most recent call last)",
      "\u001b[0;32m<ipython-input-150-95c7e493a97e>\u001b[0m in \u001b[0;36m<module>\u001b[0;34m()\u001b[0m\n\u001b[1;32m      1\u001b[0m \u001b[0;31m# Get the grid results, sorted by validation MAE\u001b[0m\u001b[0;34m\u001b[0m\u001b[0;34m\u001b[0m\u001b[0m\n\u001b[0;32m----> 2\u001b[0;31m \u001b[0mgbm_gridperf1\u001b[0m \u001b[0;34m=\u001b[0m \u001b[0mgbm_grid1\u001b[0m\u001b[0;34m.\u001b[0m\u001b[0mget_grid\u001b[0m\u001b[0;34m(\u001b[0m\u001b[0;34m)\u001b[0m\u001b[0;34m\u001b[0m\u001b[0m\n\u001b[0m",
      "\u001b[0;31mNameError\u001b[0m: name 'gbm_grid1' is not defined"
     ]
    }
   ],
   "source": [
    "# Get the grid results, sorted by validation MAE\n",
    "gbm_gridperf1 = gbm_grid1.get_grid()"
   ]
  },
  {
   "cell_type": "code",
   "execution_count": 126,
   "metadata": {
    "collapsed": false
   },
   "outputs": [
    {
     "name": "stderr",
     "output_type": "stream",
     "text": [
      "/Users/reetkanjilal/ml/IIMB_kaggle/lib/python3.5/site-packages/h2o/utils/shared_utils.py:177: FutureWarning: Method .as_matrix will be removed in a future version. Use .values instead.\n",
      "  data = _handle_python_lists(python_obj.as_matrix().tolist(), -1)[1]\n"
     ]
    },
    {
     "name": "stdout",
     "output_type": "stream",
     "text": [
      "Parse progress: |█████████████████████████████████████████████████████████| 100%\n",
      "Parse progress: |█████████████████████████████████████████████████████████| 100%\n"
     ]
    }
   ],
   "source": [
    "y = 'is_promoted'\n",
    "drop_clmn = ['employee_id','Unnamed: 0','department','region','education','recruitment_channel','gender']\n",
    "\n",
    "\n",
    "train_data = train_raw.drop(drop_clmn,axis=1)\n",
    "test_data = test_raw.drop(drop_clmn,axis=1)\n",
    "\n",
    "trainh2o = h2o.H2OFrame(train_data)\n",
    "testh2o = h2o.H2OFrame(test_data)\n",
    "\n",
    "train, valid = trainh2o.split_frame(ratios=[0.9], seed=1)\n",
    "\n"
   ]
  },
  {
   "cell_type": "code",
   "execution_count": 132,
   "metadata": {
    "collapsed": true
   },
   "outputs": [],
   "source": [
    "y = 'is_promoted'\n",
    "x = list(train.columns)\n",
    "x.remove(y)\n",
    "\n",
    "\n",
    "# For binary classification, response should be a factor\n",
    "train[y] = train[y].asfactor()\n",
    "valid[y] = valid[y].asfactor()"
   ]
  },
  {
   "cell_type": "code",
   "execution_count": 133,
   "metadata": {
    "collapsed": true
   },
   "outputs": [],
   "source": [
    "def plot_perf(grid, test):\n",
    "    print('best')\n",
    "    for index, model in enumerate(grid.models):\n",
    "        print ('model',index)\n",
    "        print ('id',model.model_id)\n",
    "        perf_grid = model.model_performance(test)\n",
    "        print ('gini:',perf_grid.gini())\n",
    "        print ('auc:',perf_grid.auc())\n",
    "        print ('--------\\n\\n')\n",
    "\n",
    "#for ensamble\n",
    "nfolds=2\n",
    "\n",
    "#same random seed or ensemble wont work\n",
    "#set in all model :'keep_cross_validation_predictions':True, and 'fold_assignment':\"Modulo\",\n",
    "seed=1\n",
    "search_criteria = {\"strategy\": \"RandomDiscrete\", \"max_models\": 2, \"seed\": seed}"
   ]
  },
  {
   "cell_type": "code",
   "execution_count": null,
   "metadata": {
    "collapsed": true
   },
   "outputs": [],
   "source": []
  },
  {
   "cell_type": "code",
   "execution_count": 148,
   "metadata": {
    "collapsed": false
   },
   "outputs": [
    {
     "name": "stdout",
     "output_type": "stream",
     "text": [
      "drf Grid Build progress: |███ (cancelled)\n"
     ]
    },
    {
     "ename": "H2OJobCancelled",
     "evalue": "Job<$03017f00000132d4ffffffff$_a73b3caa5b7c7245cf0eabd311ea4656> was cancelled by the user.",
     "output_type": "error",
     "traceback": [
      "\u001b[0;31m---------------------------------------------------------------------------\u001b[0m",
      "\u001b[0;31mH2OJobCancelled\u001b[0m                           Traceback (most recent call last)",
      "\u001b[0;32m<ipython-input-148-7ff4d8d48b76>\u001b[0m in \u001b[0;36m<module>\u001b[0;34m()\u001b[0m\n\u001b[1;32m     20\u001b[0m                                     search_criteria=search_criteria,)\n\u001b[1;32m     21\u001b[0m \u001b[0;34m\u001b[0m\u001b[0m\n\u001b[0;32m---> 22\u001b[0;31m \u001b[0mgrid_3\u001b[0m\u001b[0;34m.\u001b[0m\u001b[0mtrain\u001b[0m\u001b[0;34m(\u001b[0m\u001b[0mx\u001b[0m\u001b[0;34m=\u001b[0m\u001b[0mx\u001b[0m\u001b[0;34m,\u001b[0m \u001b[0my\u001b[0m\u001b[0;34m=\u001b[0m\u001b[0my\u001b[0m\u001b[0;34m,\u001b[0m \u001b[0mtraining_frame\u001b[0m\u001b[0;34m=\u001b[0m\u001b[0mtrain\u001b[0m\u001b[0;34m,\u001b[0m\u001b[0mvalidation_frame\u001b[0m\u001b[0;34m=\u001b[0m\u001b[0mvalid\u001b[0m\u001b[0;34m)\u001b[0m\u001b[0;34m\u001b[0m\u001b[0m\n\u001b[0m\u001b[1;32m     23\u001b[0m \u001b[0mgrid_3\u001b[0m\u001b[0;34m.\u001b[0m\u001b[0mshow\u001b[0m\u001b[0;34m(\u001b[0m\u001b[0;34m)\u001b[0m\u001b[0;34m\u001b[0m\u001b[0m\n",
      "\u001b[0;32m~/ml/IIMB_kaggle/lib/python3.5/site-packages/h2o/grid/grid_search.py\u001b[0m in \u001b[0;36mtrain\u001b[0;34m(self, x, y, training_frame, offset_column, fold_column, weights_column, validation_frame, **params)\u001b[0m\n\u001b[1;32m    206\u001b[0m         \u001b[0mx\u001b[0m \u001b[0;34m=\u001b[0m \u001b[0mlist\u001b[0m\u001b[0;34m(\u001b[0m\u001b[0mxset\u001b[0m\u001b[0;34m)\u001b[0m\u001b[0;34m\u001b[0m\u001b[0m\n\u001b[1;32m    207\u001b[0m         \u001b[0mparms\u001b[0m\u001b[0;34m[\u001b[0m\u001b[0;34m\"x\"\u001b[0m\u001b[0;34m]\u001b[0m \u001b[0;34m=\u001b[0m \u001b[0mx\u001b[0m\u001b[0;34m\u001b[0m\u001b[0m\n\u001b[0;32m--> 208\u001b[0;31m         \u001b[0mself\u001b[0m\u001b[0;34m.\u001b[0m\u001b[0mbuild_model\u001b[0m\u001b[0;34m(\u001b[0m\u001b[0mparms\u001b[0m\u001b[0;34m)\u001b[0m\u001b[0;34m\u001b[0m\u001b[0m\n\u001b[0m\u001b[1;32m    209\u001b[0m \u001b[0;34m\u001b[0m\u001b[0m\n\u001b[1;32m    210\u001b[0m \u001b[0;34m\u001b[0m\u001b[0m\n",
      "\u001b[0;32m~/ml/IIMB_kaggle/lib/python3.5/site-packages/h2o/grid/grid_search.py\u001b[0m in \u001b[0;36mbuild_model\u001b[0;34m(self, algo_params)\u001b[0m\n\u001b[1;32m    221\u001b[0m         \u001b[0;32mif\u001b[0m \u001b[0mis_auto_encoder\u001b[0m \u001b[0;32mand\u001b[0m \u001b[0my\u001b[0m \u001b[0;32mis\u001b[0m \u001b[0;32mnot\u001b[0m \u001b[0;32mNone\u001b[0m\u001b[0;34m:\u001b[0m \u001b[0;32mraise\u001b[0m \u001b[0mValueError\u001b[0m\u001b[0;34m(\u001b[0m\u001b[0;34m\"y should not be specified for autoencoder.\"\u001b[0m\u001b[0;34m)\u001b[0m\u001b[0;34m\u001b[0m\u001b[0m\n\u001b[1;32m    222\u001b[0m         \u001b[0;32mif\u001b[0m \u001b[0;32mnot\u001b[0m \u001b[0mis_unsupervised\u001b[0m \u001b[0;32mand\u001b[0m \u001b[0my\u001b[0m \u001b[0;32mis\u001b[0m \u001b[0;32mNone\u001b[0m\u001b[0;34m:\u001b[0m \u001b[0;32mraise\u001b[0m \u001b[0mValueError\u001b[0m\u001b[0;34m(\u001b[0m\u001b[0;34m\"Missing response\"\u001b[0m\u001b[0;34m)\u001b[0m\u001b[0;34m\u001b[0m\u001b[0m\n\u001b[0;32m--> 223\u001b[0;31m         \u001b[0mself\u001b[0m\u001b[0;34m.\u001b[0m\u001b[0m_model_build\u001b[0m\u001b[0;34m(\u001b[0m\u001b[0mx\u001b[0m\u001b[0;34m,\u001b[0m \u001b[0my\u001b[0m\u001b[0;34m,\u001b[0m \u001b[0mtraining_frame\u001b[0m\u001b[0;34m,\u001b[0m \u001b[0mvalidation_frame\u001b[0m\u001b[0;34m,\u001b[0m \u001b[0malgo_params\u001b[0m\u001b[0;34m)\u001b[0m\u001b[0;34m\u001b[0m\u001b[0m\n\u001b[0m\u001b[1;32m    224\u001b[0m \u001b[0;34m\u001b[0m\u001b[0m\n\u001b[1;32m    225\u001b[0m \u001b[0;34m\u001b[0m\u001b[0m\n",
      "\u001b[0;32m~/ml/IIMB_kaggle/lib/python3.5/site-packages/h2o/grid/grid_search.py\u001b[0m in \u001b[0;36m_model_build\u001b[0;34m(self, x, y, tframe, vframe, kwargs)\u001b[0m\n\u001b[1;32m    249\u001b[0m             \u001b[0;32mreturn\u001b[0m\u001b[0;34m\u001b[0m\u001b[0m\n\u001b[1;32m    250\u001b[0m \u001b[0;34m\u001b[0m\u001b[0m\n\u001b[0;32m--> 251\u001b[0;31m         \u001b[0mgrid\u001b[0m\u001b[0;34m.\u001b[0m\u001b[0mpoll\u001b[0m\u001b[0;34m(\u001b[0m\u001b[0;34m)\u001b[0m\u001b[0;34m\u001b[0m\u001b[0m\n\u001b[0m\u001b[1;32m    252\u001b[0m \u001b[0;34m\u001b[0m\u001b[0m\n\u001b[1;32m    253\u001b[0m         \u001b[0mgrid_json\u001b[0m \u001b[0;34m=\u001b[0m \u001b[0mh2o\u001b[0m\u001b[0;34m.\u001b[0m\u001b[0mapi\u001b[0m\u001b[0;34m(\u001b[0m\u001b[0;34m\"GET /99/Grids/%s\"\u001b[0m \u001b[0;34m%\u001b[0m \u001b[0;34m(\u001b[0m\u001b[0mgrid\u001b[0m\u001b[0;34m.\u001b[0m\u001b[0mdest_key\u001b[0m\u001b[0;34m)\u001b[0m\u001b[0;34m)\u001b[0m\u001b[0;34m\u001b[0m\u001b[0m\n",
      "\u001b[0;32m~/ml/IIMB_kaggle/lib/python3.5/site-packages/h2o/job.py\u001b[0m in \u001b[0;36mpoll\u001b[0;34m(self, verbose_model_scoring_history)\u001b[0m\n\u001b[1;32m     71\u001b[0m         \u001b[0;31m# check if failed... and politely print relevant message\u001b[0m\u001b[0;34m\u001b[0m\u001b[0;34m\u001b[0m\u001b[0m\n\u001b[1;32m     72\u001b[0m         \u001b[0;32mif\u001b[0m \u001b[0mself\u001b[0m\u001b[0;34m.\u001b[0m\u001b[0mstatus\u001b[0m \u001b[0;34m==\u001b[0m \u001b[0;34m\"CANCELLED\"\u001b[0m\u001b[0;34m:\u001b[0m\u001b[0;34m\u001b[0m\u001b[0m\n\u001b[0;32m---> 73\u001b[0;31m             \u001b[0;32mraise\u001b[0m \u001b[0mH2OJobCancelled\u001b[0m\u001b[0;34m(\u001b[0m\u001b[0;34m\"Job<%s> was cancelled by the user.\"\u001b[0m \u001b[0;34m%\u001b[0m \u001b[0mself\u001b[0m\u001b[0;34m.\u001b[0m\u001b[0mjob_key\u001b[0m\u001b[0;34m)\u001b[0m\u001b[0;34m\u001b[0m\u001b[0m\n\u001b[0m\u001b[1;32m     74\u001b[0m         \u001b[0;32mif\u001b[0m \u001b[0mself\u001b[0m\u001b[0;34m.\u001b[0m\u001b[0mstatus\u001b[0m \u001b[0;34m==\u001b[0m \u001b[0;34m\"FAILED\"\u001b[0m\u001b[0;34m:\u001b[0m\u001b[0;34m\u001b[0m\u001b[0m\n\u001b[1;32m     75\u001b[0m             \u001b[0;32mif\u001b[0m \u001b[0;34m(\u001b[0m\u001b[0misinstance\u001b[0m\u001b[0;34m(\u001b[0m\u001b[0mself\u001b[0m\u001b[0;34m.\u001b[0m\u001b[0mjob\u001b[0m\u001b[0;34m,\u001b[0m \u001b[0mdict\u001b[0m\u001b[0;34m)\u001b[0m\u001b[0;34m)\u001b[0m \u001b[0;32mand\u001b[0m \u001b[0;34m(\u001b[0m\u001b[0;34m\"stacktrace\"\u001b[0m \u001b[0;32min\u001b[0m \u001b[0mlist\u001b[0m\u001b[0;34m(\u001b[0m\u001b[0mself\u001b[0m\u001b[0;34m.\u001b[0m\u001b[0mjob\u001b[0m\u001b[0;34m)\u001b[0m\u001b[0;34m)\u001b[0m\u001b[0;34m:\u001b[0m\u001b[0;34m\u001b[0m\u001b[0m\n",
      "\u001b[0;31mH2OJobCancelled\u001b[0m: Job<$03017f00000132d4ffffffff$_a73b3caa5b7c7245cf0eabd311ea4656> was cancelled by the user."
     ]
    }
   ],
   "source": [
    "hyper_parameters = {\n",
    "                    'max_depth':[4,6,8,10],\n",
    "                    \"ntrees\":[300, 250, 350, 400, 500],\n",
    "                    \"sample_rate\": [0.8, 0.7,0.6],\n",
    "}\n",
    "\n",
    "params = {\n",
    "          \"balance_classes\": True,\n",
    "          \"seed\":1234,\n",
    "          \"fold_assignment\":\"Modulo\",\n",
    "          \"nfolds\":nfolds,\n",
    "          \"keep_cross_validation_predictions\":True,\n",
    "          \"stopping_rounds\":10,\n",
    "          \"stopping_metric\":'AUC'}\n",
    "          \n",
    "\n",
    "grid_3 = H2OGridSearch(H2ORandomForestEstimator(**params\n",
    "                                   \n",
    "                                   ), hyper_params=hyper_parameters,\n",
    "                                    search_criteria=search_criteria,)\n",
    "\n",
    "grid_3.train(x=x, y=y, training_frame=train,validation_frame=valid)\n",
    "grid_3.show()"
   ]
  },
  {
   "cell_type": "code",
   "execution_count": 135,
   "metadata": {
    "collapsed": false
   },
   "outputs": [
    {
     "name": "stdout",
     "output_type": "stream",
     "text": [
      "best\n",
      "model 0\n",
      "id Grid_DRF_py_34_sid_b1b6_model_python_1537101360347_2_model_1\n",
      "gini: 0.5252403189688133\n",
      "auc: 0.7626201594844066\n",
      "--------\n",
      "\n",
      "\n",
      "model 1\n",
      "id Grid_DRF_py_34_sid_b1b6_model_python_1537101360347_2_model_0\n",
      "gini: 0.525619913703643\n",
      "auc: 0.7628099568518215\n",
      "--------\n",
      "\n",
      "\n"
     ]
    },
    {
     "ename": "NameError",
     "evalue": "name 'test' is not defined",
     "output_type": "error",
     "traceback": [
      "\u001b[0;31m---------------------------------------------------------------------------\u001b[0m",
      "\u001b[0;31mNameError\u001b[0m                                 Traceback (most recent call last)",
      "\u001b[0;32m<ipython-input-135-e205df852685>\u001b[0m in \u001b[0;36m<module>\u001b[0;34m()\u001b[0m\n\u001b[1;32m      1\u001b[0m \u001b[0mplot_perf\u001b[0m\u001b[0;34m(\u001b[0m\u001b[0mgrid_3\u001b[0m\u001b[0;34m,\u001b[0m \u001b[0mvalid\u001b[0m\u001b[0;34m)\u001b[0m\u001b[0;34m\u001b[0m\u001b[0m\n\u001b[0;32m----> 2\u001b[0;31m \u001b[0mplot_perf\u001b[0m\u001b[0;34m(\u001b[0m\u001b[0mgrid_3\u001b[0m\u001b[0;34m,\u001b[0m \u001b[0mtest\u001b[0m\u001b[0;34m)\u001b[0m\u001b[0;34m\u001b[0m\u001b[0m\n\u001b[0m",
      "\u001b[0;31mNameError\u001b[0m: name 'test' is not defined"
     ]
    }
   ],
   "source": [
    "plot_perf(grid_3, valid)\n"
   ]
  },
  {
   "cell_type": "code",
   "execution_count": 136,
   "metadata": {
    "collapsed": false
   },
   "outputs": [
    {
     "name": "stdout",
     "output_type": "stream",
     "text": [
      "deeplearning Grid Build progress: |███████████████████████████████████████| 100%\n",
      "    activation              epochs   hidden input_dropout_ratio  rate  \\\n",
      "0       Maxout  12.297120359927648  [10, 5]                0.01  0.05   \n",
      "1       Maxout  12.297120359927648  [10, 5]                0.05  0.01   \n",
      "\n",
      "                                                               model_ids  \\\n",
      "0  Grid_DeepLearning_py_34_sid_b1b6_model_python_1537101360347_77_mod...   \n",
      "1  Grid_DeepLearning_py_34_sid_b1b6_model_python_1537101360347_77_mod...   \n",
      "\n",
      "               logloss  \n",
      "0  0.23532383010838226  \n",
      "1  0.24084975443019707  \n",
      "best\n",
      "model 0\n",
      "id Grid_DeepLearning_py_34_sid_b1b6_model_python_1537101360347_77_model_0\n",
      "gini: 0.6245384783439838\n",
      "auc: 0.8122692391719919\n",
      "--------\n",
      "\n",
      "\n",
      "model 1\n",
      "id Grid_DeepLearning_py_34_sid_b1b6_model_python_1537101360347_77_model_1\n",
      "gini: 0.6100223933584576\n",
      "auc: 0.8050111966792288\n",
      "--------\n",
      "\n",
      "\n"
     ]
    }
   ],
   "source": [
    "hyper_parameters = {#\n",
    "    'activation':[\"Maxout\"],#[\"Rectifier\",\"Tanh\",\"Maxout\",\"RectifierWithDropout\",\"TanhWithDropout\",\"MaxoutWithDropout\"],\n",
    "    'epochs': [12],\n",
    "    'hidden':[ [10, 5] ],\n",
    "    'input_dropout_ratio': [0.01, 0.05],\n",
    "    'rate': [0.01, 0.05],\n",
    "    #'rate_annealing':[1e-9, 1e-8, 1e-7]    \n",
    "}\n",
    "\n",
    "params = {\n",
    "                    \n",
    "          'score_interval':1,\n",
    "          'stopping_rounds':5,\n",
    "          'stopping_metric':'AUC',\n",
    "          'balance_classes' : True,\n",
    "          'nfolds':nfolds,\n",
    "          'seed':seed,\n",
    "          'keep_cross_validation_predictions':True,\n",
    "          'fold_assignment':\"Modulo\",\n",
    "\n",
    "          }\n",
    "\n",
    "grid_4 = H2OGridSearch(H2ODeepLearningEstimator(**params),hyper_params=hyper_parameters,\n",
    "                                    search_criteria=search_criteria)\n",
    "\n",
    "grid_4.train(x=x, y=y, training_frame=train,validation_frame=valid)\n",
    "grid_4.show()\n",
    "plot_perf(grid_4, valid)"
   ]
  },
  {
   "cell_type": "code",
   "execution_count": 137,
   "metadata": {
    "collapsed": false
   },
   "outputs": [
    {
     "name": "stdout",
     "output_type": "stream",
     "text": [
      "glm Grid Build progress: |████████████████████████████████████████████████| 100%\n",
      "     alpha   lambda  \\\n",
      "0    [0.2]  [0.001]   \n",
      "1    [0.8]    [0.1]   \n",
      "\n",
      "                                                        model_ids  \\\n",
      "0  Grid_GLM_py_34_sid_b1b6_model_python_1537101360347_128_model_1   \n",
      "1  Grid_GLM_py_34_sid_b1b6_model_python_1537101360347_128_model_0   \n",
      "\n",
      "               logloss  \n",
      "0   0.2380114346878762  \n",
      "1  0.29650758828966534  \n",
      "best\n",
      "model 0\n",
      "id Grid_GLM_py_34_sid_b1b6_model_python_1537101360347_128_model_1\n",
      "gini: 0.5782722977770496\n",
      "auc: 0.7891361488885248\n",
      "--------\n",
      "\n",
      "\n",
      "model 1\n",
      "id Grid_GLM_py_34_sid_b1b6_model_python_1537101360347_128_model_0\n",
      "gini: 0.0\n",
      "auc: 0.5\n",
      "--------\n",
      "\n",
      "\n"
     ]
    }
   ],
   "source": [
    "hyper_parameters = { 'alpha': [0.2, 0.3, 0.4,  0.5, 0.6, 0.7, 0.8], \n",
    "                     'lambda': [1e-10, 1e-9, 1, 0.5, 0.1, 0.01, 0.001, 0.0001, 0.00001, 0] }\n",
    "params = {\n",
    "          'family':'binomial',\n",
    "          'nfolds':nfolds,\n",
    "          'seed':seed, \n",
    "          'fold_assignment':\"Modulo\",\n",
    "          'keep_cross_validation_predictions':True,\n",
    "          }\n",
    "grid_5 = H2OGridSearch( H2OGeneralizedLinearEstimator(**params), hyper_params=hyper_parameters,\n",
    "                                    search_criteria=search_criteria)\n",
    "grid_5.train(x=x, y=y, training_frame=train, validation_frame=valid)\n",
    "grid_5.show()\n",
    "plot_perf(grid_5, valid)"
   ]
  },
  {
   "cell_type": "code",
   "execution_count": 138,
   "metadata": {
    "collapsed": false
   },
   "outputs": [
    {
     "name": "stdout",
     "output_type": "stream",
     "text": [
      "gbm Grid Build progress: |████████████████████████████████████████████████| 100%\n",
      "    col_sample_rate learn_rate max_depth ntrees sample_rate  \\\n",
      "0               0.7       0.05         4     50         0.8   \n",
      "1               0.7       0.01         4     29         0.7   \n",
      "\n",
      "                   model_ids             logloss  \n",
      "0  gbm_grid_binomial_model_0  0.2276483814928897  \n",
      "1  gbm_grid_binomial_model_1  0.2735887995540484  \n",
      "best\n",
      "model 0\n",
      "id gbm_grid_binomial_model_0\n",
      "gini: 0.6494087607187722\n",
      "auc: 0.8247043803593861\n",
      "--------\n",
      "\n",
      "\n",
      "model 1\n",
      "id gbm_grid_binomial_model_1\n",
      "gini: 0.6261647277295319\n",
      "auc: 0.813082363864766\n",
      "--------\n",
      "\n",
      "\n"
     ]
    }
   ],
   "source": [
    "hyper_parameters = {\"ntrees\":[50],\n",
    "                \"learn_rate\": [0.05, 0.01],\n",
    "                \"max_depth\": [4],\n",
    "                \"sample_rate\": [0.8, 0.9, 0.7],\n",
    "                \"col_sample_rate\": [ 0.6, 0.7, 0.8]}\n",
    "\n",
    "params = {\n",
    "          \"balance_classes\": True,\n",
    "          \"seed\":seed,\n",
    "          \"fold_assignment\":\"Modulo\",\n",
    "          \"nfolds\":nfolds,\n",
    "          \"keep_cross_validation_predictions\":True,\n",
    "          \"stopping_tolerance\":0.0005,\n",
    "          \"stopping_metric\":'AUC',\n",
    "          \"stopping_rounds\":10,\n",
    "          \"score_each_iteration\":True,\n",
    "          \"score_tree_interval\":50          \n",
    "          }\n",
    "\n",
    "# Train the grid\n",
    "grid_1 = H2OGridSearch(model=H2OGradientBoostingEstimator(**params),\n",
    "                     hyper_params=hyper_parameters,\n",
    "                     search_criteria=search_criteria,\n",
    "                     grid_id=\"gbm_grid_binomial\")\n",
    "grid_1.train(x=x, y=y, training_frame=train, validation_frame=valid)\n",
    "grid_1.show()\n",
    "plot_perf(grid_1, valid)"
   ]
  },
  {
   "cell_type": "code",
   "execution_count": 139,
   "metadata": {
    "collapsed": true
   },
   "outputs": [],
   "source": [
    "base_models=[grid_1.model_ids[0],grid_3.model_ids[0],grid_4.model_ids[0], grid_5.model_ids[0]]\n",
    "ensemble = H2OStackedEnsembleEstimator(model_id=\"my_ensemble_1\",base_models=base_models)\n"
   ]
  },
  {
   "cell_type": "code",
   "execution_count": 140,
   "metadata": {
    "collapsed": false
   },
   "outputs": [
    {
     "name": "stdout",
     "output_type": "stream",
     "text": [
      "stackedensemble Model Build progress: |███████████████████████████████████| 100%\n"
     ]
    }
   ],
   "source": [
    "ensemble.train(x=x, y=y, training_frame=train)"
   ]
  },
  {
   "cell_type": "code",
   "execution_count": 142,
   "metadata": {
    "collapsed": false
   },
   "outputs": [
    {
     "name": "stdout",
     "output_type": "stream",
     "text": [
      "stackedensemble prediction progress: |████████████████████████████████████| 100%\n"
     ]
    }
   ],
   "source": [
    "test_pred = ensemble.predict(testh2o)"
   ]
  },
  {
   "cell_type": "code",
   "execution_count": 147,
   "metadata": {
    "collapsed": false
   },
   "outputs": [
    {
     "name": "stdout",
     "output_type": "stream",
     "text": [
      "stackedensemble prediction progress: |████████████████████████████████████| 100%\n"
     ]
    }
   ],
   "source": [
    "pred_ens = ensemble.predict(testh2o).as_data_frame()\n",
    "# test_pred = test_pred.as_data_frame()\n",
    "pred_ens['employee_id'] = test_raw['employee_id']\n",
    "pred_ens.to_csv(\"ensmbl1.csv\")"
   ]
  },
  {
   "cell_type": "code",
   "execution_count": 145,
   "metadata": {
    "collapsed": false
   },
   "outputs": [
    {
     "ename": "H2OTypeError",
     "evalue": "Argument `data` should be an H2OFrame, got Series 0         8724\n1        74430\n2        72255\n3        38562\n4        64486\n5        46232\n6        54542\n7        67269\n8        66174\n9        76303\n10       60245\n11       42639\n12       30963\n13       54055\n14       42996\n15       12737\n16       27561\n17       26622\n18       31582\n19       29793\n20       72735\n21        5677\n22       60889\n23       51498\n24        8566\n25       53151\n26       16203\n27       61083\n28       74849\n29       13259\n         ...  \n23460    72190\n23461    27155\n23462    15959\n23463    72900\n23464    57683\n23465    55174\n23466    51115\n23467    50134\n23468    59775\n23469    14408\n23470     4351\n23471    59625\n23472    29379\n23473    67979\n23474    61451\n23475    73871\n23476    52090\n23477    18488\n23478    59673\n23479    39410\n23480    11837\n23481    78278\n23482    27284\n23483    49291\n23484    47537\n23485    53478\n23486    25600\n23487    45409\n23488     1186\n23489     5973\nName: employee_id, Length: 23490, dtype: int64",
     "output_type": "error",
     "traceback": [
      "\u001b[0;31m---------------------------------------------------------------------------\u001b[0m",
      "\u001b[0;31mH2OTypeError\u001b[0m                              Traceback (most recent call last)",
      "\u001b[0;32m<ipython-input-145-51fe61402852>\u001b[0m in \u001b[0;36m<module>\u001b[0;34m()\u001b[0m\n\u001b[1;32m      2\u001b[0m \u001b[0;34m\u001b[0m\u001b[0m\n\u001b[1;32m      3\u001b[0m \u001b[0mtest_id\u001b[0m \u001b[0;34m=\u001b[0m \u001b[0mtest_raw\u001b[0m\u001b[0;34m[\u001b[0m\u001b[0;34m'employee_id'\u001b[0m\u001b[0;34m]\u001b[0m\u001b[0;34m\u001b[0m\u001b[0m\n\u001b[0;32m----> 4\u001b[0;31m \u001b[0msubmission\u001b[0m \u001b[0;34m=\u001b[0m \u001b[0mpd\u001b[0m\u001b[0;34m.\u001b[0m\u001b[0mconcat\u001b[0m\u001b[0;34m(\u001b[0m\u001b[0;34m(\u001b[0m\u001b[0mh2o\u001b[0m\u001b[0;34m.\u001b[0m\u001b[0mas_list\u001b[0m\u001b[0;34m(\u001b[0m\u001b[0mtest_id\u001b[0m\u001b[0;34m)\u001b[0m\u001b[0;34m,\u001b[0m \u001b[0mh2o\u001b[0m\u001b[0;34m.\u001b[0m\u001b[0mas_list\u001b[0m\u001b[0;34m(\u001b[0m\u001b[0mtest_pred\u001b[0m\u001b[0;34m[\u001b[0m\u001b[0;34m'predict'\u001b[0m\u001b[0;34m]\u001b[0m\u001b[0;34m)\u001b[0m\u001b[0;34m)\u001b[0m\u001b[0;34m,\u001b[0m \u001b[0maxis\u001b[0m\u001b[0;34m=\u001b[0m\u001b[0;36m1\u001b[0m\u001b[0;34m,\u001b[0m \u001b[0mignore_index\u001b[0m\u001b[0;34m=\u001b[0m\u001b[0;32mTrue\u001b[0m\u001b[0;34m)\u001b[0m\u001b[0;34m\u001b[0m\u001b[0m\n\u001b[0m",
      "\u001b[0;32m~/ml/IIMB_kaggle/lib/python3.5/site-packages/h2o/h2o.py\u001b[0m in \u001b[0;36mas_list\u001b[0;34m(data, use_pandas, header)\u001b[0m\n\u001b[1;32m   1202\u001b[0m     \u001b[0;34m:\u001b[0m\u001b[0mreturns\u001b[0m\u001b[0;34m:\u001b[0m \u001b[0mList\u001b[0m \u001b[0mof\u001b[0m \u001b[0mlists\u001b[0m \u001b[0;34m(\u001b[0m\u001b[0mRows\u001b[0m \u001b[0mx\u001b[0m \u001b[0mColumns\u001b[0m\u001b[0;34m)\u001b[0m\u001b[0;34m.\u001b[0m\u001b[0;34m\u001b[0m\u001b[0m\n\u001b[1;32m   1203\u001b[0m     \"\"\"\n\u001b[0;32m-> 1204\u001b[0;31m     \u001b[0massert_is_type\u001b[0m\u001b[0;34m(\u001b[0m\u001b[0mdata\u001b[0m\u001b[0;34m,\u001b[0m \u001b[0mH2OFrame\u001b[0m\u001b[0;34m)\u001b[0m\u001b[0;34m\u001b[0m\u001b[0m\n\u001b[0m\u001b[1;32m   1205\u001b[0m     \u001b[0massert_is_type\u001b[0m\u001b[0;34m(\u001b[0m\u001b[0muse_pandas\u001b[0m\u001b[0;34m,\u001b[0m \u001b[0mbool\u001b[0m\u001b[0;34m)\u001b[0m\u001b[0;34m\u001b[0m\u001b[0m\n\u001b[1;32m   1206\u001b[0m     \u001b[0massert_is_type\u001b[0m\u001b[0;34m(\u001b[0m\u001b[0mheader\u001b[0m\u001b[0;34m,\u001b[0m \u001b[0mbool\u001b[0m\u001b[0;34m)\u001b[0m\u001b[0;34m\u001b[0m\u001b[0m\n",
      "\u001b[0;32m~/ml/IIMB_kaggle/lib/python3.5/site-packages/h2o/utils/typechecks.py\u001b[0m in \u001b[0;36massert_is_type\u001b[0;34m(var, *types, **kwargs)\u001b[0m\n\u001b[1;32m    455\u001b[0m     \u001b[0mvtn\u001b[0m \u001b[0;34m=\u001b[0m \u001b[0m_get_type_name\u001b[0m\u001b[0;34m(\u001b[0m\u001b[0mtype\u001b[0m\u001b[0;34m(\u001b[0m\u001b[0mvar\u001b[0m\u001b[0;34m)\u001b[0m\u001b[0;34m)\u001b[0m\u001b[0;34m\u001b[0m\u001b[0m\n\u001b[1;32m    456\u001b[0m     raise H2OTypeError(var_name=vname, var_value=var, var_type_name=vtn, exp_type_name=etn, message=message,\n\u001b[0;32m--> 457\u001b[0;31m                        skip_frames=skip_frames)\n\u001b[0m\u001b[1;32m    458\u001b[0m \u001b[0;34m\u001b[0m\u001b[0m\n\u001b[1;32m    459\u001b[0m \u001b[0;34m\u001b[0m\u001b[0m\n",
      "\u001b[0;31mH2OTypeError\u001b[0m: Argument `data` should be an H2OFrame, got Series 0         8724\n1        74430\n2        72255\n3        38562\n4        64486\n5        46232\n6        54542\n7        67269\n8        66174\n9        76303\n10       60245\n11       42639\n12       30963\n13       54055\n14       42996\n15       12737\n16       27561\n17       26622\n18       31582\n19       29793\n20       72735\n21        5677\n22       60889\n23       51498\n24        8566\n25       53151\n26       16203\n27       61083\n28       74849\n29       13259\n         ...  \n23460    72190\n23461    27155\n23462    15959\n23463    72900\n23464    57683\n23465    55174\n23466    51115\n23467    50134\n23468    59775\n23469    14408\n23470     4351\n23471    59625\n23472    29379\n23473    67979\n23474    61451\n23475    73871\n23476    52090\n23477    18488\n23478    59673\n23479    39410\n23480    11837\n23481    78278\n23482    27284\n23483    49291\n23484    47537\n23485    53478\n23486    25600\n23487    45409\n23488     1186\n23489     5973\nName: employee_id, Length: 23490, dtype: int64"
     ]
    }
   ],
   "source": [
    "\n",
    "\n",
    "test_id = test_raw['employee_id']\n",
    "submission = pd.concat((h2o.as_list(test_id), h2o.as_list(test_pred['predict'])), axis=1, ignore_index=True)\n"
   ]
  },
  {
   "cell_type": "code",
   "execution_count": 125,
   "metadata": {
    "collapsed": false
   },
   "outputs": [
    {
     "name": "stdout",
     "output_type": "stream",
     "text": [
      "<class 'pandas.core.frame.DataFrame'>\n",
      "RangeIndex: 43852 entries, 0 to 43851\n",
      "Data columns (total 24 columns):\n",
      "no_of_trainings                 43852 non-null int64\n",
      "age                             43852 non-null int64\n",
      "previous_year_rating            43852 non-null int64\n",
      "length_of_service               43852 non-null int64\n",
      "KPIs_met >80%                   43852 non-null int64\n",
      "awards_won?                     43852 non-null int64\n",
      "avg_training_score              43852 non-null int64\n",
      "is_promoted                     43852 non-null int64\n",
      "age_group_1                     43852 non-null int64\n",
      "age_group_2                     43852 non-null int64\n",
      "age_group_3                     43852 non-null int64\n",
      "avg_traiing_score_1             43852 non-null int64\n",
      "avg_traiing_score_2             43852 non-null int64\n",
      "avg_traiing_score_3             43852 non-null int64\n",
      "avg_traiing_score_4             43852 non-null int64\n",
      "avg_traiing_score_5             43852 non-null int64\n",
      "avg_traiing_score_6             43852 non-null int64\n",
      "avg_traiing_score_7             43852 non-null int64\n",
      "avg_traiing_score_8             43852 non-null int64\n",
      "recruitment_channel_sourcing    43852 non-null int64\n",
      "recruitment_channel_referred    43852 non-null int64\n",
      "education_MS                    43852 non-null int64\n",
      "education_Sec                   43852 non-null int64\n",
      "gender_m                        43852 non-null int64\n",
      "dtypes: int64(24)\n",
      "memory usage: 8.0 MB\n"
     ]
    }
   ],
   "source": [
    "drop_clmn = ['employee_id','Unnamed: 0','department','region','education','recruitment_channel','gender']\n",
    "train_raw.drop(drop_clmn,axis=1).info()"
   ]
  },
  {
   "cell_type": "code",
   "execution_count": null,
   "metadata": {
    "collapsed": true
   },
   "outputs": [],
   "source": []
  },
  {
   "cell_type": "code",
   "execution_count": 49,
   "metadata": {
    "collapsed": true
   },
   "outputs": [],
   "source": [
    "# from h2o.estimators import H2OXGBoostEstimator\n",
    "from h2o.estimators.xgboost import H2OXGBoostEstimator"
   ]
  },
  {
   "cell_type": "code",
   "execution_count": 50,
   "metadata": {
    "collapsed": false
   },
   "outputs": [],
   "source": [
    "# GBM hyperparameters\n",
    "x = trainh2o.columns\n",
    "y = \"is_promoted\"\n",
    "x.remove(y)\n",
    "ID = 'employee_id'\n",
    "x.remove(ID)\n",
    "x.remove(x[0])\n",
    "\n",
    "\n",
    "\n",
    "\n",
    "param = {\n",
    "      \"ntrees\" : 10\n",
    "    , \"min_rows\" : 5\n",
    "    , \"seed\": 4241\n",
    "    , \"score_tree_interval\": 1\n",
    "}\n",
    "\n",
    "\n",
    "\n",
    "xgb_params1 = {'learn_rate': [i * 0.01 for i in range(1, 3)],\n",
    "               'max_depth': list(range(4, 7)),\n",
    "               'sample_rate': [i * 0.1 for i in range(8, 10)],\n",
    "               'col_sample_rate': [i * 0.1 for i in range(8, 10)]}\n",
    "\n",
    "# Train and validate a cartesian grid of GBMs\n",
    "xgb_grid1 = H2OGridSearch(H2OXGBoostEstimator(**param),\n",
    "                          grid_id='xgb_grid1',\n",
    "                          hyper_params=xgb_params1)\n",
    "\n"
   ]
  },
  {
   "cell_type": "code",
   "execution_count": null,
   "metadata": {
    "collapsed": true
   },
   "outputs": [],
   "source": [
    "{'learn_rate': [i * 0.01 for i in range(1, 3)],\n",
    "               'max_depth': list(range(4, 7)),\n",
    "               'sample_rate': [i * 0.1 for i in range(8, 10)],\n",
    "               'col_sample_rate': [i * 0.1 for i in range(8, 10)]}\n",
    "\n"
   ]
  },
  {
   "cell_type": "code",
   "execution_count": 45,
   "metadata": {
    "collapsed": false
   },
   "outputs": [
    {
     "data": {
      "text/plain": [
       "[0.8, 0.9]"
      ]
     },
     "execution_count": 45,
     "metadata": {},
     "output_type": "execute_result"
    }
   ],
   "source": [
    "[i * 0.1 for i in range(8, 10)]"
   ]
  },
  {
   "cell_type": "code",
   "execution_count": 32,
   "metadata": {
    "collapsed": false
   },
   "outputs": [
    {
     "data": {
      "text/plain": [
       "['department',\n",
       " 'region',\n",
       " 'education',\n",
       " 'gender',\n",
       " 'recruitment_channel',\n",
       " 'no_of_trainings',\n",
       " 'age',\n",
       " 'previous_year_rating',\n",
       " 'length_of_service',\n",
       " 'KPIs_met >80%',\n",
       " 'awards_won?',\n",
       " 'avg_training_score',\n",
       " 'age_group_1',\n",
       " 'age_group_2',\n",
       " 'age_group_3',\n",
       " 'avg_traiing_score_1',\n",
       " 'avg_traiing_score_2',\n",
       " 'avg_traiing_score_3',\n",
       " 'avg_traiing_score_4',\n",
       " 'avg_traiing_score_5',\n",
       " 'avg_traiing_score_6',\n",
       " 'avg_traiing_score_7',\n",
       " 'avg_traiing_score_8']"
      ]
     },
     "execution_count": 32,
     "metadata": {},
     "output_type": "execute_result"
    }
   ],
   "source": []
  },
  {
   "cell_type": "code",
   "execution_count": 54,
   "metadata": {
    "collapsed": false
   },
   "outputs": [],
   "source": [
    "train, valid = trainh2o.split_frame(ratios=[0.9], seed=123)\n",
    "# For binary classification, response should be a factor\n",
    "# y = \"is_promoted\"\n",
    "\n",
    "train['is_promoted'] = train['is_promoted'].asfactor()\n",
    "valid['is_promoted'] = valid['is_promoted'].asfactor()"
   ]
  },
  {
   "cell_type": "code",
   "execution_count": 56,
   "metadata": {
    "collapsed": false
   },
   "outputs": [
    {
     "name": "stdout",
     "output_type": "stream",
     "text": [
      "xgboost Grid Build progress: |████████████████████████████████████████████| 100%\n"
     ]
    },
    {
     "ename": "H2OResponseError",
     "evalue": "Server error water.exceptions.H2OIllegalArgumentException:\n  Error: Failed to find ModelMetrics for criterion: logloss\n  Request: GET /99/Grids/xgb_grid1\n",
     "output_type": "error",
     "traceback": [
      "\u001b[0;31m---------------------------------------------------------------------------\u001b[0m",
      "\u001b[0;31mH2OResponseError\u001b[0m                          Traceback (most recent call last)",
      "\u001b[0;32m<ipython-input-56-cabf080d65a2>\u001b[0m in \u001b[0;36m<module>\u001b[0;34m()\u001b[0m\n\u001b[0;32m----> 1\u001b[0;31m \u001b[0mxgb_grid1\u001b[0m\u001b[0;34m.\u001b[0m\u001b[0mtrain\u001b[0m\u001b[0;34m(\u001b[0m\u001b[0mx\u001b[0m\u001b[0;34m=\u001b[0m\u001b[0mx\u001b[0m\u001b[0;34m,\u001b[0m \u001b[0my\u001b[0m\u001b[0;34m=\u001b[0m\u001b[0;34m'is_promoted'\u001b[0m\u001b[0;34m,\u001b[0m \u001b[0mtraining_frame\u001b[0m\u001b[0;34m=\u001b[0m\u001b[0mtrain\u001b[0m\u001b[0;34m,\u001b[0m\u001b[0mvalidation_frame\u001b[0m\u001b[0;34m=\u001b[0m\u001b[0mvalid\u001b[0m\u001b[0;34m)\u001b[0m\u001b[0;34m\u001b[0m\u001b[0m\n\u001b[0m",
      "\u001b[0;32m~/ml/IIMB_kaggle/lib/python3.5/site-packages/h2o/grid/grid_search.py\u001b[0m in \u001b[0;36mtrain\u001b[0;34m(self, x, y, training_frame, offset_column, fold_column, weights_column, validation_frame, **params)\u001b[0m\n\u001b[1;32m    206\u001b[0m         \u001b[0mx\u001b[0m \u001b[0;34m=\u001b[0m \u001b[0mlist\u001b[0m\u001b[0;34m(\u001b[0m\u001b[0mxset\u001b[0m\u001b[0;34m)\u001b[0m\u001b[0;34m\u001b[0m\u001b[0m\n\u001b[1;32m    207\u001b[0m         \u001b[0mparms\u001b[0m\u001b[0;34m[\u001b[0m\u001b[0;34m\"x\"\u001b[0m\u001b[0;34m]\u001b[0m \u001b[0;34m=\u001b[0m \u001b[0mx\u001b[0m\u001b[0;34m\u001b[0m\u001b[0m\n\u001b[0;32m--> 208\u001b[0;31m         \u001b[0mself\u001b[0m\u001b[0;34m.\u001b[0m\u001b[0mbuild_model\u001b[0m\u001b[0;34m(\u001b[0m\u001b[0mparms\u001b[0m\u001b[0;34m)\u001b[0m\u001b[0;34m\u001b[0m\u001b[0m\n\u001b[0m\u001b[1;32m    209\u001b[0m \u001b[0;34m\u001b[0m\u001b[0m\n\u001b[1;32m    210\u001b[0m \u001b[0;34m\u001b[0m\u001b[0m\n",
      "\u001b[0;32m~/ml/IIMB_kaggle/lib/python3.5/site-packages/h2o/grid/grid_search.py\u001b[0m in \u001b[0;36mbuild_model\u001b[0;34m(self, algo_params)\u001b[0m\n\u001b[1;32m    221\u001b[0m         \u001b[0;32mif\u001b[0m \u001b[0mis_auto_encoder\u001b[0m \u001b[0;32mand\u001b[0m \u001b[0my\u001b[0m \u001b[0;32mis\u001b[0m \u001b[0;32mnot\u001b[0m \u001b[0;32mNone\u001b[0m\u001b[0;34m:\u001b[0m \u001b[0;32mraise\u001b[0m \u001b[0mValueError\u001b[0m\u001b[0;34m(\u001b[0m\u001b[0;34m\"y should not be specified for autoencoder.\"\u001b[0m\u001b[0;34m)\u001b[0m\u001b[0;34m\u001b[0m\u001b[0m\n\u001b[1;32m    222\u001b[0m         \u001b[0;32mif\u001b[0m \u001b[0;32mnot\u001b[0m \u001b[0mis_unsupervised\u001b[0m \u001b[0;32mand\u001b[0m \u001b[0my\u001b[0m \u001b[0;32mis\u001b[0m \u001b[0;32mNone\u001b[0m\u001b[0;34m:\u001b[0m \u001b[0;32mraise\u001b[0m \u001b[0mValueError\u001b[0m\u001b[0;34m(\u001b[0m\u001b[0;34m\"Missing response\"\u001b[0m\u001b[0;34m)\u001b[0m\u001b[0;34m\u001b[0m\u001b[0m\n\u001b[0;32m--> 223\u001b[0;31m         \u001b[0mself\u001b[0m\u001b[0;34m.\u001b[0m\u001b[0m_model_build\u001b[0m\u001b[0;34m(\u001b[0m\u001b[0mx\u001b[0m\u001b[0;34m,\u001b[0m \u001b[0my\u001b[0m\u001b[0;34m,\u001b[0m \u001b[0mtraining_frame\u001b[0m\u001b[0;34m,\u001b[0m \u001b[0mvalidation_frame\u001b[0m\u001b[0;34m,\u001b[0m \u001b[0malgo_params\u001b[0m\u001b[0;34m)\u001b[0m\u001b[0;34m\u001b[0m\u001b[0m\n\u001b[0m\u001b[1;32m    224\u001b[0m \u001b[0;34m\u001b[0m\u001b[0m\n\u001b[1;32m    225\u001b[0m \u001b[0;34m\u001b[0m\u001b[0m\n",
      "\u001b[0;32m~/ml/IIMB_kaggle/lib/python3.5/site-packages/h2o/grid/grid_search.py\u001b[0m in \u001b[0;36m_model_build\u001b[0;34m(self, x, y, tframe, vframe, kwargs)\u001b[0m\n\u001b[1;32m    251\u001b[0m         \u001b[0mgrid\u001b[0m\u001b[0;34m.\u001b[0m\u001b[0mpoll\u001b[0m\u001b[0;34m(\u001b[0m\u001b[0;34m)\u001b[0m\u001b[0;34m\u001b[0m\u001b[0m\n\u001b[1;32m    252\u001b[0m \u001b[0;34m\u001b[0m\u001b[0m\n\u001b[0;32m--> 253\u001b[0;31m         \u001b[0mgrid_json\u001b[0m \u001b[0;34m=\u001b[0m \u001b[0mh2o\u001b[0m\u001b[0;34m.\u001b[0m\u001b[0mapi\u001b[0m\u001b[0;34m(\u001b[0m\u001b[0;34m\"GET /99/Grids/%s\"\u001b[0m \u001b[0;34m%\u001b[0m \u001b[0;34m(\u001b[0m\u001b[0mgrid\u001b[0m\u001b[0;34m.\u001b[0m\u001b[0mdest_key\u001b[0m\u001b[0;34m)\u001b[0m\u001b[0;34m)\u001b[0m\u001b[0;34m\u001b[0m\u001b[0m\n\u001b[0m\u001b[1;32m    254\u001b[0m         \u001b[0mfailure_messages_stacks\u001b[0m \u001b[0;34m=\u001b[0m \u001b[0;34m\"\"\u001b[0m\u001b[0;34m\u001b[0m\u001b[0m\n\u001b[1;32m    255\u001b[0m         \u001b[0merror_index\u001b[0m \u001b[0;34m=\u001b[0m \u001b[0;36m0\u001b[0m\u001b[0;34m\u001b[0m\u001b[0m\n",
      "\u001b[0;32m~/ml/IIMB_kaggle/lib/python3.5/site-packages/h2o/h2o.py\u001b[0m in \u001b[0;36mapi\u001b[0;34m(endpoint, data, json, filename, save_to)\u001b[0m\n\u001b[1;32m    101\u001b[0m     \u001b[0;31m# type checks are performed in H2OConnection class\u001b[0m\u001b[0;34m\u001b[0m\u001b[0;34m\u001b[0m\u001b[0m\n\u001b[1;32m    102\u001b[0m     \u001b[0m_check_connection\u001b[0m\u001b[0;34m(\u001b[0m\u001b[0;34m)\u001b[0m\u001b[0;34m\u001b[0m\u001b[0m\n\u001b[0;32m--> 103\u001b[0;31m     \u001b[0;32mreturn\u001b[0m \u001b[0mh2oconn\u001b[0m\u001b[0;34m.\u001b[0m\u001b[0mrequest\u001b[0m\u001b[0;34m(\u001b[0m\u001b[0mendpoint\u001b[0m\u001b[0;34m,\u001b[0m \u001b[0mdata\u001b[0m\u001b[0;34m=\u001b[0m\u001b[0mdata\u001b[0m\u001b[0;34m,\u001b[0m \u001b[0mjson\u001b[0m\u001b[0;34m=\u001b[0m\u001b[0mjson\u001b[0m\u001b[0;34m,\u001b[0m \u001b[0mfilename\u001b[0m\u001b[0;34m=\u001b[0m\u001b[0mfilename\u001b[0m\u001b[0;34m,\u001b[0m \u001b[0msave_to\u001b[0m\u001b[0;34m=\u001b[0m\u001b[0msave_to\u001b[0m\u001b[0;34m)\u001b[0m\u001b[0;34m\u001b[0m\u001b[0m\n\u001b[0m\u001b[1;32m    104\u001b[0m \u001b[0;34m\u001b[0m\u001b[0m\n\u001b[1;32m    105\u001b[0m \u001b[0;34m\u001b[0m\u001b[0m\n",
      "\u001b[0;32m~/ml/IIMB_kaggle/lib/python3.5/site-packages/h2o/backend/connection.py\u001b[0m in \u001b[0;36mrequest\u001b[0;34m(self, endpoint, data, json, filename, save_to)\u001b[0m\n\u001b[1;32m    400\u001b[0m                                     auth=self._auth, verify=self._verify_ssl_cert, proxies=self._proxies)\n\u001b[1;32m    401\u001b[0m             \u001b[0mself\u001b[0m\u001b[0;34m.\u001b[0m\u001b[0m_log_end_transaction\u001b[0m\u001b[0;34m(\u001b[0m\u001b[0mstart_time\u001b[0m\u001b[0;34m,\u001b[0m \u001b[0mresp\u001b[0m\u001b[0;34m)\u001b[0m\u001b[0;34m\u001b[0m\u001b[0m\n\u001b[0;32m--> 402\u001b[0;31m             \u001b[0;32mreturn\u001b[0m \u001b[0mself\u001b[0m\u001b[0;34m.\u001b[0m\u001b[0m_process_response\u001b[0m\u001b[0;34m(\u001b[0m\u001b[0mresp\u001b[0m\u001b[0;34m,\u001b[0m \u001b[0msave_to\u001b[0m\u001b[0;34m)\u001b[0m\u001b[0;34m\u001b[0m\u001b[0m\n\u001b[0m\u001b[1;32m    403\u001b[0m \u001b[0;34m\u001b[0m\u001b[0m\n\u001b[1;32m    404\u001b[0m         \u001b[0;32mexcept\u001b[0m \u001b[0;34m(\u001b[0m\u001b[0mrequests\u001b[0m\u001b[0;34m.\u001b[0m\u001b[0mexceptions\u001b[0m\u001b[0;34m.\u001b[0m\u001b[0mConnectionError\u001b[0m\u001b[0;34m,\u001b[0m \u001b[0mrequests\u001b[0m\u001b[0;34m.\u001b[0m\u001b[0mexceptions\u001b[0m\u001b[0;34m.\u001b[0m\u001b[0mHTTPError\u001b[0m\u001b[0;34m)\u001b[0m \u001b[0;32mas\u001b[0m \u001b[0me\u001b[0m\u001b[0;34m:\u001b[0m\u001b[0;34m\u001b[0m\u001b[0m\n",
      "\u001b[0;32m~/ml/IIMB_kaggle/lib/python3.5/site-packages/h2o/backend/connection.py\u001b[0m in \u001b[0;36m_process_response\u001b[0;34m(response, save_to)\u001b[0m\n\u001b[1;32m    723\u001b[0m         \u001b[0;31m# Client errors (400 = \"Bad Request\", 404 = \"Not Found\", 412 = \"Precondition Failed\")\u001b[0m\u001b[0;34m\u001b[0m\u001b[0;34m\u001b[0m\u001b[0m\n\u001b[1;32m    724\u001b[0m         \u001b[0;32mif\u001b[0m \u001b[0mstatus_code\u001b[0m \u001b[0;32min\u001b[0m \u001b[0;34m{\u001b[0m\u001b[0;36m400\u001b[0m\u001b[0;34m,\u001b[0m \u001b[0;36m404\u001b[0m\u001b[0;34m,\u001b[0m \u001b[0;36m412\u001b[0m\u001b[0;34m}\u001b[0m \u001b[0;32mand\u001b[0m \u001b[0misinstance\u001b[0m\u001b[0;34m(\u001b[0m\u001b[0mdata\u001b[0m\u001b[0;34m,\u001b[0m \u001b[0;34m(\u001b[0m\u001b[0mH2OErrorV3\u001b[0m\u001b[0;34m,\u001b[0m \u001b[0mH2OModelBuilderErrorV3\u001b[0m\u001b[0;34m)\u001b[0m\u001b[0;34m)\u001b[0m\u001b[0;34m:\u001b[0m\u001b[0;34m\u001b[0m\u001b[0m\n\u001b[0;32m--> 725\u001b[0;31m             \u001b[0;32mraise\u001b[0m \u001b[0mH2OResponseError\u001b[0m\u001b[0;34m(\u001b[0m\u001b[0mdata\u001b[0m\u001b[0;34m)\u001b[0m\u001b[0;34m\u001b[0m\u001b[0m\n\u001b[0m\u001b[1;32m    726\u001b[0m \u001b[0;34m\u001b[0m\u001b[0m\n\u001b[1;32m    727\u001b[0m         \u001b[0;31m# Server errors (notably 500 = \"Server Error\")\u001b[0m\u001b[0;34m\u001b[0m\u001b[0;34m\u001b[0m\u001b[0m\n",
      "\u001b[0;31mH2OResponseError\u001b[0m: Server error water.exceptions.H2OIllegalArgumentException:\n  Error: Failed to find ModelMetrics for criterion: logloss\n  Request: GET /99/Grids/xgb_grid1\n"
     ]
    }
   ],
   "source": [
    "xgb_grid1.train(x=x, y='is_promoted', training_frame=train,validation_frame=valid)"
   ]
  },
  {
   "cell_type": "code",
   "execution_count": 55,
   "metadata": {
    "collapsed": false
   },
   "outputs": [
    {
     "data": {
      "text/plain": [
       "[1,\n",
       " 2,\n",
       " 3,\n",
       " 4,\n",
       " 5,\n",
       " 6,\n",
       " 7,\n",
       " 8,\n",
       " 9,\n",
       " 10,\n",
       " 11,\n",
       " 12,\n",
       " 13,\n",
       " 14,\n",
       " 15,\n",
       " 16,\n",
       " 17,\n",
       " 18,\n",
       " 19,\n",
       " 20,\n",
       " 21,\n",
       " 22,\n",
       " 23,\n",
       " 24,\n",
       " 25]"
      ]
     },
     "execution_count": 55,
     "metadata": {},
     "output_type": "execute_result"
    }
   ],
   "source": [
    "list(range(1, train.shape[1]))"
   ]
  },
  {
   "cell_type": "code",
   "execution_count": 16,
   "metadata": {
    "collapsed": false
   },
   "outputs": [
    {
     "name": "stdout",
     "output_type": "stream",
     "text": [
      "     col_sample_rate learn_rate max_depth sample_rate           model_ids  \\\n",
      "0                1.0        0.1         5         0.8   xgb_grid1_model_7   \n",
      "1                0.8        0.1         5         0.8   xgb_grid1_model_6   \n",
      "2                0.8        0.1         5         1.0  xgb_grid1_model_14   \n",
      "3                1.0        0.1         5         1.0  xgb_grid1_model_15   \n",
      "4                0.8        0.1         3         0.8   xgb_grid1_model_2   \n",
      "5                1.0        0.1         3         1.0  xgb_grid1_model_11   \n",
      "6                1.0        0.1         3         0.8   xgb_grid1_model_3   \n",
      "7                0.8        0.1         3         1.0  xgb_grid1_model_10   \n",
      "8                1.0       0.01         5         0.8   xgb_grid1_model_5   \n",
      "9                1.0       0.01         5         1.0  xgb_grid1_model_13   \n",
      "10               0.8       0.01         5         0.8   xgb_grid1_model_4   \n",
      "11               0.8       0.01         5         1.0  xgb_grid1_model_12   \n",
      "12               1.0       0.01         3         1.0   xgb_grid1_model_9   \n",
      "13               1.0       0.01         3         0.8   xgb_grid1_model_1   \n",
      "14               0.8       0.01         3         0.8   xgb_grid1_model_0   \n",
      "15               0.8       0.01         3         1.0   xgb_grid1_model_8   \n",
      "\n",
      "      residual_deviance  \n",
      "0   0.08253213353006826  \n",
      "1   0.08274667963113781  \n",
      "2   0.08366691588293382  \n",
      "3   0.08381772828174154  \n",
      "4   0.08697399134955935  \n",
      "5   0.08710489258668531  \n",
      "6   0.08711667243847998  \n",
      "7   0.08726825607180315  \n",
      "8   0.21565424460419796  \n",
      "9   0.21577796112653705  \n",
      "10  0.21578610463312736  \n",
      "11  0.21590451507774952  \n",
      "12   0.2163896635561737  \n",
      "13   0.2164018546027628  \n",
      "14  0.21647947163043735  \n",
      "15   0.2165338441433957  \n"
     ]
    },
    {
     "data": {
      "text/plain": []
     },
     "execution_count": 16,
     "metadata": {},
     "output_type": "execute_result"
    }
   ],
   "source": [
    "xgb_grid1.get_grid(sort_by='residual_deviance', decreasing=True)"
   ]
  },
  {
   "cell_type": "code",
   "execution_count": 15,
   "metadata": {
    "collapsed": false
   },
   "outputs": [
    {
     "name": "stdout",
     "output_type": "stream",
     "text": [
      "Model Details\n",
      "=============\n",
      "H2OXGBoostEstimator :  XGBoost\n",
      "Model Key:  xgb_grid1_model_7\n",
      "\n",
      "\n",
      "ModelMetricsRegression: xgboost\n",
      "** Reported on train data. **\n",
      "\n",
      "MSE: 0.08251473989140551\n",
      "RMSE: 0.28725379003836576\n",
      "MAE: 0.25291253033385175\n",
      "RMSLE: 0.2250450924014752\n",
      "Mean Residual Deviance: 0.08251473989140551\n",
      "\n",
      "ModelMetricsRegression: xgboost\n",
      "** Reported on validation data. **\n",
      "\n",
      "MSE: 0.08253213353006826\n",
      "RMSE: 0.2872840641770237\n",
      "MAE: 0.2526148645632865\n",
      "RMSLE: 0.2249142672601103\n",
      "Mean Residual Deviance: 0.08253213353006826\n",
      "Scoring History: \n"
     ]
    },
    {
     "data": {
      "text/html": [
       "<div style=\"overflow:auto\"><table style=\"width:50%\"><tr><td><b></b></td>\n",
       "<td><b>timestamp</b></td>\n",
       "<td><b>duration</b></td>\n",
       "<td><b>number_of_trees</b></td>\n",
       "<td><b>training_rmse</b></td>\n",
       "<td><b>training_mae</b></td>\n",
       "<td><b>training_deviance</b></td>\n",
       "<td><b>validation_rmse</b></td>\n",
       "<td><b>validation_mae</b></td>\n",
       "<td><b>validation_deviance</b></td></tr>\n",
       "<tr><td></td>\n",
       "<td>2018-09-16 13:14:54</td>\n",
       "<td> 6.565 sec</td>\n",
       "<td>0.0</td>\n",
       "<td>0.5</td>\n",
       "<td>0.5</td>\n",
       "<td>0.25</td>\n",
       "<td>0.5</td>\n",
       "<td>0.5</td>\n",
       "<td>0.25</td></tr>\n",
       "<tr><td></td>\n",
       "<td>2018-09-16 13:14:54</td>\n",
       "<td> 6.717 sec</td>\n",
       "<td>1.0</td>\n",
       "<td>0.4625531</td>\n",
       "<td>0.4620585</td>\n",
       "<td>0.2139554</td>\n",
       "<td>0.4625056</td>\n",
       "<td>0.4620128</td>\n",
       "<td>0.2139115</td></tr>\n",
       "<tr><td></td>\n",
       "<td>2018-09-16 13:14:54</td>\n",
       "<td> 6.790 sec</td>\n",
       "<td>2.0</td>\n",
       "<td>0.4301599</td>\n",
       "<td>0.4282733</td>\n",
       "<td>0.1850375</td>\n",
       "<td>0.4300923</td>\n",
       "<td>0.4281968</td>\n",
       "<td>0.1849794</td></tr>\n",
       "<tr><td></td>\n",
       "<td>2018-09-16 13:14:54</td>\n",
       "<td> 6.860 sec</td>\n",
       "<td>3.0</td>\n",
       "<td>0.4020010</td>\n",
       "<td>0.3978799</td>\n",
       "<td>0.1616048</td>\n",
       "<td>0.4018213</td>\n",
       "<td>0.3976968</td>\n",
       "<td>0.1614603</td></tr>\n",
       "<tr><td></td>\n",
       "<td>2018-09-16 13:14:54</td>\n",
       "<td> 6.926 sec</td>\n",
       "<td>4.0</td>\n",
       "<td>0.3773379</td>\n",
       "<td>0.3702481</td>\n",
       "<td>0.1423839</td>\n",
       "<td>0.3771466</td>\n",
       "<td>0.3700177</td>\n",
       "<td>0.1422395</td></tr>\n",
       "<tr><td></td>\n",
       "<td>2018-09-16 13:14:54</td>\n",
       "<td> 6.996 sec</td>\n",
       "<td>5.0</td>\n",
       "<td>0.3562779</td>\n",
       "<td>0.3455445</td>\n",
       "<td>0.1269339</td>\n",
       "<td>0.3560119</td>\n",
       "<td>0.3452459</td>\n",
       "<td>0.1267445</td></tr>\n",
       "<tr><td></td>\n",
       "<td>2018-09-16 13:14:54</td>\n",
       "<td> 7.066 sec</td>\n",
       "<td>6.0</td>\n",
       "<td>0.3382658</td>\n",
       "<td>0.3233156</td>\n",
       "<td>0.1144237</td>\n",
       "<td>0.3380691</td>\n",
       "<td>0.3230370</td>\n",
       "<td>0.1142907</td></tr>\n",
       "<tr><td></td>\n",
       "<td>2018-09-16 13:14:54</td>\n",
       "<td> 7.133 sec</td>\n",
       "<td>7.0</td>\n",
       "<td>0.3227125</td>\n",
       "<td>0.3031866</td>\n",
       "<td>0.1041434</td>\n",
       "<td>0.3226687</td>\n",
       "<td>0.3029526</td>\n",
       "<td>0.1041151</td></tr>\n",
       "<tr><td></td>\n",
       "<td>2018-09-16 13:14:54</td>\n",
       "<td> 7.202 sec</td>\n",
       "<td>8.0</td>\n",
       "<td>0.3088720</td>\n",
       "<td>0.2846401</td>\n",
       "<td>0.0954019</td>\n",
       "<td>0.3087941</td>\n",
       "<td>0.2843498</td>\n",
       "<td>0.0953538</td></tr>\n",
       "<tr><td></td>\n",
       "<td>2018-09-16 13:14:55</td>\n",
       "<td> 7.275 sec</td>\n",
       "<td>9.0</td>\n",
       "<td>0.2976995</td>\n",
       "<td>0.2683389</td>\n",
       "<td>0.0886250</td>\n",
       "<td>0.2976730</td>\n",
       "<td>0.2680243</td>\n",
       "<td>0.0886092</td></tr>\n",
       "<tr><td></td>\n",
       "<td>2018-09-16 13:14:55</td>\n",
       "<td> 7.346 sec</td>\n",
       "<td>10.0</td>\n",
       "<td>0.2872538</td>\n",
       "<td>0.2529125</td>\n",
       "<td>0.0825147</td>\n",
       "<td>0.2872841</td>\n",
       "<td>0.2526149</td>\n",
       "<td>0.0825321</td></tr></table></div>"
      ],
      "text/plain": [
       "    timestamp            duration    number_of_trees    training_rmse    training_mae    training_deviance    validation_rmse    validation_mae    validation_deviance\n",
       "--  -------------------  ----------  -----------------  ---------------  --------------  -------------------  -----------------  ----------------  ---------------------\n",
       "    2018-09-16 13:14:54  6.565 sec   0                  0.5              0.5             0.25                 0.5                0.5               0.25\n",
       "    2018-09-16 13:14:54  6.717 sec   1                  0.462553         0.462058        0.213955             0.462506           0.462013          0.213911\n",
       "    2018-09-16 13:14:54  6.790 sec   2                  0.43016          0.428273        0.185038             0.430092           0.428197          0.184979\n",
       "    2018-09-16 13:14:54  6.860 sec   3                  0.402001         0.39788         0.161605             0.401821           0.397697          0.16146\n",
       "    2018-09-16 13:14:54  6.926 sec   4                  0.377338         0.370248        0.142384             0.377147           0.370018          0.14224\n",
       "    2018-09-16 13:14:54  6.996 sec   5                  0.356278         0.345544        0.126934             0.356012           0.345246          0.126744\n",
       "    2018-09-16 13:14:54  7.066 sec   6                  0.338266         0.323316        0.114424             0.338069           0.323037          0.114291\n",
       "    2018-09-16 13:14:54  7.133 sec   7                  0.322713         0.303187        0.104143             0.322669           0.302953          0.104115\n",
       "    2018-09-16 13:14:54  7.202 sec   8                  0.308872         0.28464         0.0954019            0.308794           0.28435           0.0953538\n",
       "    2018-09-16 13:14:55  7.275 sec   9                  0.2977           0.268339        0.088625             0.297673           0.268024          0.0886092\n",
       "    2018-09-16 13:14:55  7.346 sec   10                 0.287254         0.252913        0.0825147            0.287284           0.252615          0.0825321"
      ]
     },
     "metadata": {},
     "output_type": "display_data"
    },
    {
     "name": "stdout",
     "output_type": "stream",
     "text": [
      "Variable Importances: \n"
     ]
    },
    {
     "data": {
      "text/html": [
       "<div style=\"overflow:auto\"><table style=\"width:50%\"><tr><td><b>variable</b></td>\n",
       "<td><b>relative_importance</b></td>\n",
       "<td><b>scaled_importance</b></td>\n",
       "<td><b>percentage</b></td></tr>\n",
       "<tr><td>avg_training_score</td>\n",
       "<td>88.0</td>\n",
       "<td>1.0</td>\n",
       "<td>0.3333333</td></tr>\n",
       "<tr><td>previous_year_rating</td>\n",
       "<td>34.0</td>\n",
       "<td>0.3863636</td>\n",
       "<td>0.1287879</td></tr>\n",
       "<tr><td>awards_won?</td>\n",
       "<td>22.0</td>\n",
       "<td>0.25</td>\n",
       "<td>0.0833333</td></tr>\n",
       "<tr><td>KPIs_met>80%</td>\n",
       "<td>19.0</td>\n",
       "<td>0.2159091</td>\n",
       "<td>0.0719697</td></tr>\n",
       "<tr><td>Unnamed:0</td>\n",
       "<td>14.0</td>\n",
       "<td>0.1590909</td>\n",
       "<td>0.0530303</td></tr>\n",
       "<tr><td>---</td>\n",
       "<td>---</td>\n",
       "<td>---</td>\n",
       "<td>---</td></tr>\n",
       "<tr><td>region.region_23</td>\n",
       "<td>1.0</td>\n",
       "<td>0.0113636</td>\n",
       "<td>0.0037879</td></tr>\n",
       "<tr><td>recruitment_channel.other</td>\n",
       "<td>1.0</td>\n",
       "<td>0.0113636</td>\n",
       "<td>0.0037879</td></tr>\n",
       "<tr><td>region.region_26</td>\n",
       "<td>1.0</td>\n",
       "<td>0.0113636</td>\n",
       "<td>0.0037879</td></tr>\n",
       "<tr><td>education.Master's&above</td>\n",
       "<td>1.0</td>\n",
       "<td>0.0113636</td>\n",
       "<td>0.0037879</td></tr>\n",
       "<tr><td>education.Bachelor's</td>\n",
       "<td>1.0</td>\n",
       "<td>0.0113636</td>\n",
       "<td>0.0037879</td></tr></table></div>"
      ],
      "text/plain": [
       "variable                   relative_importance    scaled_importance     percentage\n",
       "-------------------------  ---------------------  --------------------  --------------------\n",
       "avg_training_score         88.0                   1.0                   0.3333333333333333\n",
       "previous_year_rating       34.0                   0.38636363636363635   0.12878787878787878\n",
       "awards_won?                22.0                   0.25                  0.08333333333333333\n",
       "KPIs_met>80%               19.0                   0.2159090909090909    0.07196969696969698\n",
       "Unnamed:0                  14.0                   0.1590909090909091    0.05303030303030303\n",
       "---                        ---                    ---                   ---\n",
       "region.region_23           1.0                    0.011363636363636364  0.003787878787878788\n",
       "recruitment_channel.other  1.0                    0.011363636363636364  0.003787878787878788\n",
       "region.region_26           1.0                    0.011363636363636364  0.003787878787878788\n",
       "education.Master's&above   1.0                    0.011363636363636364  0.003787878787878788\n",
       "education.Bachelor's       1.0                    0.011363636363636364  0.003787878787878788"
      ]
     },
     "metadata": {},
     "output_type": "display_data"
    },
    {
     "name": "stdout",
     "output_type": "stream",
     "text": [
      "\n",
      "See the whole table with table.as_data_frame()\n"
     ]
    },
    {
     "data": {
      "text/plain": []
     },
     "execution_count": 15,
     "metadata": {},
     "output_type": "execute_result"
    }
   ],
   "source": [
    "xgb_grid1.models[0]"
   ]
  },
  {
   "cell_type": "code",
   "execution_count": 21,
   "metadata": {
    "collapsed": true
   },
   "outputs": [],
   "source": [
    "# Get the grid results, sorted by validation MAE\n",
    "xgb_gridperf1 = xgb_grid1.get_grid()\n"
   ]
  },
  {
   "cell_type": "code",
   "execution_count": 22,
   "metadata": {
    "collapsed": false
   },
   "outputs": [],
   "source": [
    "best_xgb1 = xgb_gridperf1.models[0]"
   ]
  },
  {
   "cell_type": "code",
   "execution_count": 24,
   "metadata": {
    "collapsed": false
   },
   "outputs": [
    {
     "name": "stdout",
     "output_type": "stream",
     "text": [
      "xgboost prediction progress: |████████████████████████████████████████████| 100%\n"
     ]
    }
   ],
   "source": [
    "pred_xgb = best_xgb1.predict(testh2o).as_data_frame()\n",
    "pred_xgb['employee_id'] = testh2o['employee_id'].as_data_frame()\n",
    "# pred_xgb.to_csv(\"pred_xgb2.csv\")"
   ]
  },
  {
   "cell_type": "code",
   "execution_count": 25,
   "metadata": {
    "collapsed": false
   },
   "outputs": [
    {
     "data": {
      "text/html": [
       "<div>\n",
       "<style scoped>\n",
       "    .dataframe tbody tr th:only-of-type {\n",
       "        vertical-align: middle;\n",
       "    }\n",
       "\n",
       "    .dataframe tbody tr th {\n",
       "        vertical-align: top;\n",
       "    }\n",
       "\n",
       "    .dataframe thead th {\n",
       "        text-align: right;\n",
       "    }\n",
       "</style>\n",
       "<table border=\"1\" class=\"dataframe\">\n",
       "  <thead>\n",
       "    <tr style=\"text-align: right;\">\n",
       "      <th></th>\n",
       "      <th>predict</th>\n",
       "      <th>employee_id</th>\n",
       "    </tr>\n",
       "  </thead>\n",
       "  <tbody>\n",
       "    <tr>\n",
       "      <th>0</th>\n",
       "      <td>0.299296</td>\n",
       "      <td>8724</td>\n",
       "    </tr>\n",
       "    <tr>\n",
       "      <th>1</th>\n",
       "      <td>0.175754</td>\n",
       "      <td>74430</td>\n",
       "    </tr>\n",
       "    <tr>\n",
       "      <th>2</th>\n",
       "      <td>0.175754</td>\n",
       "      <td>72255</td>\n",
       "    </tr>\n",
       "    <tr>\n",
       "      <th>3</th>\n",
       "      <td>0.197159</td>\n",
       "      <td>38562</td>\n",
       "    </tr>\n",
       "    <tr>\n",
       "      <th>4</th>\n",
       "      <td>0.190600</td>\n",
       "      <td>64486</td>\n",
       "    </tr>\n",
       "    <tr>\n",
       "      <th>5</th>\n",
       "      <td>0.197159</td>\n",
       "      <td>46232</td>\n",
       "    </tr>\n",
       "    <tr>\n",
       "      <th>6</th>\n",
       "      <td>0.255706</td>\n",
       "      <td>54542</td>\n",
       "    </tr>\n",
       "    <tr>\n",
       "      <th>7</th>\n",
       "      <td>0.197159</td>\n",
       "      <td>67269</td>\n",
       "    </tr>\n",
       "    <tr>\n",
       "      <th>8</th>\n",
       "      <td>0.197159</td>\n",
       "      <td>66174</td>\n",
       "    </tr>\n",
       "    <tr>\n",
       "      <th>9</th>\n",
       "      <td>0.287912</td>\n",
       "      <td>76303</td>\n",
       "    </tr>\n",
       "    <tr>\n",
       "      <th>10</th>\n",
       "      <td>0.287067</td>\n",
       "      <td>60245</td>\n",
       "    </tr>\n",
       "    <tr>\n",
       "      <th>11</th>\n",
       "      <td>0.175754</td>\n",
       "      <td>42639</td>\n",
       "    </tr>\n",
       "    <tr>\n",
       "      <th>12</th>\n",
       "      <td>0.175754</td>\n",
       "      <td>30963</td>\n",
       "    </tr>\n",
       "    <tr>\n",
       "      <th>13</th>\n",
       "      <td>0.197159</td>\n",
       "      <td>54055</td>\n",
       "    </tr>\n",
       "    <tr>\n",
       "      <th>14</th>\n",
       "      <td>0.258391</td>\n",
       "      <td>42996</td>\n",
       "    </tr>\n",
       "    <tr>\n",
       "      <th>15</th>\n",
       "      <td>0.271257</td>\n",
       "      <td>12737</td>\n",
       "    </tr>\n",
       "    <tr>\n",
       "      <th>16</th>\n",
       "      <td>0.185678</td>\n",
       "      <td>27561</td>\n",
       "    </tr>\n",
       "    <tr>\n",
       "      <th>17</th>\n",
       "      <td>0.279196</td>\n",
       "      <td>26622</td>\n",
       "    </tr>\n",
       "    <tr>\n",
       "      <th>18</th>\n",
       "      <td>0.255333</td>\n",
       "      <td>31582</td>\n",
       "    </tr>\n",
       "    <tr>\n",
       "      <th>19</th>\n",
       "      <td>0.197159</td>\n",
       "      <td>29793</td>\n",
       "    </tr>\n",
       "    <tr>\n",
       "      <th>20</th>\n",
       "      <td>0.183968</td>\n",
       "      <td>72735</td>\n",
       "    </tr>\n",
       "    <tr>\n",
       "      <th>21</th>\n",
       "      <td>0.197159</td>\n",
       "      <td>5677</td>\n",
       "    </tr>\n",
       "    <tr>\n",
       "      <th>22</th>\n",
       "      <td>0.197159</td>\n",
       "      <td>60889</td>\n",
       "    </tr>\n",
       "    <tr>\n",
       "      <th>23</th>\n",
       "      <td>0.197159</td>\n",
       "      <td>51498</td>\n",
       "    </tr>\n",
       "    <tr>\n",
       "      <th>24</th>\n",
       "      <td>0.258391</td>\n",
       "      <td>8566</td>\n",
       "    </tr>\n",
       "    <tr>\n",
       "      <th>25</th>\n",
       "      <td>0.370536</td>\n",
       "      <td>53151</td>\n",
       "    </tr>\n",
       "    <tr>\n",
       "      <th>26</th>\n",
       "      <td>0.279196</td>\n",
       "      <td>16203</td>\n",
       "    </tr>\n",
       "    <tr>\n",
       "      <th>27</th>\n",
       "      <td>0.274762</td>\n",
       "      <td>61083</td>\n",
       "    </tr>\n",
       "    <tr>\n",
       "      <th>28</th>\n",
       "      <td>0.190600</td>\n",
       "      <td>74849</td>\n",
       "    </tr>\n",
       "    <tr>\n",
       "      <th>29</th>\n",
       "      <td>0.175754</td>\n",
       "      <td>13259</td>\n",
       "    </tr>\n",
       "    <tr>\n",
       "      <th>...</th>\n",
       "      <td>...</td>\n",
       "      <td>...</td>\n",
       "    </tr>\n",
       "    <tr>\n",
       "      <th>23460</th>\n",
       "      <td>0.258391</td>\n",
       "      <td>72190</td>\n",
       "    </tr>\n",
       "    <tr>\n",
       "      <th>23461</th>\n",
       "      <td>0.175754</td>\n",
       "      <td>27155</td>\n",
       "    </tr>\n",
       "    <tr>\n",
       "      <th>23462</th>\n",
       "      <td>0.273822</td>\n",
       "      <td>15959</td>\n",
       "    </tr>\n",
       "    <tr>\n",
       "      <th>23463</th>\n",
       "      <td>0.274762</td>\n",
       "      <td>72900</td>\n",
       "    </tr>\n",
       "    <tr>\n",
       "      <th>23464</th>\n",
       "      <td>0.234271</td>\n",
       "      <td>57683</td>\n",
       "    </tr>\n",
       "    <tr>\n",
       "      <th>23465</th>\n",
       "      <td>0.197159</td>\n",
       "      <td>55174</td>\n",
       "    </tr>\n",
       "    <tr>\n",
       "      <th>23466</th>\n",
       "      <td>0.197159</td>\n",
       "      <td>51115</td>\n",
       "    </tr>\n",
       "    <tr>\n",
       "      <th>23467</th>\n",
       "      <td>0.278288</td>\n",
       "      <td>50134</td>\n",
       "    </tr>\n",
       "    <tr>\n",
       "      <th>23468</th>\n",
       "      <td>0.279196</td>\n",
       "      <td>59775</td>\n",
       "    </tr>\n",
       "    <tr>\n",
       "      <th>23469</th>\n",
       "      <td>0.197159</td>\n",
       "      <td>14408</td>\n",
       "    </tr>\n",
       "    <tr>\n",
       "      <th>23470</th>\n",
       "      <td>0.183968</td>\n",
       "      <td>4351</td>\n",
       "    </tr>\n",
       "    <tr>\n",
       "      <th>23471</th>\n",
       "      <td>0.285380</td>\n",
       "      <td>59625</td>\n",
       "    </tr>\n",
       "    <tr>\n",
       "      <th>23472</th>\n",
       "      <td>0.197159</td>\n",
       "      <td>29379</td>\n",
       "    </tr>\n",
       "    <tr>\n",
       "      <th>23473</th>\n",
       "      <td>0.177463</td>\n",
       "      <td>67979</td>\n",
       "    </tr>\n",
       "    <tr>\n",
       "      <th>23474</th>\n",
       "      <td>0.190600</td>\n",
       "      <td>61451</td>\n",
       "    </tr>\n",
       "    <tr>\n",
       "      <th>23475</th>\n",
       "      <td>0.190600</td>\n",
       "      <td>73871</td>\n",
       "    </tr>\n",
       "    <tr>\n",
       "      <th>23476</th>\n",
       "      <td>0.175754</td>\n",
       "      <td>52090</td>\n",
       "    </tr>\n",
       "    <tr>\n",
       "      <th>23477</th>\n",
       "      <td>0.197159</td>\n",
       "      <td>18488</td>\n",
       "    </tr>\n",
       "    <tr>\n",
       "      <th>23478</th>\n",
       "      <td>0.274823</td>\n",
       "      <td>59673</td>\n",
       "    </tr>\n",
       "    <tr>\n",
       "      <th>23479</th>\n",
       "      <td>0.175754</td>\n",
       "      <td>39410</td>\n",
       "    </tr>\n",
       "    <tr>\n",
       "      <th>23480</th>\n",
       "      <td>0.258391</td>\n",
       "      <td>11837</td>\n",
       "    </tr>\n",
       "    <tr>\n",
       "      <th>23481</th>\n",
       "      <td>0.255706</td>\n",
       "      <td>78278</td>\n",
       "    </tr>\n",
       "    <tr>\n",
       "      <th>23482</th>\n",
       "      <td>0.175754</td>\n",
       "      <td>27284</td>\n",
       "    </tr>\n",
       "    <tr>\n",
       "      <th>23483</th>\n",
       "      <td>0.175754</td>\n",
       "      <td>49291</td>\n",
       "    </tr>\n",
       "    <tr>\n",
       "      <th>23484</th>\n",
       "      <td>0.175754</td>\n",
       "      <td>47537</td>\n",
       "    </tr>\n",
       "    <tr>\n",
       "      <th>23485</th>\n",
       "      <td>0.190600</td>\n",
       "      <td>53478</td>\n",
       "    </tr>\n",
       "    <tr>\n",
       "      <th>23486</th>\n",
       "      <td>0.197159</td>\n",
       "      <td>25600</td>\n",
       "    </tr>\n",
       "    <tr>\n",
       "      <th>23487</th>\n",
       "      <td>0.175754</td>\n",
       "      <td>45409</td>\n",
       "    </tr>\n",
       "    <tr>\n",
       "      <th>23488</th>\n",
       "      <td>0.197159</td>\n",
       "      <td>1186</td>\n",
       "    </tr>\n",
       "    <tr>\n",
       "      <th>23489</th>\n",
       "      <td>0.505339</td>\n",
       "      <td>5973</td>\n",
       "    </tr>\n",
       "  </tbody>\n",
       "</table>\n",
       "<p>23490 rows × 2 columns</p>\n",
       "</div>"
      ],
      "text/plain": [
       "        predict  employee_id\n",
       "0      0.299296         8724\n",
       "1      0.175754        74430\n",
       "2      0.175754        72255\n",
       "3      0.197159        38562\n",
       "4      0.190600        64486\n",
       "5      0.197159        46232\n",
       "6      0.255706        54542\n",
       "7      0.197159        67269\n",
       "8      0.197159        66174\n",
       "9      0.287912        76303\n",
       "10     0.287067        60245\n",
       "11     0.175754        42639\n",
       "12     0.175754        30963\n",
       "13     0.197159        54055\n",
       "14     0.258391        42996\n",
       "15     0.271257        12737\n",
       "16     0.185678        27561\n",
       "17     0.279196        26622\n",
       "18     0.255333        31582\n",
       "19     0.197159        29793\n",
       "20     0.183968        72735\n",
       "21     0.197159         5677\n",
       "22     0.197159        60889\n",
       "23     0.197159        51498\n",
       "24     0.258391         8566\n",
       "25     0.370536        53151\n",
       "26     0.279196        16203\n",
       "27     0.274762        61083\n",
       "28     0.190600        74849\n",
       "29     0.175754        13259\n",
       "...         ...          ...\n",
       "23460  0.258391        72190\n",
       "23461  0.175754        27155\n",
       "23462  0.273822        15959\n",
       "23463  0.274762        72900\n",
       "23464  0.234271        57683\n",
       "23465  0.197159        55174\n",
       "23466  0.197159        51115\n",
       "23467  0.278288        50134\n",
       "23468  0.279196        59775\n",
       "23469  0.197159        14408\n",
       "23470  0.183968         4351\n",
       "23471  0.285380        59625\n",
       "23472  0.197159        29379\n",
       "23473  0.177463        67979\n",
       "23474  0.190600        61451\n",
       "23475  0.190600        73871\n",
       "23476  0.175754        52090\n",
       "23477  0.197159        18488\n",
       "23478  0.274823        59673\n",
       "23479  0.175754        39410\n",
       "23480  0.258391        11837\n",
       "23481  0.255706        78278\n",
       "23482  0.175754        27284\n",
       "23483  0.175754        49291\n",
       "23484  0.175754        47537\n",
       "23485  0.190600        53478\n",
       "23486  0.197159        25600\n",
       "23487  0.175754        45409\n",
       "23488  0.197159         1186\n",
       "23489  0.505339         5973\n",
       "\n",
       "[23490 rows x 2 columns]"
      ]
     },
     "execution_count": 25,
     "metadata": {},
     "output_type": "execute_result"
    }
   ],
   "source": [
    "pred_xgb"
   ]
  },
  {
   "cell_type": "code",
   "execution_count": null,
   "metadata": {
    "collapsed": true
   },
   "outputs": [],
   "source": []
  },
  {
   "cell_type": "code",
   "execution_count": 3,
   "metadata": {
    "collapsed": true
   },
   "outputs": [],
   "source": [
    "train_raw.fillna(0,inplace=True)\n",
    "test_raw.fillna(0,inplace=True)"
   ]
  },
  {
   "cell_type": "code",
   "execution_count": null,
   "metadata": {
    "collapsed": true
   },
   "outputs": [],
   "source": []
  }
 ],
 "metadata": {
  "anaconda-cloud": {},
  "kernelspec": {
   "display_name": "Python 3",
   "language": "python",
   "name": "python3"
  },
  "language_info": {
   "codemirror_mode": {
    "name": "ipython",
    "version": 3
   },
   "file_extension": ".py",
   "mimetype": "text/x-python",
   "name": "python",
   "nbconvert_exporter": "python",
   "pygments_lexer": "ipython3",
   "version": "3.5.2"
  }
 },
 "nbformat": 4,
 "nbformat_minor": 2
}
