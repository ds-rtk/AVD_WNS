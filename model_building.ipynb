{
 "cells": [
  {
   "cell_type": "markdown",
   "metadata": {},
   "source": [
    "## Model Building\n",
    "\n",
    "Notebook context: Snippets of python script in building a baseline model and performing a grid search\n",
    "\n",
    "\n",
    "The objective of this notebook is to summarize the following\n",
    "\n",
    "\n",
    " + Baseline Model (AutoML from H2o)\n",
    " + GridSearch (H2o)\n",
    " + Bayesian Optimization GridSearch (hyperopt)\n",
    " \n",
    "#### Dataset to download\n",
    "\n",
    "https://www.kaggle.com/c/allstate-claims-severity\n"
   ]
  },
  {
   "cell_type": "code",
   "execution_count": 4,
   "metadata": {},
   "outputs": [
    {
     "name": "stdout",
     "output_type": "stream",
     "text": [
      "Checking whether there is an H2O instance running at http://localhost:54321..... not found.\n",
      "Attempting to start a local H2O server...\n",
      "  Java Version: java version \"1.8.0_112\"; Java(TM) SE Runtime Environment (build 1.8.0_112-b16); Java HotSpot(TM) 64-Bit Server VM (build 25.112-b16, mixed mode)\n",
      "  Starting server from /Users/reetkanjilal/ml/IIMB_kaggle/lib/python3.5/site-packages/h2o/backend/bin/h2o.jar\n",
      "  Ice root: /var/folders/pg/3ws7rkfj09d1lc0slmsvt_tw0000gn/T/tmpccl9xfyd\n",
      "  JVM stdout: /var/folders/pg/3ws7rkfj09d1lc0slmsvt_tw0000gn/T/tmpccl9xfyd/h2o_reetkanjilal_started_from_python.out\n",
      "  JVM stderr: /var/folders/pg/3ws7rkfj09d1lc0slmsvt_tw0000gn/T/tmpccl9xfyd/h2o_reetkanjilal_started_from_python.err\n",
      "  Server is running at http://127.0.0.1:54321\n",
      "Connecting to H2O server at http://127.0.0.1:54321... successful.\n"
     ]
    },
    {
     "data": {
      "text/html": [
       "<div style=\"overflow:auto\"><table style=\"width:50%\"><tr><td>H2O cluster uptime:</td>\n",
       "<td>02 secs</td></tr>\n",
       "<tr><td>H2O cluster timezone:</td>\n",
       "<td>Asia/Kolkata</td></tr>\n",
       "<tr><td>H2O data parsing timezone:</td>\n",
       "<td>UTC</td></tr>\n",
       "<tr><td>H2O cluster version:</td>\n",
       "<td>3.20.0.7</td></tr>\n",
       "<tr><td>H2O cluster version age:</td>\n",
       "<td>7 days, 15 hours and 1 minute </td></tr>\n",
       "<tr><td>H2O cluster name:</td>\n",
       "<td>H2O_from_python_reetkanjilal_rgn1p0</td></tr>\n",
       "<tr><td>H2O cluster total nodes:</td>\n",
       "<td>1</td></tr>\n",
       "<tr><td>H2O cluster free memory:</td>\n",
       "<td>1.778 Gb</td></tr>\n",
       "<tr><td>H2O cluster total cores:</td>\n",
       "<td>4</td></tr>\n",
       "<tr><td>H2O cluster allowed cores:</td>\n",
       "<td>4</td></tr>\n",
       "<tr><td>H2O cluster status:</td>\n",
       "<td>accepting new members, healthy</td></tr>\n",
       "<tr><td>H2O connection url:</td>\n",
       "<td>http://127.0.0.1:54321</td></tr>\n",
       "<tr><td>H2O connection proxy:</td>\n",
       "<td>None</td></tr>\n",
       "<tr><td>H2O internal security:</td>\n",
       "<td>False</td></tr>\n",
       "<tr><td>H2O API Extensions:</td>\n",
       "<td>XGBoost, Algos, AutoML, Core V3, Core V4</td></tr>\n",
       "<tr><td>Python version:</td>\n",
       "<td>3.5.2 final</td></tr></table></div>"
      ],
      "text/plain": [
       "--------------------------  ----------------------------------------\n",
       "H2O cluster uptime:         02 secs\n",
       "H2O cluster timezone:       Asia/Kolkata\n",
       "H2O data parsing timezone:  UTC\n",
       "H2O cluster version:        3.20.0.7\n",
       "H2O cluster version age:    7 days, 15 hours and 1 minute\n",
       "H2O cluster name:           H2O_from_python_reetkanjilal_rgn1p0\n",
       "H2O cluster total nodes:    1\n",
       "H2O cluster free memory:    1.778 Gb\n",
       "H2O cluster total cores:    4\n",
       "H2O cluster allowed cores:  4\n",
       "H2O cluster status:         accepting new members, healthy\n",
       "H2O connection url:         http://127.0.0.1:54321\n",
       "H2O connection proxy:\n",
       "H2O internal security:      False\n",
       "H2O API Extensions:         XGBoost, Algos, AutoML, Core V3, Core V4\n",
       "Python version:             3.5.2 final\n",
       "--------------------------  ----------------------------------------"
      ]
     },
     "metadata": {},
     "output_type": "display_data"
    }
   ],
   "source": [
    "import pandas as pd\n",
    "import numpy as np\n",
    "import xgboost as xgb\n",
    "from sklearn.metrics import mean_absolute_error\n",
    "import matplotlib.pylab as plt\n",
    "import pandas as pd, numpy as np\n",
    "from sklearn.metrics import mean_absolute_error\n",
    "import xgboost as xgb\n",
    "from hyperopt import hp, tpe, STATUS_OK, Trials, fmin\n",
    "import h2o\n",
    "from h2o.automl import H2OAutoML\n",
    "from h2o.estimators.gbm import H2OGradientBoostingEstimator\n",
    "from h2o.grid.grid_search import H2OGridSearch\n",
    "h2o.init()\n",
    "# h2o.cluster().shutdown()"
   ]
  },
  {
   "cell_type": "markdown",
   "metadata": {},
   "source": [
    "#### Import a sample binary outcome train/test set into H2O "
   ]
  },
  {
   "cell_type": "code",
   "execution_count": 2,
   "metadata": {},
   "outputs": [
    {
     "name": "stdout",
     "output_type": "stream",
     "text": [
      "Parse progress: |█████████████████████████████████████████████████████████| 100%\n"
     ]
    }
   ],
   "source": [
    "data = h2o.import_file(\"/Users/saiv/.kaggle/competitions/allstate-claims-severity/train.csv.zip\")"
   ]
  },
  {
   "cell_type": "code",
   "execution_count": 3,
   "metadata": {},
   "outputs": [
    {
     "name": "stdout",
     "output_type": "stream",
     "text": [
      "Rows:188318\n",
      "Cols:132\n",
      "\n",
      "\n"
     ]
    },
    {
     "data": {
      "text/html": [
       "<table>\n",
       "<thead>\n",
       "<tr><th>       </th><th>id                </th><th>cat1  </th><th>cat2  </th><th>cat3  </th><th>cat4  </th><th>cat5  </th><th>cat6  </th><th>cat7  </th><th>cat8  </th><th>cat9  </th><th>cat10  </th><th>cat11  </th><th>cat12  </th><th>cat13  </th><th>cat14  </th><th>cat15  </th><th>cat16  </th><th>cat17  </th><th>cat18  </th><th>cat19  </th><th>cat20  </th><th>cat21  </th><th>cat22  </th><th>cat23  </th><th>cat24  </th><th>cat25  </th><th>cat26  </th><th>cat27  </th><th>cat28  </th><th>cat29  </th><th>cat30  </th><th>cat31  </th><th>cat32  </th><th>cat33  </th><th>cat34  </th><th>cat35  </th><th>cat36  </th><th>cat37  </th><th>cat38  </th><th>cat39  </th><th>cat40  </th><th>cat41  </th><th>cat42  </th><th>cat43  </th><th>cat44  </th><th>cat45  </th><th>cat46  </th><th>cat47  </th><th>cat48  </th><th>cat49  </th><th>cat50  </th><th>cat51  </th><th>cat52  </th><th>cat53  </th><th>cat54  </th><th>cat55  </th><th>cat56  </th><th>cat57  </th><th>cat58  </th><th>cat59  </th><th>cat60  </th><th>cat61  </th><th>cat62  </th><th>cat63  </th><th>cat64  </th><th>cat65  </th><th>cat66  </th><th>cat67  </th><th>cat68  </th><th>cat69  </th><th>cat70  </th><th>cat71  </th><th>cat72  </th><th>cat73  </th><th>cat74  </th><th>cat75  </th><th>cat76  </th><th>cat77  </th><th>cat78  </th><th>cat79  </th><th>cat80  </th><th>cat81  </th><th>cat82  </th><th>cat83  </th><th>cat84  </th><th>cat85  </th><th>cat86  </th><th>cat87  </th><th>cat88  </th><th>cat89  </th><th>cat90  </th><th>cat91  </th><th>cat92  </th><th>cat93  </th><th>cat94  </th><th>cat95  </th><th>cat96  </th><th>cat97  </th><th>cat98  </th><th>cat99  </th><th>cat100  </th><th>cat101  </th><th>cat102  </th><th>cat103  </th><th>cat104  </th><th>cat105  </th><th>cat106  </th><th>cat107  </th><th>cat108  </th><th>cat109  </th><th>cat110  </th><th>cat111  </th><th>cat112  </th><th>cat113  </th><th>cat114  </th><th>cat115  </th><th>cat116  </th><th>cont1              </th><th>cont2              </th><th>cont3             </th><th>cont4              </th><th>cont5              </th><th>cont6              </th><th>cont7              </th><th>cont8              </th><th>cont9              </th><th>cont10             </th><th>cont11             </th><th>cont12             </th><th>cont13             </th><th>cont14            </th><th>loss              </th></tr>\n",
       "</thead>\n",
       "<tbody>\n",
       "<tr><td>type   </td><td>int               </td><td>enum  </td><td>enum  </td><td>enum  </td><td>enum  </td><td>enum  </td><td>enum  </td><td>enum  </td><td>enum  </td><td>enum  </td><td>enum   </td><td>enum   </td><td>enum   </td><td>enum   </td><td>enum   </td><td>enum   </td><td>enum   </td><td>enum   </td><td>enum   </td><td>enum   </td><td>enum   </td><td>enum   </td><td>enum   </td><td>enum   </td><td>enum   </td><td>enum   </td><td>enum   </td><td>enum   </td><td>enum   </td><td>enum   </td><td>enum   </td><td>enum   </td><td>enum   </td><td>enum   </td><td>enum   </td><td>enum   </td><td>enum   </td><td>enum   </td><td>enum   </td><td>enum   </td><td>enum   </td><td>enum   </td><td>enum   </td><td>enum   </td><td>enum   </td><td>enum   </td><td>enum   </td><td>enum   </td><td>enum   </td><td>enum   </td><td>enum   </td><td>enum   </td><td>enum   </td><td>enum   </td><td>enum   </td><td>enum   </td><td>enum   </td><td>enum   </td><td>enum   </td><td>enum   </td><td>enum   </td><td>enum   </td><td>enum   </td><td>enum   </td><td>enum   </td><td>enum   </td><td>enum   </td><td>enum   </td><td>enum   </td><td>enum   </td><td>enum   </td><td>enum   </td><td>enum   </td><td>enum   </td><td>enum   </td><td>enum   </td><td>enum   </td><td>enum   </td><td>enum   </td><td>enum   </td><td>enum   </td><td>enum   </td><td>enum   </td><td>enum   </td><td>enum   </td><td>enum   </td><td>enum   </td><td>enum   </td><td>enum   </td><td>enum   </td><td>enum   </td><td>enum   </td><td>enum   </td><td>enum   </td><td>enum   </td><td>enum   </td><td>enum   </td><td>enum   </td><td>enum   </td><td>enum   </td><td>enum    </td><td>enum    </td><td>enum    </td><td>enum    </td><td>enum    </td><td>enum    </td><td>enum    </td><td>enum    </td><td>enum    </td><td>enum    </td><td>enum    </td><td>enum    </td><td>enum    </td><td>enum    </td><td>enum    </td><td>enum    </td><td>enum    </td><td>real               </td><td>real               </td><td>real              </td><td>real               </td><td>real               </td><td>real               </td><td>real               </td><td>real               </td><td>real               </td><td>real               </td><td>real               </td><td>real               </td><td>real               </td><td>real              </td><td>real              </td></tr>\n",
       "<tr><td>mins   </td><td>1.0               </td><td>      </td><td>      </td><td>      </td><td>      </td><td>      </td><td>      </td><td>      </td><td>      </td><td>      </td><td>       </td><td>       </td><td>       </td><td>       </td><td>       </td><td>       </td><td>       </td><td>       </td><td>       </td><td>       </td><td>       </td><td>       </td><td>       </td><td>       </td><td>       </td><td>       </td><td>       </td><td>       </td><td>       </td><td>       </td><td>       </td><td>       </td><td>       </td><td>       </td><td>       </td><td>       </td><td>       </td><td>       </td><td>       </td><td>       </td><td>       </td><td>       </td><td>       </td><td>       </td><td>       </td><td>       </td><td>       </td><td>       </td><td>       </td><td>       </td><td>       </td><td>       </td><td>       </td><td>       </td><td>       </td><td>       </td><td>       </td><td>       </td><td>       </td><td>       </td><td>       </td><td>       </td><td>       </td><td>       </td><td>       </td><td>       </td><td>       </td><td>       </td><td>       </td><td>       </td><td>       </td><td>       </td><td>       </td><td>       </td><td>       </td><td>       </td><td>       </td><td>       </td><td>       </td><td>       </td><td>       </td><td>       </td><td>       </td><td>       </td><td>       </td><td>       </td><td>       </td><td>       </td><td>       </td><td>       </td><td>       </td><td>       </td><td>       </td><td>       </td><td>       </td><td>       </td><td>       </td><td>       </td><td>       </td><td>       </td><td>        </td><td>        </td><td>        </td><td>        </td><td>        </td><td>        </td><td>        </td><td>        </td><td>        </td><td>        </td><td>        </td><td>        </td><td>        </td><td>        </td><td>        </td><td>        </td><td>        </td><td>1.6e-05            </td><td>0.001149           </td><td>0.002634          </td><td>0.176921           </td><td>0.281143           </td><td>0.012683           </td><td>0.069503           </td><td>0.23688            </td><td>8e-05              </td><td>0.0                </td><td>0.035321           </td><td>0.036232           </td><td>0.000228           </td><td>0.179722          </td><td>0.67              </td></tr>\n",
       "<tr><td>mean   </td><td>294135.982561412  </td><td>      </td><td>      </td><td>      </td><td>      </td><td>      </td><td>      </td><td>      </td><td>      </td><td>      </td><td>       </td><td>       </td><td>       </td><td>       </td><td>       </td><td>       </td><td>       </td><td>       </td><td>       </td><td>       </td><td>       </td><td>       </td><td>       </td><td>       </td><td>       </td><td>       </td><td>       </td><td>       </td><td>       </td><td>       </td><td>       </td><td>       </td><td>       </td><td>       </td><td>       </td><td>       </td><td>       </td><td>       </td><td>       </td><td>       </td><td>       </td><td>       </td><td>       </td><td>       </td><td>       </td><td>       </td><td>       </td><td>       </td><td>       </td><td>       </td><td>       </td><td>       </td><td>       </td><td>       </td><td>       </td><td>       </td><td>       </td><td>       </td><td>       </td><td>       </td><td>       </td><td>       </td><td>       </td><td>       </td><td>       </td><td>       </td><td>       </td><td>       </td><td>       </td><td>       </td><td>       </td><td>       </td><td>       </td><td>       </td><td>       </td><td>       </td><td>       </td><td>       </td><td>       </td><td>       </td><td>       </td><td>       </td><td>       </td><td>       </td><td>       </td><td>       </td><td>       </td><td>       </td><td>       </td><td>       </td><td>       </td><td>       </td><td>       </td><td>       </td><td>       </td><td>       </td><td>       </td><td>       </td><td>       </td><td>       </td><td>        </td><td>        </td><td>        </td><td>        </td><td>        </td><td>        </td><td>        </td><td>        </td><td>        </td><td>        </td><td>        </td><td>        </td><td>        </td><td>        </td><td>        </td><td>        </td><td>        </td><td>0.4938613645641946 </td><td>0.5071883561794411 </td><td>0.4989184507216516</td><td>0.4918123025892374 </td><td>0.4874277287832284 </td><td>0.49094453373548974</td><td>0.4849702050680232 </td><td>0.4864373158699645 </td><td>0.4855063198950708 </td><td>0.4980658504232198 </td><td>0.493511008554679  </td><td>0.493150425625803  </td><td>0.49313761583597965</td><td>0.4957170179749147</td><td>3037.3376856699833</td></tr>\n",
       "<tr><td>maxs   </td><td>587633.0          </td><td>      </td><td>      </td><td>      </td><td>      </td><td>      </td><td>      </td><td>      </td><td>      </td><td>      </td><td>       </td><td>       </td><td>       </td><td>       </td><td>       </td><td>       </td><td>       </td><td>       </td><td>       </td><td>       </td><td>       </td><td>       </td><td>       </td><td>       </td><td>       </td><td>       </td><td>       </td><td>       </td><td>       </td><td>       </td><td>       </td><td>       </td><td>       </td><td>       </td><td>       </td><td>       </td><td>       </td><td>       </td><td>       </td><td>       </td><td>       </td><td>       </td><td>       </td><td>       </td><td>       </td><td>       </td><td>       </td><td>       </td><td>       </td><td>       </td><td>       </td><td>       </td><td>       </td><td>       </td><td>       </td><td>       </td><td>       </td><td>       </td><td>       </td><td>       </td><td>       </td><td>       </td><td>       </td><td>       </td><td>       </td><td>       </td><td>       </td><td>       </td><td>       </td><td>       </td><td>       </td><td>       </td><td>       </td><td>       </td><td>       </td><td>       </td><td>       </td><td>       </td><td>       </td><td>       </td><td>       </td><td>       </td><td>       </td><td>       </td><td>       </td><td>       </td><td>       </td><td>       </td><td>       </td><td>       </td><td>       </td><td>       </td><td>       </td><td>       </td><td>       </td><td>       </td><td>       </td><td>       </td><td>       </td><td>       </td><td>        </td><td>        </td><td>        </td><td>        </td><td>        </td><td>        </td><td>        </td><td>        </td><td>        </td><td>        </td><td>        </td><td>        </td><td>        </td><td>        </td><td>        </td><td>        </td><td>        </td><td>0.984975           </td><td>0.862654           </td><td>0.944251          </td><td>0.954297           </td><td>0.983674           </td><td>0.997162           </td><td>1.0                </td><td>0.9802             </td><td>0.9954             </td><td>0.99498            </td><td>0.998742           </td><td>0.998484           </td><td>0.988494           </td><td>0.844848          </td><td>121012.25         </td></tr>\n",
       "<tr><td>sigma  </td><td>169336.08486658742</td><td>      </td><td>      </td><td>      </td><td>      </td><td>      </td><td>      </td><td>      </td><td>      </td><td>      </td><td>       </td><td>       </td><td>       </td><td>       </td><td>       </td><td>       </td><td>       </td><td>       </td><td>       </td><td>       </td><td>       </td><td>       </td><td>       </td><td>       </td><td>       </td><td>       </td><td>       </td><td>       </td><td>       </td><td>       </td><td>       </td><td>       </td><td>       </td><td>       </td><td>       </td><td>       </td><td>       </td><td>       </td><td>       </td><td>       </td><td>       </td><td>       </td><td>       </td><td>       </td><td>       </td><td>       </td><td>       </td><td>       </td><td>       </td><td>       </td><td>       </td><td>       </td><td>       </td><td>       </td><td>       </td><td>       </td><td>       </td><td>       </td><td>       </td><td>       </td><td>       </td><td>       </td><td>       </td><td>       </td><td>       </td><td>       </td><td>       </td><td>       </td><td>       </td><td>       </td><td>       </td><td>       </td><td>       </td><td>       </td><td>       </td><td>       </td><td>       </td><td>       </td><td>       </td><td>       </td><td>       </td><td>       </td><td>       </td><td>       </td><td>       </td><td>       </td><td>       </td><td>       </td><td>       </td><td>       </td><td>       </td><td>       </td><td>       </td><td>       </td><td>       </td><td>       </td><td>       </td><td>       </td><td>       </td><td>       </td><td>        </td><td>        </td><td>        </td><td>        </td><td>        </td><td>        </td><td>        </td><td>        </td><td>        </td><td>        </td><td>        </td><td>        </td><td>        </td><td>        </td><td>        </td><td>        </td><td>        </td><td>0.18764017641388622</td><td>0.20720173860981372</td><td>0.2021046081934374</td><td>0.21129221269283555</td><td>0.20902682854450408</td><td>0.20527256983553027</td><td>0.17845016396070926</td><td>0.19937045456133262</td><td>0.18166017135075618</td><td>0.18587672593201837</td><td>0.20973651144747818</td><td>0.20942662107602883</td><td>0.21277724232240963</td><td>0.2224875395592257</td><td>2904.086186390402 </td></tr>\n",
       "<tr><td>zeros  </td><td>0                 </td><td>      </td><td>      </td><td>      </td><td>      </td><td>      </td><td>      </td><td>      </td><td>      </td><td>      </td><td>       </td><td>       </td><td>       </td><td>       </td><td>       </td><td>       </td><td>       </td><td>       </td><td>       </td><td>       </td><td>       </td><td>       </td><td>       </td><td>       </td><td>       </td><td>       </td><td>       </td><td>       </td><td>       </td><td>       </td><td>       </td><td>       </td><td>       </td><td>       </td><td>       </td><td>       </td><td>       </td><td>       </td><td>       </td><td>       </td><td>       </td><td>       </td><td>       </td><td>       </td><td>       </td><td>       </td><td>       </td><td>       </td><td>       </td><td>       </td><td>       </td><td>       </td><td>       </td><td>       </td><td>       </td><td>       </td><td>       </td><td>       </td><td>       </td><td>       </td><td>       </td><td>       </td><td>       </td><td>       </td><td>       </td><td>       </td><td>       </td><td>       </td><td>       </td><td>       </td><td>       </td><td>       </td><td>       </td><td>       </td><td>       </td><td>       </td><td>       </td><td>       </td><td>       </td><td>       </td><td>       </td><td>       </td><td>       </td><td>       </td><td>       </td><td>       </td><td>       </td><td>       </td><td>       </td><td>       </td><td>       </td><td>       </td><td>       </td><td>       </td><td>       </td><td>       </td><td>       </td><td>       </td><td>       </td><td>       </td><td>        </td><td>        </td><td>        </td><td>        </td><td>        </td><td>        </td><td>        </td><td>        </td><td>        </td><td>        </td><td>        </td><td>        </td><td>        </td><td>        </td><td>        </td><td>        </td><td>        </td><td>0                  </td><td>0                  </td><td>0                 </td><td>0                  </td><td>0                  </td><td>0                  </td><td>0                  </td><td>0                  </td><td>0                  </td><td>225                </td><td>0                  </td><td>0                  </td><td>0                  </td><td>0                 </td><td>0                 </td></tr>\n",
       "<tr><td>missing</td><td>0                 </td><td>0     </td><td>0     </td><td>0     </td><td>0     </td><td>0     </td><td>0     </td><td>0     </td><td>0     </td><td>0     </td><td>0      </td><td>0      </td><td>0      </td><td>0      </td><td>0      </td><td>0      </td><td>0      </td><td>0      </td><td>0      </td><td>0      </td><td>0      </td><td>0      </td><td>0      </td><td>0      </td><td>0      </td><td>0      </td><td>0      </td><td>0      </td><td>0      </td><td>0      </td><td>0      </td><td>0      </td><td>0      </td><td>0      </td><td>0      </td><td>0      </td><td>0      </td><td>0      </td><td>0      </td><td>0      </td><td>0      </td><td>0      </td><td>0      </td><td>0      </td><td>0      </td><td>0      </td><td>0      </td><td>0      </td><td>0      </td><td>0      </td><td>0      </td><td>0      </td><td>0      </td><td>0      </td><td>0      </td><td>0      </td><td>0      </td><td>0      </td><td>0      </td><td>0      </td><td>0      </td><td>0      </td><td>0      </td><td>0      </td><td>0      </td><td>0      </td><td>0      </td><td>0      </td><td>0      </td><td>0      </td><td>0      </td><td>0      </td><td>0      </td><td>0      </td><td>0      </td><td>0      </td><td>0      </td><td>0      </td><td>0      </td><td>0      </td><td>0      </td><td>0      </td><td>0      </td><td>0      </td><td>0      </td><td>0      </td><td>0      </td><td>0      </td><td>0      </td><td>0      </td><td>0      </td><td>0      </td><td>0      </td><td>0      </td><td>0      </td><td>0      </td><td>0      </td><td>0      </td><td>0      </td><td>0      </td><td>0       </td><td>0       </td><td>0       </td><td>0       </td><td>0       </td><td>0       </td><td>0       </td><td>0       </td><td>0       </td><td>0       </td><td>0       </td><td>0       </td><td>0       </td><td>0       </td><td>0       </td><td>0       </td><td>0       </td><td>0                  </td><td>0                  </td><td>0                 </td><td>0                  </td><td>0                  </td><td>0                  </td><td>0                  </td><td>0                  </td><td>0                  </td><td>0                  </td><td>0                  </td><td>0                  </td><td>0                  </td><td>0                 </td><td>0                 </td></tr>\n",
       "<tr><td>0      </td><td>1.0               </td><td>A     </td><td>B     </td><td>A     </td><td>B     </td><td>A     </td><td>A     </td><td>A     </td><td>A     </td><td>B     </td><td>A      </td><td>B      </td><td>A      </td><td>A      </td><td>A      </td><td>A      </td><td>A      </td><td>A      </td><td>A      </td><td>A      </td><td>A      </td><td>A      </td><td>A      </td><td>B      </td><td>A      </td><td>A      </td><td>A      </td><td>A      </td><td>A      </td><td>A      </td><td>A      </td><td>A      </td><td>A      </td><td>A      </td><td>A      </td><td>A      </td><td>A      </td><td>A      </td><td>A      </td><td>A      </td><td>A      </td><td>A      </td><td>A      </td><td>A      </td><td>A      </td><td>A      </td><td>A      </td><td>A      </td><td>A      </td><td>A      </td><td>A      </td><td>A      </td><td>A      </td><td>A      </td><td>A      </td><td>A      </td><td>A      </td><td>A      </td><td>A      </td><td>A      </td><td>A      </td><td>A      </td><td>A      </td><td>A      </td><td>A      </td><td>A      </td><td>A      </td><td>A      </td><td>A      </td><td>A      </td><td>A      </td><td>A      </td><td>A      </td><td>A      </td><td>A      </td><td>B      </td><td>A      </td><td>D      </td><td>B      </td><td>B      </td><td>D      </td><td>D      </td><td>B      </td><td>D      </td><td>C      </td><td>B      </td><td>D      </td><td>B      </td><td>A      </td><td>A      </td><td>A      </td><td>A      </td><td>A      </td><td>D      </td><td>B      </td><td>C      </td><td>E      </td><td>A      </td><td>C      </td><td>T      </td><td>B       </td><td>G       </td><td>A       </td><td>A       </td><td>I       </td><td>E       </td><td>G       </td><td>J       </td><td>G       </td><td>BU      </td><td>BC      </td><td>C       </td><td>AS      </td><td>S       </td><td>A       </td><td>O       </td><td>LB      </td><td>0.7263             </td><td>0.245921           </td><td>0.187583          </td><td>0.789639           </td><td>0.310061           </td><td>0.718367           </td><td>0.33506            </td><td>0.3026             </td><td>0.67135            </td><td>0.8351             </td><td>0.569745           </td><td>0.594646           </td><td>0.822493           </td><td>0.714843          </td><td>2213.18           </td></tr>\n",
       "<tr><td>1      </td><td>2.0               </td><td>A     </td><td>B     </td><td>A     </td><td>A     </td><td>A     </td><td>A     </td><td>A     </td><td>A     </td><td>B     </td><td>B      </td><td>A      </td><td>A      </td><td>A      </td><td>A      </td><td>A      </td><td>A      </td><td>A      </td><td>A      </td><td>A      </td><td>A      </td><td>A      </td><td>A      </td><td>A      </td><td>A      </td><td>A      </td><td>A      </td><td>A      </td><td>A      </td><td>A      </td><td>A      </td><td>A      </td><td>A      </td><td>A      </td><td>A      </td><td>A      </td><td>A      </td><td>A      </td><td>A      </td><td>A      </td><td>A      </td><td>A      </td><td>A      </td><td>A      </td><td>A      </td><td>A      </td><td>A      </td><td>A      </td><td>A      </td><td>A      </td><td>A      </td><td>A      </td><td>A      </td><td>A      </td><td>A      </td><td>A      </td><td>A      </td><td>A      </td><td>A      </td><td>A      </td><td>A      </td><td>A      </td><td>A      </td><td>A      </td><td>A      </td><td>A      </td><td>A      </td><td>A      </td><td>A      </td><td>A      </td><td>A      </td><td>A      </td><td>A      </td><td>A      </td><td>A      </td><td>A      </td><td>A      </td><td>D      </td><td>B      </td><td>B      </td><td>D      </td><td>D      </td><td>A      </td><td>B      </td><td>C      </td><td>B      </td><td>D      </td><td>B      </td><td>A      </td><td>A      </td><td>A      </td><td>A      </td><td>A      </td><td>D      </td><td>D      </td><td>C      </td><td>E      </td><td>E      </td><td>D      </td><td>T      </td><td>L       </td><td>F       </td><td>A       </td><td>A       </td><td>E       </td><td>E       </td><td>I       </td><td>K       </td><td>K       </td><td>BI      </td><td>CQ      </td><td>A       </td><td>AV      </td><td>BM      </td><td>A       </td><td>O       </td><td>DP      </td><td>0.330514           </td><td>0.737068           </td><td>0.592681          </td><td>0.614134           </td><td>0.885834           </td><td>0.438917           </td><td>0.436585           </td><td>0.60087            </td><td>0.35127            </td><td>0.43919            </td><td>0.338312           </td><td>0.366307           </td><td>0.611431           </td><td>0.304496          </td><td>1283.6            </td></tr>\n",
       "<tr><td>2      </td><td>5.0               </td><td>A     </td><td>B     </td><td>A     </td><td>A     </td><td>B     </td><td>A     </td><td>A     </td><td>A     </td><td>B     </td><td>B      </td><td>B      </td><td>B      </td><td>B      </td><td>A      </td><td>A      </td><td>A      </td><td>A      </td><td>A      </td><td>A      </td><td>A      </td><td>A      </td><td>A      </td><td>A      </td><td>A      </td><td>A      </td><td>A      </td><td>A      </td><td>A      </td><td>A      </td><td>A      </td><td>A      </td><td>A      </td><td>A      </td><td>A      </td><td>A      </td><td>B      </td><td>A      </td><td>A      </td><td>A      </td><td>A      </td><td>A      </td><td>A      </td><td>A      </td><td>A      </td><td>A      </td><td>A      </td><td>A      </td><td>A      </td><td>A      </td><td>A      </td><td>A      </td><td>A      </td><td>A      </td><td>A      </td><td>A      </td><td>A      </td><td>A      </td><td>A      </td><td>A      </td><td>A      </td><td>A      </td><td>A      </td><td>A      </td><td>A      </td><td>A      </td><td>A      </td><td>A      </td><td>A      </td><td>A      </td><td>A      </td><td>A      </td><td>A      </td><td>A      </td><td>A      </td><td>A      </td><td>A      </td><td>D      </td><td>B      </td><td>B      </td><td>B      </td><td>D      </td><td>B      </td><td>D      </td><td>C      </td><td>B      </td><td>B      </td><td>B      </td><td>A      </td><td>A      </td><td>A      </td><td>A      </td><td>A      </td><td>D      </td><td>D      </td><td>C      </td><td>E      </td><td>E      </td><td>A      </td><td>D      </td><td>L       </td><td>O       </td><td>A       </td><td>B       </td><td>E       </td><td>F       </td><td>H       </td><td>F       </td><td>A       </td><td>AB      </td><td>DK      </td><td>A       </td><td>C       </td><td>AF      </td><td>A       </td><td>I       </td><td>GK      </td><td>0.261841           </td><td>0.358319           </td><td>0.484196          </td><td>0.236924           </td><td>0.397069           </td><td>0.289648           </td><td>0.315545           </td><td>0.2732             </td><td>0.26076            </td><td>0.32446            </td><td>0.381398           </td><td>0.373424           </td><td>0.195709           </td><td>0.774425          </td><td>3005.09           </td></tr>\n",
       "<tr><td>3      </td><td>10.0              </td><td>B     </td><td>B     </td><td>A     </td><td>B     </td><td>A     </td><td>A     </td><td>A     </td><td>A     </td><td>B     </td><td>A      </td><td>A      </td><td>A      </td><td>A      </td><td>A      </td><td>A      </td><td>A      </td><td>A      </td><td>A      </td><td>A      </td><td>A      </td><td>A      </td><td>A      </td><td>B      </td><td>A      </td><td>A      </td><td>A      </td><td>A      </td><td>A      </td><td>A      </td><td>A      </td><td>A      </td><td>A      </td><td>A      </td><td>A      </td><td>A      </td><td>A      </td><td>A      </td><td>A      </td><td>A      </td><td>A      </td><td>A      </td><td>A      </td><td>A      </td><td>A      </td><td>A      </td><td>A      </td><td>A      </td><td>A      </td><td>A      </td><td>A      </td><td>A      </td><td>A      </td><td>A      </td><td>A      </td><td>A      </td><td>A      </td><td>A      </td><td>A      </td><td>A      </td><td>A      </td><td>A      </td><td>A      </td><td>A      </td><td>A      </td><td>A      </td><td>A      </td><td>A      </td><td>A      </td><td>A      </td><td>A      </td><td>A      </td><td>A      </td><td>B      </td><td>A      </td><td>A      </td><td>A      </td><td>D      </td><td>B      </td><td>B      </td><td>D      </td><td>D      </td><td>D      </td><td>B      </td><td>C      </td><td>B      </td><td>D      </td><td>B      </td><td>A      </td><td>A      </td><td>A      </td><td>A      </td><td>A      </td><td>D      </td><td>D      </td><td>C      </td><td>E      </td><td>E      </td><td>D      </td><td>T      </td><td>I       </td><td>D       </td><td>A       </td><td>A       </td><td>E       </td><td>E       </td><td>I       </td><td>K       </td><td>K       </td><td>BI      </td><td>CS      </td><td>C       </td><td>N       </td><td>AE      </td><td>A       </td><td>O       </td><td>DJ      </td><td>0.321594           </td><td>0.555782           </td><td>0.527991          </td><td>0.373816           </td><td>0.422268           </td><td>0.440945           </td><td>0.391128           </td><td>0.31796            </td><td>0.32128            </td><td>0.44467            </td><td>0.327915           </td><td>0.32157            </td><td>0.605077           </td><td>0.602642          </td><td>939.85            </td></tr>\n",
       "<tr><td>4      </td><td>11.0              </td><td>A     </td><td>B     </td><td>A     </td><td>B     </td><td>A     </td><td>A     </td><td>A     </td><td>A     </td><td>B     </td><td>B      </td><td>A      </td><td>B      </td><td>A      </td><td>A      </td><td>A      </td><td>A      </td><td>A      </td><td>A      </td><td>A      </td><td>A      </td><td>A      </td><td>A      </td><td>B      </td><td>A      </td><td>A      </td><td>A      </td><td>A      </td><td>A      </td><td>A      </td><td>A      </td><td>A      </td><td>A      </td><td>A      </td><td>A      </td><td>A      </td><td>A      </td><td>A      </td><td>A      </td><td>A      </td><td>A      </td><td>A      </td><td>A      </td><td>A      </td><td>A      </td><td>A      </td><td>A      </td><td>A      </td><td>A      </td><td>A      </td><td>A      </td><td>A      </td><td>A      </td><td>A      </td><td>A      </td><td>A      </td><td>A      </td><td>A      </td><td>A      </td><td>A      </td><td>A      </td><td>A      </td><td>A      </td><td>A      </td><td>A      </td><td>A      </td><td>A      </td><td>A      </td><td>A      </td><td>A      </td><td>A      </td><td>A      </td><td>B      </td><td>A      </td><td>A      </td><td>A      </td><td>A      </td><td>D      </td><td>B      </td><td>D      </td><td>B      </td><td>D      </td><td>B      </td><td>B      </td><td>C      </td><td>B      </td><td>B      </td><td>C      </td><td>A      </td><td>A      </td><td>A      </td><td>B      </td><td>H      </td><td>D      </td><td>B      </td><td>D      </td><td>E      </td><td>E      </td><td>A      </td><td>P      </td><td>F       </td><td>J       </td><td>A       </td><td>A       </td><td>D       </td><td>E       </td><td>K       </td><td>G       </td><td>B       </td><td>H       </td><td>C       </td><td>C       </td><td>Y       </td><td>BM      </td><td>A       </td><td>K       </td><td>CK      </td><td>0.273204           </td><td>0.15999            </td><td>0.527991          </td><td>0.473202           </td><td>0.704268           </td><td>0.178193           </td><td>0.247408           </td><td>0.24564            </td><td>0.22089            </td><td>0.2123             </td><td>0.204687           </td><td>0.202213           </td><td>0.246011           </td><td>0.432606          </td><td>2763.85           </td></tr>\n",
       "<tr><td>5      </td><td>13.0              </td><td>A     </td><td>B     </td><td>A     </td><td>A     </td><td>A     </td><td>A     </td><td>A     </td><td>A     </td><td>B     </td><td>A      </td><td>A      </td><td>A      </td><td>A      </td><td>A      </td><td>A      </td><td>A      </td><td>A      </td><td>A      </td><td>A      </td><td>A      </td><td>A      </td><td>A      </td><td>A      </td><td>A      </td><td>A      </td><td>A      </td><td>A      </td><td>A      </td><td>A      </td><td>A      </td><td>A      </td><td>A      </td><td>A      </td><td>A      </td><td>A      </td><td>A      </td><td>A      </td><td>A      </td><td>A      </td><td>A      </td><td>A      </td><td>A      </td><td>A      </td><td>A      </td><td>A      </td><td>A      </td><td>A      </td><td>A      </td><td>A      </td><td>A      </td><td>A      </td><td>A      </td><td>A      </td><td>A      </td><td>A      </td><td>A      </td><td>A      </td><td>A      </td><td>A      </td><td>A      </td><td>A      </td><td>A      </td><td>A      </td><td>A      </td><td>A      </td><td>A      </td><td>A      </td><td>A      </td><td>A      </td><td>A      </td><td>A      </td><td>B      </td><td>A      </td><td>A      </td><td>A      </td><td>A      </td><td>D      </td><td>B      </td><td>D      </td><td>B      </td><td>D      </td><td>B      </td><td>B      </td><td>C      </td><td>B      </td><td>B      </td><td>B      </td><td>A      </td><td>A      </td><td>A      </td><td>A      </td><td>A      </td><td>D      </td><td>D      </td><td>D      </td><td>E      </td><td>C      </td><td>A      </td><td>P      </td><td>J       </td><td>D       </td><td>A       </td><td>A       </td><td>E       </td><td>E       </td><td>H       </td><td>F       </td><td>B       </td><td>BI      </td><td>CS      </td><td>A       </td><td>AS      </td><td>AE      </td><td>A       </td><td>K       </td><td>DJ      </td><td>0.54667            </td><td>0.681761           </td><td>0.634224          </td><td>0.373816           </td><td>0.302678           </td><td>0.364464           </td><td>0.401162           </td><td>0.26847            </td><td>0.46226            </td><td>0.50556            </td><td>0.366788           </td><td>0.359249           </td><td>0.345247           </td><td>0.726792          </td><td>5142.87           </td></tr>\n",
       "<tr><td>6      </td><td>14.0              </td><td>A     </td><td>A     </td><td>A     </td><td>A     </td><td>B     </td><td>A     </td><td>A     </td><td>A     </td><td>A     </td><td>A      </td><td>A      </td><td>A      </td><td>A      </td><td>A      </td><td>A      </td><td>A      </td><td>A      </td><td>A      </td><td>A      </td><td>A      </td><td>A      </td><td>A      </td><td>A      </td><td>A      </td><td>A      </td><td>A      </td><td>A      </td><td>A      </td><td>A      </td><td>A      </td><td>A      </td><td>A      </td><td>A      </td><td>A      </td><td>A      </td><td>B      </td><td>A      </td><td>A      </td><td>A      </td><td>A      </td><td>B      </td><td>A      </td><td>A      </td><td>A      </td><td>A      </td><td>A      </td><td>A      </td><td>A      </td><td>A      </td><td>A      </td><td>A      </td><td>A      </td><td>A      </td><td>A      </td><td>A      </td><td>A      </td><td>A      </td><td>A      </td><td>A      </td><td>A      </td><td>A      </td><td>A      </td><td>A      </td><td>A      </td><td>A      </td><td>A      </td><td>A      </td><td>A      </td><td>A      </td><td>A      </td><td>A      </td><td>A      </td><td>A      </td><td>A      </td><td>A      </td><td>A      </td><td>D      </td><td>B      </td><td>B      </td><td>D      </td><td>D      </td><td>B      </td><td>D      </td><td>C      </td><td>B      </td><td>B      </td><td>B      </td><td>A      </td><td>A      </td><td>A      </td><td>A      </td><td>A      </td><td>D      </td><td>D      </td><td>D      </td><td>E      </td><td>C      </td><td>A      </td><td>P      </td><td>J       </td><td>A       </td><td>A       </td><td>C       </td><td>E       </td><td>E       </td><td>H       </td><td>F       </td><td>B       </td><td>BI      </td><td>DK      </td><td>A       </td><td>J       </td><td>AF      </td><td>A       </td><td>K       </td><td>DJ      </td><td>0.471447           </td><td>0.737068           </td><td>0.61366           </td><td>0.189137           </td><td>0.295397           </td><td>0.381515           </td><td>0.363768           </td><td>0.24564            </td><td>0.40455            </td><td>0.47225            </td><td>0.334828           </td><td>0.352251           </td><td>0.342239           </td><td>0.382931          </td><td>1132.22           </td></tr>\n",
       "<tr><td>7      </td><td>20.0              </td><td>A     </td><td>B     </td><td>A     </td><td>B     </td><td>A     </td><td>A     </td><td>A     </td><td>A     </td><td>B     </td><td>A      </td><td>A      </td><td>A      </td><td>A      </td><td>A      </td><td>A      </td><td>A      </td><td>A      </td><td>A      </td><td>A      </td><td>A      </td><td>A      </td><td>A      </td><td>B      </td><td>A      </td><td>A      </td><td>A      </td><td>A      </td><td>B      </td><td>A      </td><td>A      </td><td>A      </td><td>B      </td><td>A      </td><td>A      </td><td>A      </td><td>A      </td><td>A      </td><td>A      </td><td>A      </td><td>A      </td><td>A      </td><td>A      </td><td>A      </td><td>A      </td><td>A      </td><td>A      </td><td>A      </td><td>A      </td><td>A      </td><td>A      </td><td>A      </td><td>A      </td><td>A      </td><td>A      </td><td>A      </td><td>A      </td><td>A      </td><td>A      </td><td>A      </td><td>A      </td><td>A      </td><td>A      </td><td>A      </td><td>A      </td><td>A      </td><td>A      </td><td>A      </td><td>A      </td><td>A      </td><td>A      </td><td>A      </td><td>A      </td><td>A      </td><td>A      </td><td>A      </td><td>A      </td><td>D      </td><td>B      </td><td>D      </td><td>B      </td><td>D      </td><td>A      </td><td>B      </td><td>C      </td><td>B      </td><td>D      </td><td>C      </td><td>D      </td><td>A      </td><td>A      </td><td>A      </td><td>A      </td><td>C      </td><td>B      </td><td>C      </td><td>E      </td><td>A      </td><td>C      </td><td>T      </td><td>H       </td><td>C       </td><td>A       </td><td>A       </td><td>K       </td><td>F       </td><td>F       </td><td>I       </td><td>G       </td><td>BI      </td><td>EB      </td><td>G       </td><td>AH      </td><td>Y       </td><td>A       </td><td>P       </td><td>LO      </td><td>0.826591           </td><td>0.488789           </td><td>0.26357           </td><td>0.62377            </td><td>0.473767           </td><td>0.867021           </td><td>0.583389           </td><td>0.90267            </td><td>0.84847            </td><td>0.80218            </td><td>0.644013           </td><td>0.785706           </td><td>0.859764           </td><td>0.242416          </td><td>3585.75           </td></tr>\n",
       "<tr><td>8      </td><td>23.0              </td><td>A     </td><td>B     </td><td>B     </td><td>B     </td><td>B     </td><td>A     </td><td>A     </td><td>A     </td><td>B     </td><td>B      </td><td>B      </td><td>B      </td><td>B      </td><td>A      </td><td>A      </td><td>B      </td><td>A      </td><td>A      </td><td>A      </td><td>A      </td><td>A      </td><td>A      </td><td>B      </td><td>A      </td><td>A      </td><td>A      </td><td>A      </td><td>A      </td><td>A      </td><td>A      </td><td>A      </td><td>A      </td><td>A      </td><td>A      </td><td>A      </td><td>B      </td><td>A      </td><td>B      </td><td>A      </td><td>A      </td><td>A      </td><td>A      </td><td>A      </td><td>A      </td><td>A      </td><td>A      </td><td>A      </td><td>A      </td><td>A      </td><td>A      </td><td>A      </td><td>A      </td><td>A      </td><td>A      </td><td>A      </td><td>A      </td><td>A      </td><td>A      </td><td>A      </td><td>A      </td><td>A      </td><td>A      </td><td>A      </td><td>A      </td><td>A      </td><td>A      </td><td>A      </td><td>A      </td><td>A      </td><td>A      </td><td>A      </td><td>B      </td><td>A      </td><td>A      </td><td>A      </td><td>A      </td><td>D      </td><td>B      </td><td>D      </td><td>B      </td><td>B      </td><td>B      </td><td>B      </td><td>C      </td><td>B      </td><td>D      </td><td>D      </td><td>A      </td><td>A      </td><td>B      </td><td>A      </td><td>A      </td><td>D      </td><td>C      </td><td>C      </td><td>E      </td><td>C      </td><td>D      </td><td>T      </td><td>C       </td><td>Q       </td><td>A       </td><td>C       </td><td>H       </td><td>F       </td><td>G       </td><td>M       </td><td>K       </td><td>BI      </td><td>BC      </td><td>C       </td><td>K       </td><td>AX      </td><td>A       </td><td>Q       </td><td>IE      </td><td>0.330514           </td><td>0.555782           </td><td>0.440642          </td><td>0.473202           </td><td>0.281143           </td><td>0.628534           </td><td>0.384099           </td><td>0.61229            </td><td>0.38249            </td><td>0.51111            </td><td>0.682315           </td><td>0.669033           </td><td>0.756454           </td><td>0.361191          </td><td>10280.2           </td></tr>\n",
       "<tr><td>9      </td><td>24.0              </td><td>A     </td><td>B     </td><td>A     </td><td>A     </td><td>B     </td><td>B     </td><td>A     </td><td>A     </td><td>B     </td><td>A      </td><td>A      </td><td>A      </td><td>A      </td><td>A      </td><td>A      </td><td>A      </td><td>A      </td><td>A      </td><td>A      </td><td>A      </td><td>A      </td><td>A      </td><td>A      </td><td>A      </td><td>A      </td><td>A      </td><td>A      </td><td>A      </td><td>A      </td><td>A      </td><td>A      </td><td>A      </td><td>A      </td><td>A      </td><td>A      </td><td>B      </td><td>A      </td><td>B      </td><td>B      </td><td>B      </td><td>A      </td><td>B      </td><td>A      </td><td>A      </td><td>A      </td><td>A      </td><td>A      </td><td>A      </td><td>A      </td><td>B      </td><td>A      </td><td>B      </td><td>A      </td><td>A      </td><td>A      </td><td>A      </td><td>A      </td><td>A      </td><td>A      </td><td>A      </td><td>A      </td><td>A      </td><td>A      </td><td>A      </td><td>A      </td><td>A      </td><td>A      </td><td>A      </td><td>A      </td><td>A      </td><td>A      </td><td>A      </td><td>A      </td><td>A      </td><td>A      </td><td>A      </td><td>D      </td><td>B      </td><td>B      </td><td>B      </td><td>B      </td><td>B      </td><td>B      </td><td>C      </td><td>B      </td><td>D      </td><td>C      </td><td>D      </td><td>A      </td><td>A      </td><td>B      </td><td>H      </td><td>D      </td><td>B      </td><td>C      </td><td>E      </td><td>A      </td><td>C      </td><td>T      </td><td>F       </td><td>D       </td><td>A       </td><td>F       </td><td>K       </td><td>H       </td><td>G       </td><td>J       </td><td>G       </td><td>BU      </td><td>DW      </td><td>A       </td><td>U       </td><td>S       </td><td>J       </td><td>O       </td><td>LY      </td><td>0.7263             </td><td>0.358319           </td><td>0.356819          </td><td>0.802892           </td><td>0.310061           </td><td>0.713343           </td><td>0.469223           </td><td>0.3026             </td><td>0.67135            </td><td>0.8351             </td><td>0.863052           </td><td>0.879347           </td><td>0.822493           </td><td>0.294523          </td><td>6184.59           </td></tr>\n",
       "</tbody>\n",
       "</table>"
      ]
     },
     "metadata": {},
     "output_type": "display_data"
    }
   ],
   "source": [
    "data.describe()"
   ]
  },
  {
   "cell_type": "code",
   "execution_count": 4,
   "metadata": {},
   "outputs": [],
   "source": [
    "target = 'loss'\n",
    "ID = 'id'\n",
    "data.drop([ID], axis=1)\n",
    "train, valid = data.split_frame(ratios=[0.8], seed=1)\n",
    "# valid = data.drop(train.index)\n",
    "features = train.columns"
   ]
  },
  {
   "cell_type": "code",
   "execution_count": 5,
   "metadata": {},
   "outputs": [],
   "source": [
    "cats = [feat for feat in features if 'cat' in feat]\n",
    "for feat in cats:\n",
    "    train[feat] = train[feat].asfactor()\n",
    "    valid[feat] = valid[feat].asfactor()\n",
    "\n",
    "y_train = (train[target])\n",
    "y_valid = (valid[target])\n",
    "\n",
    "# y_train = np.log(train[target].ravel())\n",
    "# y_valid = np.log(valid[target].ravel())"
   ]
  },
  {
   "cell_type": "code",
   "execution_count": 6,
   "metadata": {},
   "outputs": [
    {
     "name": "stdout",
     "output_type": "stream",
     "text": [
      "AutoML progress: |████████████████████████████████████████████████████████| 100%\n"
     ]
    },
    {
     "data": {
      "text/html": [
       "<table>\n",
       "<thead>\n",
       "<tr><th>model_id                    </th><th style=\"text-align: right;\">  mean_residual_deviance</th><th style=\"text-align: right;\">   rmse</th><th style=\"text-align: right;\">        mse</th><th style=\"text-align: right;\">   mae</th><th style=\"text-align: right;\">   rmsle</th></tr>\n",
       "</thead>\n",
       "<tbody>\n",
       "<tr><td>DRF_0_AutoML_20180907_141644</td><td style=\"text-align: right;\">             4.23395e+06</td><td style=\"text-align: right;\">2057.66</td><td style=\"text-align: right;\">4.23395e+06</td><td style=\"text-align: right;\">1277.5</td><td style=\"text-align: right;\">0.599227</td></tr>\n",
       "</tbody>\n",
       "</table>"
      ]
     },
     "metadata": {},
     "output_type": "display_data"
    },
    {
     "data": {
      "text/plain": []
     },
     "execution_count": 6,
     "metadata": {},
     "output_type": "execute_result"
    }
   ],
   "source": [
    "# Identify predictors and response\n",
    "x = train.columns\n",
    "\n",
    "aml = H2OAutoML(max_runtime_secs = 30)\n",
    "aml.train(x = x, y = \"loss\",\n",
    "          training_frame = train)\n",
    "\n",
    "# View the AutoML Leaderboard\n",
    "lb = aml.leaderboard\n",
    "lb"
   ]
  },
  {
   "cell_type": "markdown",
   "metadata": {},
   "source": [
    "If you need to generate predictions on a test set, you can make predictions directly on the `\"H2OAutoML\"` object, or on the leader model object directly"
   ]
  },
  {
   "cell_type": "code",
   "execution_count": 7,
   "metadata": {},
   "outputs": [
    {
     "name": "stdout",
     "output_type": "stream",
     "text": [
      "drf prediction progress: |████████████████████████████████████████████████| 100%\n",
      "drf prediction progress: |████████████████████████████████████████████████| 100%\n"
     ]
    }
   ],
   "source": [
    "# The leader model is stored here\n",
    "aml.leader\n",
    "preds = aml.predict(valid)\n",
    "# or:\n",
    "preds = aml.leader.predict(valid)"
   ]
  },
  {
   "cell_type": "code",
   "execution_count": null,
   "metadata": {},
   "outputs": [
    {
     "name": "stdout",
     "output_type": "stream",
     "text": [
      "gbm Grid Build progress: |██████████████████"
     ]
    }
   ],
   "source": [
    "# GBM hyperparameters\n",
    "\n",
    "gbm_params1 = {'learn_rate': [0.01, 0.1],\n",
    "                'max_depth': [3, 5, 9],\n",
    "                'sample_rate': [0.8, 1.0],\n",
    "                'col_sample_rate': [0.2, 0.5, 1.0]}\n",
    "\n",
    "# Train and validate a cartesian grid of GBMs\n",
    "gbm_grid1 = H2OGridSearch(model=H2OGradientBoostingEstimator,\n",
    "                          grid_id='gbm_grid1',\n",
    "                          hyper_params=gbm_params1)\n",
    "gbm_grid1.train(x=x, y=\"loss\",\n",
    "                training_frame=train,\n",
    "                validation_frame=valid,\n",
    "                ntrees=100,\n",
    "                seed=1)\n",
    "\n",
    "# Get the grid results, sorted by validation MAE\n",
    "gbm_gridperf1 = gbm_grid1.get_grid(sort_by='mae', decreasing=False)"
   ]
  },
  {
   "cell_type": "markdown",
   "metadata": {},
   "source": [
    "### Grid Search with H2o"
   ]
  },
  {
   "cell_type": "code",
   "execution_count": null,
   "metadata": {},
   "outputs": [],
   "source": [
    "gbm_gridperf1"
   ]
  },
  {
   "cell_type": "markdown",
   "metadata": {},
   "source": [
    "Now let's evaluate the model performance on a test set so we get an honest estimate of top model performance"
   ]
  },
  {
   "cell_type": "code",
   "execution_count": null,
   "metadata": {},
   "outputs": [],
   "source": [
    "# Grab the top GBM model, chosen by validation MAE\n",
    "best_gbm1 = gbm_gridperf1.models[0]\n",
    "best_gbm_perf1 = best_gbm1.model_performance(valid)\n",
    "best_gbm_perf1"
   ]
  },
  {
   "cell_type": "markdown",
   "metadata": {},
   "source": [
    "### Hyperparameter with hyperopt"
   ]
  },
  {
   "cell_type": "code",
   "execution_count": null,
   "metadata": {},
   "outputs": [],
   "source": [
    "def xgb_eval_mae(yhat, dtrain):\n",
    "    y = dtrain.get_label()\n",
    "    return 'mae', mean_absolute_error(np.exp(y), np.exp(yhat))\n",
    "\n",
    "def objective(space):\n",
    "\n",
    "    clf = xgb.XGBRegressor(n_estimators = space['n_estimators'],\n",
    "                           max_depth = space['max_depth'],\n",
    "                           min_child_weight = space['min_child_weight'],\n",
    "                           subsample = space['subsample'],\n",
    "                           learning_rate = space['learning_rate'],\n",
    "                           gamma = space['gamma'],\n",
    "                           colsample_bytree = space['colsample_bytree'],\n",
    "                           objective='reg:linear',\n",
    "                           early_stopping_rounds = 10\n",
    "                           )\n",
    "\n",
    "    eval_set  = [( train, y_train), ( valid, y_valid)]\n",
    "\n",
    "    clf.fit(train[col_train],\n",
    "            y_train,\n",
    "            eval_set=eval_set,\n",
    "            eval_metric = 'mae')\n",
    "    pred = clf.predict(valid)\n",
    "    #   mae = mean_absolute_error(np.exp(y_valid), np.exp(pred))\n",
    "    mae = mean_absolute_error((y_valid), (pred))\n",
    "\n",
    "    #    print \"SCORE:\", mae\n",
    "    return{'loss':mae, 'status': STATUS_OK }\n",
    "\n",
    "\n",
    "space = {\n",
    "        'max_depth': hp.choice('max_depth', np.arange(10, 30, dtype=int)),\n",
    "        'min_child_weight': hp.quniform ('min_child', 1, 20, 1),\n",
    "        'subsample': hp.uniform ('subsample', 0.8, 1),\n",
    "        'n_estimators' : hp.choice('n_estimators', np.arange(1000, 10000, 100, dtype=int)),\n",
    "        'learning_rate' : hp.quniform('learning_rate', 0.025, 0.5, 0.025),\n",
    "        'gamma' : hp.quniform('gamma', 0.5, 1, 0.05),\n",
    "        'colsample_bytree' : hp.quniform('colsample_bytree', 0.5, 1, 0.05)\n",
    "    }"
   ]
  },
  {
   "cell_type": "code",
   "execution_count": null,
   "metadata": {
    "scrolled": true
   },
   "outputs": [],
   "source": [
    "train = train.as_data_frame()\n",
    "valid = valid.as_data_frame()\n",
    "\n",
    "\n",
    "features = train.columns\n",
    "\n",
    "cats = [feat for feat in features if 'cat' in feat]\n",
    "for feat in cats:\n",
    "    train[feat] = pd.factorize(train[feat], sort=True)[0]\n",
    "    valid[feat] = pd.factorize(valid[feat], sort=True)[0]\n",
    "\n",
    "\n",
    "y_train = (train[target])\n",
    "y_valid = (valid[target])\n",
    "\n",
    "#y_train = np.log(train[target].ravel())\n",
    "#y_valid = np.log(valid[target].ravel())\n",
    "\n",
    "del train[target]\n",
    "del valid[target]\n",
    "\n",
    "col_train = train.columns\n",
    "\n",
    "trials = Trials()\n",
    "\n",
    "best = fmin(fn=objective,\n",
    "            space=space,\n",
    "            algo=tpe.suggest,\n",
    "            max_evals = 100, # change\n",
    "            trials=trials)\n",
    "\n"
   ]
  },
  {
   "cell_type": "markdown",
   "metadata": {},
   "source": [
    "### Results Comparison\n",
    "\n",
    "Basemodel MAE: 1280\n",
    "GridSearch MAE:\n",
    "HyperOpt MAE:"
   ]
  }
 ],
 "metadata": {
  "kernelspec": {
   "display_name": "Python 3",
   "language": "python",
   "name": "python3"
  },
  "language_info": {
   "codemirror_mode": {
    "name": "ipython",
    "version": 3
   },
   "file_extension": ".py",
   "mimetype": "text/x-python",
   "name": "python",
   "nbconvert_exporter": "python",
   "pygments_lexer": "ipython3",
   "version": "3.5.2"
  }
 },
 "nbformat": 4,
 "nbformat_minor": 2
}
